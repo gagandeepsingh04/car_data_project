{
 "cells": [
  {
   "cell_type": "markdown",
   "metadata": {},
   "source": [
    "# Data Cleaning"
   ]
  },
  {
   "cell_type": "code",
   "execution_count": 338,
   "metadata": {},
   "outputs": [],
   "source": [
    "# required libraries\n",
    "import pandas as pd \n",
    "import numpy as np \n",
    "import seaborn as sns\n",
    "import matplotlib.pyplot as plt "
   ]
  },
  {
   "cell_type": "code",
   "execution_count": 339,
   "metadata": {},
   "outputs": [
    {
     "data": {
      "text/html": [
       "<div>\n",
       "<style scoped>\n",
       "    .dataframe tbody tr th:only-of-type {\n",
       "        vertical-align: middle;\n",
       "    }\n",
       "\n",
       "    .dataframe tbody tr th {\n",
       "        vertical-align: top;\n",
       "    }\n",
       "\n",
       "    .dataframe thead th {\n",
       "        text-align: right;\n",
       "    }\n",
       "</style>\n",
       "<table border=\"1\" class=\"dataframe\">\n",
       "  <thead>\n",
       "    <tr style=\"text-align: right;\">\n",
       "      <th></th>\n",
       "      <th>Unnamed: 0</th>\n",
       "      <th>Make</th>\n",
       "      <th>Model</th>\n",
       "      <th>Variant</th>\n",
       "      <th>Ex-Showroom_Price</th>\n",
       "      <th>Displacement</th>\n",
       "      <th>Cylinders</th>\n",
       "      <th>Valves_Per_Cylinder</th>\n",
       "      <th>Drivetrain</th>\n",
       "      <th>Cylinder_Configuration</th>\n",
       "      <th>Emission_Norm</th>\n",
       "      <th>Engine_Location</th>\n",
       "      <th>Fuel_System</th>\n",
       "      <th>Fuel_Tank_Capacity</th>\n",
       "      <th>Fuel_Type</th>\n",
       "      <th>Height</th>\n",
       "      <th>Length</th>\n",
       "      <th>Width</th>\n",
       "      <th>Body_Type</th>\n",
       "      <th>Doors</th>\n",
       "      <th>City_Mileage</th>\n",
       "      <th>Highway_Mileage</th>\n",
       "      <th>ARAI_Certified_Mileage</th>\n",
       "      <th>ARAI_Certified_Mileage_for_CNG</th>\n",
       "      <th>Kerb_Weight</th>\n",
       "      <th>Gears</th>\n",
       "      <th>Ground_Clearance</th>\n",
       "      <th>Front_Brakes</th>\n",
       "      <th>Rear_Brakes</th>\n",
       "      <th>Front_Suspension</th>\n",
       "      <th>Rear_Suspension</th>\n",
       "      <th>Front_Track</th>\n",
       "      <th>Rear_Track</th>\n",
       "      <th>Front_Tyre_&amp;_Rim</th>\n",
       "      <th>Rear_Tyre_&amp;_Rim</th>\n",
       "      <th>Power_Steering</th>\n",
       "      <th>Power_Windows</th>\n",
       "      <th>Power_Seats</th>\n",
       "      <th>Keyless_Entry</th>\n",
       "      <th>Power</th>\n",
       "      <th>Torque</th>\n",
       "      <th>Odometer</th>\n",
       "      <th>Speedometer</th>\n",
       "      <th>Tachometer</th>\n",
       "      <th>Tripmeter</th>\n",
       "      <th>Seating_Capacity</th>\n",
       "      <th>Seats_Material</th>\n",
       "      <th>Type</th>\n",
       "      <th>Wheelbase</th>\n",
       "      <th>Wheels_Size</th>\n",
       "      <th>Start_/_Stop_Button</th>\n",
       "      <th>12v_Power_Outlet</th>\n",
       "      <th>Audiosystem</th>\n",
       "      <th>Aux-in_Compatibility</th>\n",
       "      <th>Average_Fuel_Consumption</th>\n",
       "      <th>Basic_Warranty</th>\n",
       "      <th>Bluetooth</th>\n",
       "      <th>Boot-lid_Opener</th>\n",
       "      <th>Boot_Space</th>\n",
       "      <th>CD_/_MP3_/_DVD_Player</th>\n",
       "      <th>Central_Locking</th>\n",
       "      <th>Child_Safety_Locks</th>\n",
       "      <th>Clock</th>\n",
       "      <th>Cup_Holders</th>\n",
       "      <th>Distance_to_Empty</th>\n",
       "      <th>Door_Pockets</th>\n",
       "      <th>Engine_Malfunction_Light</th>\n",
       "      <th>Extended_Warranty</th>\n",
       "      <th>FM_Radio</th>\n",
       "      <th>Fuel-lid_Opener</th>\n",
       "      <th>Fuel_Gauge</th>\n",
       "      <th>Handbrake</th>\n",
       "      <th>Instrument_Console</th>\n",
       "      <th>Low_Fuel_Warning</th>\n",
       "      <th>Minimum_Turning_Radius</th>\n",
       "      <th>Multifunction_Display</th>\n",
       "      <th>Sun_Visor</th>\n",
       "      <th>Third_Row_AC_Vents</th>\n",
       "      <th>Ventilation_System</th>\n",
       "      <th>Auto-Dimming_Rear-View_Mirror</th>\n",
       "      <th>Hill_Assist</th>\n",
       "      <th>Gear_Indicator</th>\n",
       "      <th>3_Point_Seat-Belt_in_Middle_Rear_Seat</th>\n",
       "      <th>Ambient_Lightning</th>\n",
       "      <th>Cargo/Boot_Lights</th>\n",
       "      <th>Drive_Modes</th>\n",
       "      <th>Engine_Immobilizer</th>\n",
       "      <th>High_Speed_Alert_System</th>\n",
       "      <th>Lane_Watch_Camera/_Side_Mirror_Camera</th>\n",
       "      <th>Passenger_Side_Seat-Belt_Reminder</th>\n",
       "      <th>Seat_Back_Pockets</th>\n",
       "      <th>Voice_Recognition</th>\n",
       "      <th>Walk_Away_Auto_Car_Lock</th>\n",
       "      <th>ABS_(Anti-lock_Braking_System)</th>\n",
       "      <th>Headlight_Reminder</th>\n",
       "      <th>Adjustable_Headrests</th>\n",
       "      <th>Gross_Vehicle_Weight</th>\n",
       "      <th>Airbags</th>\n",
       "      <th>Door_Ajar_Warning</th>\n",
       "      <th>EBD_(Electronic_Brake-force_Distribution)</th>\n",
       "      <th>Fasten_Seat_Belt_Warning</th>\n",
       "      <th>Gear_Shift_Reminder</th>\n",
       "      <th>Number_of_Airbags</th>\n",
       "      <th>Compression_Ratio</th>\n",
       "      <th>Adjustable_Steering_Column</th>\n",
       "      <th>Other_Specs</th>\n",
       "      <th>Other_specs</th>\n",
       "      <th>Parking_Assistance</th>\n",
       "      <th>Key_Off_Reminder</th>\n",
       "      <th>USB_Compatibility</th>\n",
       "      <th>Android_Auto</th>\n",
       "      <th>Apple_CarPlay</th>\n",
       "      <th>Cigarette_Lighter</th>\n",
       "      <th>Infotainment_Screen</th>\n",
       "      <th>Multifunction_Steering_Wheel</th>\n",
       "      <th>Average_Speed</th>\n",
       "      <th>EBA_(Electronic_Brake_Assist)</th>\n",
       "      <th>Seat_Height_Adjustment</th>\n",
       "      <th>Navigation_System</th>\n",
       "      <th>Second_Row_AC_Vents</th>\n",
       "      <th>Tyre_Pressure_Monitoring_System</th>\n",
       "      <th>Rear_Center_Armrest</th>\n",
       "      <th>iPod_Compatibility</th>\n",
       "      <th>ESP_(Electronic_Stability_Program)</th>\n",
       "      <th>Cooled_Glove_Box</th>\n",
       "      <th>Recommended_Tyre_Pressure</th>\n",
       "      <th>Heated_Seats</th>\n",
       "      <th>Turbocharger</th>\n",
       "      <th>ISOFIX_(Child-Seat_Mount)</th>\n",
       "      <th>Rain_Sensing_Wipers</th>\n",
       "      <th>Paddle_Shifters</th>\n",
       "      <th>Leather_Wrapped_Steering</th>\n",
       "      <th>Automatic_Headlamps</th>\n",
       "      <th>Engine_Type</th>\n",
       "      <th>ASR_/_Traction_Control</th>\n",
       "      <th>Cruise_Control</th>\n",
       "      <th>USB_Ports</th>\n",
       "      <th>Heads-Up_Display</th>\n",
       "      <th>Welcome_Lights</th>\n",
       "      <th>Battery</th>\n",
       "      <th>Electric_Range</th>\n",
       "    </tr>\n",
       "  </thead>\n",
       "  <tbody>\n",
       "    <tr>\n",
       "      <th>0</th>\n",
       "      <td>0</td>\n",
       "      <td>Tata</td>\n",
       "      <td>Nano Genx</td>\n",
       "      <td>Xt</td>\n",
       "      <td>Rs. 2,92,667</td>\n",
       "      <td>624 cc</td>\n",
       "      <td>2.0</td>\n",
       "      <td>2.0</td>\n",
       "      <td>RWD (Rear Wheel Drive)</td>\n",
       "      <td>In-line</td>\n",
       "      <td>BS IV</td>\n",
       "      <td>Rear, Transverse</td>\n",
       "      <td>Injection</td>\n",
       "      <td>24 litres</td>\n",
       "      <td>Petrol</td>\n",
       "      <td>1652 mm</td>\n",
       "      <td>3164 mm</td>\n",
       "      <td>1750 mm</td>\n",
       "      <td>Hatchback</td>\n",
       "      <td>5.0</td>\n",
       "      <td>?23.6 km/litre</td>\n",
       "      <td>NaN</td>\n",
       "      <td>23.6 km/litre</td>\n",
       "      <td>NaN</td>\n",
       "      <td>660 kg</td>\n",
       "      <td>4</td>\n",
       "      <td>180 mm</td>\n",
       "      <td>Drum</td>\n",
       "      <td>Drum</td>\n",
       "      <td>Independent, Lower Wishbone, McPherson Strut w...</td>\n",
       "      <td>Independent, Semi Trailing arm with coil sprin...</td>\n",
       "      <td>1325 mm</td>\n",
       "      <td>1315 mm</td>\n",
       "      <td>135/70R12</td>\n",
       "      <td>155/65R12</td>\n",
       "      <td>Electric Power</td>\n",
       "      <td>Only Front Windows</td>\n",
       "      <td>NaN</td>\n",
       "      <td>Remote</td>\n",
       "      <td>38PS@5500rpm</td>\n",
       "      <td>51Nm@4000rpm</td>\n",
       "      <td>Digital</td>\n",
       "      <td>Analog</td>\n",
       "      <td>Not on offer</td>\n",
       "      <td>Yes</td>\n",
       "      <td>4.0</td>\n",
       "      <td>Fabric</td>\n",
       "      <td>Manual</td>\n",
       "      <td>2230 mm</td>\n",
       "      <td>4 B X 12</td>\n",
       "      <td>Yes</td>\n",
       "      <td>Yes</td>\n",
       "      <td>CD Player with USB &amp; Aux-in</td>\n",
       "      <td>Yes</td>\n",
       "      <td>Yes</td>\n",
       "      <td>2 years /75000 Kms (years/distance whichever c...</td>\n",
       "      <td>Yes</td>\n",
       "      <td>Internal</td>\n",
       "      <td>110 litres</td>\n",
       "      <td>Yes</td>\n",
       "      <td>Yes</td>\n",
       "      <td>Yes</td>\n",
       "      <td>Digital</td>\n",
       "      <td>Front</td>\n",
       "      <td>Yes</td>\n",
       "      <td>Front</td>\n",
       "      <td>Yes</td>\n",
       "      <td>2 years /150000 Kms (years/distance whichever ...</td>\n",
       "      <td>Yes</td>\n",
       "      <td>Internal</td>\n",
       "      <td>Digital</td>\n",
       "      <td>Manual</td>\n",
       "      <td>Analog + Digital</td>\n",
       "      <td>Yes</td>\n",
       "      <td>4 meter</td>\n",
       "      <td>Yes</td>\n",
       "      <td>Driver &amp; Front Passenger</td>\n",
       "      <td>Not Applicable</td>\n",
       "      <td>Manual Air conditioning with cooling and heating</td>\n",
       "      <td>NaN</td>\n",
       "      <td>NaN</td>\n",
       "      <td>NaN</td>\n",
       "      <td>NaN</td>\n",
       "      <td>NaN</td>\n",
       "      <td>NaN</td>\n",
       "      <td>NaN</td>\n",
       "      <td>NaN</td>\n",
       "      <td>NaN</td>\n",
       "      <td>NaN</td>\n",
       "      <td>NaN</td>\n",
       "      <td>NaN</td>\n",
       "      <td>NaN</td>\n",
       "      <td>NaN</td>\n",
       "      <td>NaN</td>\n",
       "      <td>NaN</td>\n",
       "      <td>NaN</td>\n",
       "      <td>NaN</td>\n",
       "      <td>NaN</td>\n",
       "      <td>NaN</td>\n",
       "      <td>NaN</td>\n",
       "      <td>NaN</td>\n",
       "      <td>NaN</td>\n",
       "      <td>NaN</td>\n",
       "      <td>NaN</td>\n",
       "      <td>NaN</td>\n",
       "      <td>NaN</td>\n",
       "      <td>NaN</td>\n",
       "      <td>NaN</td>\n",
       "      <td>NaN</td>\n",
       "      <td>NaN</td>\n",
       "      <td>NaN</td>\n",
       "      <td>NaN</td>\n",
       "      <td>NaN</td>\n",
       "      <td>NaN</td>\n",
       "      <td>NaN</td>\n",
       "      <td>NaN</td>\n",
       "      <td>NaN</td>\n",
       "      <td>NaN</td>\n",
       "      <td>NaN</td>\n",
       "      <td>NaN</td>\n",
       "      <td>NaN</td>\n",
       "      <td>NaN</td>\n",
       "      <td>NaN</td>\n",
       "      <td>NaN</td>\n",
       "      <td>NaN</td>\n",
       "      <td>NaN</td>\n",
       "      <td>NaN</td>\n",
       "      <td>NaN</td>\n",
       "      <td>NaN</td>\n",
       "      <td>NaN</td>\n",
       "      <td>NaN</td>\n",
       "      <td>NaN</td>\n",
       "      <td>NaN</td>\n",
       "      <td>NaN</td>\n",
       "      <td>NaN</td>\n",
       "      <td>NaN</td>\n",
       "      <td>NaN</td>\n",
       "      <td>NaN</td>\n",
       "      <td>NaN</td>\n",
       "      <td>NaN</td>\n",
       "      <td>NaN</td>\n",
       "    </tr>\n",
       "    <tr>\n",
       "      <th>1</th>\n",
       "      <td>1</td>\n",
       "      <td>Tata</td>\n",
       "      <td>Nano Genx</td>\n",
       "      <td>Xe</td>\n",
       "      <td>Rs. 2,36,447</td>\n",
       "      <td>624 cc</td>\n",
       "      <td>2.0</td>\n",
       "      <td>2.0</td>\n",
       "      <td>RWD (Rear Wheel Drive)</td>\n",
       "      <td>In-line</td>\n",
       "      <td>BS IV</td>\n",
       "      <td>Rear, Transverse</td>\n",
       "      <td>Injection</td>\n",
       "      <td>24 litres</td>\n",
       "      <td>Petrol</td>\n",
       "      <td>1652 mm</td>\n",
       "      <td>3164 mm</td>\n",
       "      <td>1750 mm</td>\n",
       "      <td>Hatchback</td>\n",
       "      <td>5.0</td>\n",
       "      <td>?23.6 km/litre</td>\n",
       "      <td>NaN</td>\n",
       "      <td>23.6 km/litre</td>\n",
       "      <td>NaN</td>\n",
       "      <td>725 kg</td>\n",
       "      <td>4</td>\n",
       "      <td>180 mm</td>\n",
       "      <td>Drum</td>\n",
       "      <td>Drum</td>\n",
       "      <td>Independent, Lower Wishbone, McPherson Strut w...</td>\n",
       "      <td>Independent, Semi Trailing arm with coil sprin...</td>\n",
       "      <td>1325 mm</td>\n",
       "      <td>1315 mm</td>\n",
       "      <td>135/70R12</td>\n",
       "      <td>155/65R12</td>\n",
       "      <td>NaN</td>\n",
       "      <td>NaN</td>\n",
       "      <td>NaN</td>\n",
       "      <td>NaN</td>\n",
       "      <td>38PS@5500rpm</td>\n",
       "      <td>51Nm@4000rpm</td>\n",
       "      <td>Digital</td>\n",
       "      <td>Analog</td>\n",
       "      <td>Not on offer</td>\n",
       "      <td>Yes</td>\n",
       "      <td>4.0</td>\n",
       "      <td>Fabric</td>\n",
       "      <td>Manual</td>\n",
       "      <td>2230 mm</td>\n",
       "      <td>4 B X 12</td>\n",
       "      <td>NaN</td>\n",
       "      <td>Yes</td>\n",
       "      <td>Not on offer</td>\n",
       "      <td>NaN</td>\n",
       "      <td>Yes</td>\n",
       "      <td>2 years /75000 Kms (years/distance whichever c...</td>\n",
       "      <td>NaN</td>\n",
       "      <td>Internal</td>\n",
       "      <td>110 litres</td>\n",
       "      <td>NaN</td>\n",
       "      <td>NaN</td>\n",
       "      <td>Yes</td>\n",
       "      <td>Digital</td>\n",
       "      <td>Front</td>\n",
       "      <td>Yes</td>\n",
       "      <td>Front</td>\n",
       "      <td>Yes</td>\n",
       "      <td>2 years /150000 Kms (years/distance whichever ...</td>\n",
       "      <td>NaN</td>\n",
       "      <td>Internal</td>\n",
       "      <td>Digital</td>\n",
       "      <td>Manual</td>\n",
       "      <td>Analog + Digital</td>\n",
       "      <td>Yes</td>\n",
       "      <td>4 meter</td>\n",
       "      <td>Yes</td>\n",
       "      <td>Driver &amp; Front Passenger</td>\n",
       "      <td>Not Applicable</td>\n",
       "      <td>NaN</td>\n",
       "      <td>NaN</td>\n",
       "      <td>NaN</td>\n",
       "      <td>NaN</td>\n",
       "      <td>NaN</td>\n",
       "      <td>NaN</td>\n",
       "      <td>NaN</td>\n",
       "      <td>NaN</td>\n",
       "      <td>NaN</td>\n",
       "      <td>NaN</td>\n",
       "      <td>NaN</td>\n",
       "      <td>NaN</td>\n",
       "      <td>NaN</td>\n",
       "      <td>NaN</td>\n",
       "      <td>NaN</td>\n",
       "      <td>NaN</td>\n",
       "      <td>NaN</td>\n",
       "      <td>NaN</td>\n",
       "      <td>NaN</td>\n",
       "      <td>NaN</td>\n",
       "      <td>NaN</td>\n",
       "      <td>NaN</td>\n",
       "      <td>NaN</td>\n",
       "      <td>NaN</td>\n",
       "      <td>NaN</td>\n",
       "      <td>NaN</td>\n",
       "      <td>NaN</td>\n",
       "      <td>NaN</td>\n",
       "      <td>NaN</td>\n",
       "      <td>NaN</td>\n",
       "      <td>NaN</td>\n",
       "      <td>NaN</td>\n",
       "      <td>NaN</td>\n",
       "      <td>NaN</td>\n",
       "      <td>NaN</td>\n",
       "      <td>NaN</td>\n",
       "      <td>NaN</td>\n",
       "      <td>NaN</td>\n",
       "      <td>NaN</td>\n",
       "      <td>NaN</td>\n",
       "      <td>NaN</td>\n",
       "      <td>NaN</td>\n",
       "      <td>NaN</td>\n",
       "      <td>NaN</td>\n",
       "      <td>NaN</td>\n",
       "      <td>NaN</td>\n",
       "      <td>NaN</td>\n",
       "      <td>NaN</td>\n",
       "      <td>NaN</td>\n",
       "      <td>NaN</td>\n",
       "      <td>NaN</td>\n",
       "      <td>NaN</td>\n",
       "      <td>NaN</td>\n",
       "      <td>NaN</td>\n",
       "      <td>NaN</td>\n",
       "      <td>NaN</td>\n",
       "      <td>NaN</td>\n",
       "      <td>NaN</td>\n",
       "      <td>NaN</td>\n",
       "      <td>NaN</td>\n",
       "      <td>NaN</td>\n",
       "      <td>NaN</td>\n",
       "      <td>NaN</td>\n",
       "    </tr>\n",
       "    <tr>\n",
       "      <th>2</th>\n",
       "      <td>2</td>\n",
       "      <td>Tata</td>\n",
       "      <td>Nano Genx</td>\n",
       "      <td>Emax Xm</td>\n",
       "      <td>Rs. 2,96,661</td>\n",
       "      <td>624 cc</td>\n",
       "      <td>2.0</td>\n",
       "      <td>2.0</td>\n",
       "      <td>RWD (Rear Wheel Drive)</td>\n",
       "      <td>In-line</td>\n",
       "      <td>BS IV</td>\n",
       "      <td>Rear, Transverse</td>\n",
       "      <td>Injection</td>\n",
       "      <td>15 litres</td>\n",
       "      <td>CNG</td>\n",
       "      <td>1652 mm</td>\n",
       "      <td>3164 mm</td>\n",
       "      <td>1750 mm</td>\n",
       "      <td>Hatchback</td>\n",
       "      <td>4.0</td>\n",
       "      <td>NaN</td>\n",
       "      <td>NaN</td>\n",
       "      <td>NaN</td>\n",
       "      <td>36 km/kg</td>\n",
       "      <td>710 kg</td>\n",
       "      <td>4</td>\n",
       "      <td>180 mm</td>\n",
       "      <td>Drum</td>\n",
       "      <td>Drum</td>\n",
       "      <td>Independent, Lower Wishbone, McPherson Strut w...</td>\n",
       "      <td>Independent, Semi Trailing arm with coil sprin...</td>\n",
       "      <td>1325 mm</td>\n",
       "      <td>1315 mm</td>\n",
       "      <td>135/70R12</td>\n",
       "      <td>155/65R12</td>\n",
       "      <td>Electric Power</td>\n",
       "      <td>NaN</td>\n",
       "      <td>NaN</td>\n",
       "      <td>NaN</td>\n",
       "      <td>38PS@5500rpm</td>\n",
       "      <td>51Nm@4000rpm</td>\n",
       "      <td>Digital</td>\n",
       "      <td>Analog</td>\n",
       "      <td>Not on offer</td>\n",
       "      <td>Yes</td>\n",
       "      <td>4.0</td>\n",
       "      <td>Fabric</td>\n",
       "      <td>Manual</td>\n",
       "      <td>2230 mm</td>\n",
       "      <td>4 B X 12</td>\n",
       "      <td>NaN</td>\n",
       "      <td>Yes</td>\n",
       "      <td>Not on offer</td>\n",
       "      <td>NaN</td>\n",
       "      <td>Yes</td>\n",
       "      <td>2 years /75000 Kms (years/distance whichever c...</td>\n",
       "      <td>NaN</td>\n",
       "      <td>Internal</td>\n",
       "      <td>110 litres</td>\n",
       "      <td>NaN</td>\n",
       "      <td>NaN</td>\n",
       "      <td>Yes</td>\n",
       "      <td>Digital</td>\n",
       "      <td>Front</td>\n",
       "      <td>Yes</td>\n",
       "      <td>Front</td>\n",
       "      <td>Yes</td>\n",
       "      <td>2 years /150000 Kms (years/distance whichever ...</td>\n",
       "      <td>NaN</td>\n",
       "      <td>Internal</td>\n",
       "      <td>Digital</td>\n",
       "      <td>Manual</td>\n",
       "      <td>Analog + Digital</td>\n",
       "      <td>Yes</td>\n",
       "      <td>4 meter</td>\n",
       "      <td>Yes</td>\n",
       "      <td>Driver &amp; Front Passenger</td>\n",
       "      <td>Not Applicable</td>\n",
       "      <td>Air Conditioning with cooling only</td>\n",
       "      <td>Yes</td>\n",
       "      <td>Yes</td>\n",
       "      <td>NaN</td>\n",
       "      <td>NaN</td>\n",
       "      <td>NaN</td>\n",
       "      <td>NaN</td>\n",
       "      <td>NaN</td>\n",
       "      <td>NaN</td>\n",
       "      <td>NaN</td>\n",
       "      <td>NaN</td>\n",
       "      <td>NaN</td>\n",
       "      <td>NaN</td>\n",
       "      <td>NaN</td>\n",
       "      <td>NaN</td>\n",
       "      <td>NaN</td>\n",
       "      <td>NaN</td>\n",
       "      <td>NaN</td>\n",
       "      <td>NaN</td>\n",
       "      <td>NaN</td>\n",
       "      <td>NaN</td>\n",
       "      <td>NaN</td>\n",
       "      <td>NaN</td>\n",
       "      <td>NaN</td>\n",
       "      <td>NaN</td>\n",
       "      <td>NaN</td>\n",
       "      <td>NaN</td>\n",
       "      <td>NaN</td>\n",
       "      <td>NaN</td>\n",
       "      <td>NaN</td>\n",
       "      <td>NaN</td>\n",
       "      <td>NaN</td>\n",
       "      <td>NaN</td>\n",
       "      <td>NaN</td>\n",
       "      <td>NaN</td>\n",
       "      <td>NaN</td>\n",
       "      <td>NaN</td>\n",
       "      <td>NaN</td>\n",
       "      <td>NaN</td>\n",
       "      <td>NaN</td>\n",
       "      <td>NaN</td>\n",
       "      <td>NaN</td>\n",
       "      <td>NaN</td>\n",
       "      <td>NaN</td>\n",
       "      <td>NaN</td>\n",
       "      <td>NaN</td>\n",
       "      <td>NaN</td>\n",
       "      <td>NaN</td>\n",
       "      <td>NaN</td>\n",
       "      <td>NaN</td>\n",
       "      <td>NaN</td>\n",
       "      <td>NaN</td>\n",
       "      <td>NaN</td>\n",
       "      <td>NaN</td>\n",
       "      <td>NaN</td>\n",
       "      <td>NaN</td>\n",
       "      <td>NaN</td>\n",
       "      <td>NaN</td>\n",
       "      <td>NaN</td>\n",
       "      <td>NaN</td>\n",
       "      <td>NaN</td>\n",
       "      <td>NaN</td>\n",
       "      <td>NaN</td>\n",
       "    </tr>\n",
       "    <tr>\n",
       "      <th>3</th>\n",
       "      <td>3</td>\n",
       "      <td>Tata</td>\n",
       "      <td>Nano Genx</td>\n",
       "      <td>Xta</td>\n",
       "      <td>Rs. 3,34,768</td>\n",
       "      <td>624 cc</td>\n",
       "      <td>2.0</td>\n",
       "      <td>2.0</td>\n",
       "      <td>RWD (Rear Wheel Drive)</td>\n",
       "      <td>In-line</td>\n",
       "      <td>BS IV</td>\n",
       "      <td>Rear, Transverse</td>\n",
       "      <td>Injection</td>\n",
       "      <td>24 litres</td>\n",
       "      <td>Petrol</td>\n",
       "      <td>1652 mm</td>\n",
       "      <td>3164 mm</td>\n",
       "      <td>1750 mm</td>\n",
       "      <td>Hatchback</td>\n",
       "      <td>5.0</td>\n",
       "      <td>?23.6 km/litre</td>\n",
       "      <td>NaN</td>\n",
       "      <td>21.9 km/litre</td>\n",
       "      <td>NaN</td>\n",
       "      <td>725 kg</td>\n",
       "      <td>5</td>\n",
       "      <td>180 mm</td>\n",
       "      <td>Drum</td>\n",
       "      <td>Drum</td>\n",
       "      <td>Independent, Lower Wishbone, McPherson Strut w...</td>\n",
       "      <td>Independent, Semi Trailing arm with coil sprin...</td>\n",
       "      <td>1325 mm</td>\n",
       "      <td>1315 mm</td>\n",
       "      <td>135/70R12</td>\n",
       "      <td>155/65R12</td>\n",
       "      <td>Electric Power</td>\n",
       "      <td>Only Front Windows</td>\n",
       "      <td>NaN</td>\n",
       "      <td>Remote</td>\n",
       "      <td>38PS@5500rpm</td>\n",
       "      <td>51Nm@4000rpm</td>\n",
       "      <td>Digital</td>\n",
       "      <td>Analog</td>\n",
       "      <td>Not on offer</td>\n",
       "      <td>Yes</td>\n",
       "      <td>4.0</td>\n",
       "      <td>Fabric</td>\n",
       "      <td>Automatic</td>\n",
       "      <td>2230 mm</td>\n",
       "      <td>4 B X 12</td>\n",
       "      <td>Yes</td>\n",
       "      <td>Yes</td>\n",
       "      <td>CD Player with USB &amp; Aux-in</td>\n",
       "      <td>Yes</td>\n",
       "      <td>Yes</td>\n",
       "      <td>2 years /75000 Kms (years/distance whichever c...</td>\n",
       "      <td>Yes</td>\n",
       "      <td>Internal</td>\n",
       "      <td>94 litres</td>\n",
       "      <td>Yes</td>\n",
       "      <td>Yes</td>\n",
       "      <td>Yes</td>\n",
       "      <td>Digital</td>\n",
       "      <td>Front</td>\n",
       "      <td>Yes</td>\n",
       "      <td>Front</td>\n",
       "      <td>Yes</td>\n",
       "      <td>2 years /150000 Kms (years/distance whichever ...</td>\n",
       "      <td>Yes</td>\n",
       "      <td>Internal</td>\n",
       "      <td>Digital</td>\n",
       "      <td>Manual</td>\n",
       "      <td>Analog + Digital</td>\n",
       "      <td>Yes</td>\n",
       "      <td>4 meter</td>\n",
       "      <td>Yes</td>\n",
       "      <td>Driver &amp; Front Passenger</td>\n",
       "      <td>Not Applicable</td>\n",
       "      <td>Manual Air conditioning with cooling and heating</td>\n",
       "      <td>NaN</td>\n",
       "      <td>NaN</td>\n",
       "      <td>Yes</td>\n",
       "      <td>NaN</td>\n",
       "      <td>NaN</td>\n",
       "      <td>NaN</td>\n",
       "      <td>NaN</td>\n",
       "      <td>NaN</td>\n",
       "      <td>NaN</td>\n",
       "      <td>NaN</td>\n",
       "      <td>NaN</td>\n",
       "      <td>NaN</td>\n",
       "      <td>NaN</td>\n",
       "      <td>NaN</td>\n",
       "      <td>NaN</td>\n",
       "      <td>NaN</td>\n",
       "      <td>NaN</td>\n",
       "      <td>NaN</td>\n",
       "      <td>NaN</td>\n",
       "      <td>NaN</td>\n",
       "      <td>NaN</td>\n",
       "      <td>NaN</td>\n",
       "      <td>NaN</td>\n",
       "      <td>NaN</td>\n",
       "      <td>NaN</td>\n",
       "      <td>NaN</td>\n",
       "      <td>NaN</td>\n",
       "      <td>NaN</td>\n",
       "      <td>NaN</td>\n",
       "      <td>NaN</td>\n",
       "      <td>NaN</td>\n",
       "      <td>NaN</td>\n",
       "      <td>NaN</td>\n",
       "      <td>NaN</td>\n",
       "      <td>NaN</td>\n",
       "      <td>NaN</td>\n",
       "      <td>NaN</td>\n",
       "      <td>NaN</td>\n",
       "      <td>NaN</td>\n",
       "      <td>NaN</td>\n",
       "      <td>NaN</td>\n",
       "      <td>NaN</td>\n",
       "      <td>NaN</td>\n",
       "      <td>NaN</td>\n",
       "      <td>NaN</td>\n",
       "      <td>NaN</td>\n",
       "      <td>NaN</td>\n",
       "      <td>NaN</td>\n",
       "      <td>NaN</td>\n",
       "      <td>NaN</td>\n",
       "      <td>NaN</td>\n",
       "      <td>NaN</td>\n",
       "      <td>NaN</td>\n",
       "      <td>NaN</td>\n",
       "      <td>NaN</td>\n",
       "      <td>NaN</td>\n",
       "      <td>NaN</td>\n",
       "      <td>NaN</td>\n",
       "      <td>NaN</td>\n",
       "      <td>NaN</td>\n",
       "      <td>NaN</td>\n",
       "      <td>NaN</td>\n",
       "    </tr>\n",
       "    <tr>\n",
       "      <th>4</th>\n",
       "      <td>4</td>\n",
       "      <td>Tata</td>\n",
       "      <td>Nano Genx</td>\n",
       "      <td>Xm</td>\n",
       "      <td>Rs. 2,72,223</td>\n",
       "      <td>624 cc</td>\n",
       "      <td>2.0</td>\n",
       "      <td>2.0</td>\n",
       "      <td>RWD (Rear Wheel Drive)</td>\n",
       "      <td>In-line</td>\n",
       "      <td>BS IV</td>\n",
       "      <td>Rear, Transverse</td>\n",
       "      <td>Injection</td>\n",
       "      <td>24 litres</td>\n",
       "      <td>Petrol</td>\n",
       "      <td>1652 mm</td>\n",
       "      <td>3164 mm</td>\n",
       "      <td>1750 mm</td>\n",
       "      <td>Hatchback</td>\n",
       "      <td>5.0</td>\n",
       "      <td>?23.6 km/litre</td>\n",
       "      <td>NaN</td>\n",
       "      <td>23.6 km/litre</td>\n",
       "      <td>NaN</td>\n",
       "      <td>725 kg</td>\n",
       "      <td>4</td>\n",
       "      <td>180 mm</td>\n",
       "      <td>Drum</td>\n",
       "      <td>Drum</td>\n",
       "      <td>Independent, Lower Wishbone, McPherson Strut w...</td>\n",
       "      <td>Independent, Semi Trailing arm with coil sprin...</td>\n",
       "      <td>1325 mm</td>\n",
       "      <td>1315 mm</td>\n",
       "      <td>135/70R12</td>\n",
       "      <td>155/65R12</td>\n",
       "      <td>Electric Power</td>\n",
       "      <td>NaN</td>\n",
       "      <td>NaN</td>\n",
       "      <td>NaN</td>\n",
       "      <td>38PS@5500rpm</td>\n",
       "      <td>51Nm@4000rpm</td>\n",
       "      <td>Digital</td>\n",
       "      <td>Analog</td>\n",
       "      <td>Not on offer</td>\n",
       "      <td>Yes</td>\n",
       "      <td>4.0</td>\n",
       "      <td>Fabric</td>\n",
       "      <td>Manual</td>\n",
       "      <td>2230 mm</td>\n",
       "      <td>4 B X 12</td>\n",
       "      <td>NaN</td>\n",
       "      <td>Yes</td>\n",
       "      <td>Not on offer</td>\n",
       "      <td>NaN</td>\n",
       "      <td>Yes</td>\n",
       "      <td>2 years /75000 Kms (years/distance whichever c...</td>\n",
       "      <td>NaN</td>\n",
       "      <td>Internal</td>\n",
       "      <td>110 litres</td>\n",
       "      <td>NaN</td>\n",
       "      <td>NaN</td>\n",
       "      <td>Yes</td>\n",
       "      <td>Digital</td>\n",
       "      <td>Front</td>\n",
       "      <td>Yes</td>\n",
       "      <td>Front</td>\n",
       "      <td>Yes</td>\n",
       "      <td>2 years /150000 Kms (years/distance whichever ...</td>\n",
       "      <td>NaN</td>\n",
       "      <td>Internal</td>\n",
       "      <td>Digital</td>\n",
       "      <td>Manual</td>\n",
       "      <td>Analog + Digital</td>\n",
       "      <td>Yes</td>\n",
       "      <td>4 meter</td>\n",
       "      <td>Yes</td>\n",
       "      <td>Driver &amp; Front Passenger</td>\n",
       "      <td>Not Applicable</td>\n",
       "      <td>Air Conditioning with cooling only</td>\n",
       "      <td>NaN</td>\n",
       "      <td>NaN</td>\n",
       "      <td>NaN</td>\n",
       "      <td>NaN</td>\n",
       "      <td>NaN</td>\n",
       "      <td>NaN</td>\n",
       "      <td>NaN</td>\n",
       "      <td>NaN</td>\n",
       "      <td>NaN</td>\n",
       "      <td>NaN</td>\n",
       "      <td>NaN</td>\n",
       "      <td>NaN</td>\n",
       "      <td>NaN</td>\n",
       "      <td>NaN</td>\n",
       "      <td>NaN</td>\n",
       "      <td>NaN</td>\n",
       "      <td>NaN</td>\n",
       "      <td>NaN</td>\n",
       "      <td>NaN</td>\n",
       "      <td>NaN</td>\n",
       "      <td>NaN</td>\n",
       "      <td>NaN</td>\n",
       "      <td>NaN</td>\n",
       "      <td>NaN</td>\n",
       "      <td>NaN</td>\n",
       "      <td>NaN</td>\n",
       "      <td>NaN</td>\n",
       "      <td>NaN</td>\n",
       "      <td>NaN</td>\n",
       "      <td>NaN</td>\n",
       "      <td>NaN</td>\n",
       "      <td>NaN</td>\n",
       "      <td>NaN</td>\n",
       "      <td>NaN</td>\n",
       "      <td>NaN</td>\n",
       "      <td>NaN</td>\n",
       "      <td>NaN</td>\n",
       "      <td>NaN</td>\n",
       "      <td>NaN</td>\n",
       "      <td>NaN</td>\n",
       "      <td>NaN</td>\n",
       "      <td>NaN</td>\n",
       "      <td>NaN</td>\n",
       "      <td>NaN</td>\n",
       "      <td>NaN</td>\n",
       "      <td>NaN</td>\n",
       "      <td>NaN</td>\n",
       "      <td>NaN</td>\n",
       "      <td>NaN</td>\n",
       "      <td>NaN</td>\n",
       "      <td>NaN</td>\n",
       "      <td>NaN</td>\n",
       "      <td>NaN</td>\n",
       "      <td>NaN</td>\n",
       "      <td>NaN</td>\n",
       "      <td>NaN</td>\n",
       "      <td>NaN</td>\n",
       "      <td>NaN</td>\n",
       "      <td>NaN</td>\n",
       "      <td>NaN</td>\n",
       "      <td>NaN</td>\n",
       "      <td>NaN</td>\n",
       "    </tr>\n",
       "  </tbody>\n",
       "</table>\n",
       "</div>"
      ],
      "text/plain": [
       "   Unnamed: 0  Make      Model  Variant Ex-Showroom_Price Displacement  \\\n",
       "0           0  Tata  Nano Genx       Xt      Rs. 2,92,667       624 cc   \n",
       "1           1  Tata  Nano Genx       Xe      Rs. 2,36,447       624 cc   \n",
       "2           2  Tata  Nano Genx  Emax Xm      Rs. 2,96,661       624 cc   \n",
       "3           3  Tata  Nano Genx      Xta      Rs. 3,34,768       624 cc   \n",
       "4           4  Tata  Nano Genx       Xm      Rs. 2,72,223       624 cc   \n",
       "\n",
       "   Cylinders  Valves_Per_Cylinder              Drivetrain  \\\n",
       "0        2.0                  2.0  RWD (Rear Wheel Drive)   \n",
       "1        2.0                  2.0  RWD (Rear Wheel Drive)   \n",
       "2        2.0                  2.0  RWD (Rear Wheel Drive)   \n",
       "3        2.0                  2.0  RWD (Rear Wheel Drive)   \n",
       "4        2.0                  2.0  RWD (Rear Wheel Drive)   \n",
       "\n",
       "  Cylinder_Configuration Emission_Norm   Engine_Location Fuel_System  \\\n",
       "0                In-line         BS IV  Rear, Transverse   Injection   \n",
       "1                In-line         BS IV  Rear, Transverse   Injection   \n",
       "2                In-line         BS IV  Rear, Transverse   Injection   \n",
       "3                In-line         BS IV  Rear, Transverse   Injection   \n",
       "4                In-line         BS IV  Rear, Transverse   Injection   \n",
       "\n",
       "  Fuel_Tank_Capacity Fuel_Type   Height   Length    Width  Body_Type  Doors  \\\n",
       "0          24 litres    Petrol  1652 mm  3164 mm  1750 mm  Hatchback    5.0   \n",
       "1          24 litres    Petrol  1652 mm  3164 mm  1750 mm  Hatchback    5.0   \n",
       "2          15 litres       CNG  1652 mm  3164 mm  1750 mm  Hatchback    4.0   \n",
       "3          24 litres    Petrol  1652 mm  3164 mm  1750 mm  Hatchback    5.0   \n",
       "4          24 litres    Petrol  1652 mm  3164 mm  1750 mm  Hatchback    5.0   \n",
       "\n",
       "     City_Mileage Highway_Mileage ARAI_Certified_Mileage  \\\n",
       "0  ?23.6 km/litre             NaN          23.6 km/litre   \n",
       "1  ?23.6 km/litre             NaN          23.6 km/litre   \n",
       "2             NaN             NaN                    NaN   \n",
       "3  ?23.6 km/litre             NaN          21.9 km/litre   \n",
       "4  ?23.6 km/litre             NaN          23.6 km/litre   \n",
       "\n",
       "  ARAI_Certified_Mileage_for_CNG Kerb_Weight Gears Ground_Clearance  \\\n",
       "0                            NaN      660 kg     4           180 mm   \n",
       "1                            NaN      725 kg     4           180 mm   \n",
       "2                       36 km/kg      710 kg     4           180 mm   \n",
       "3                            NaN      725 kg     5           180 mm   \n",
       "4                            NaN      725 kg     4           180 mm   \n",
       "\n",
       "  Front_Brakes Rear_Brakes                                   Front_Suspension  \\\n",
       "0         Drum        Drum  Independent, Lower Wishbone, McPherson Strut w...   \n",
       "1         Drum        Drum  Independent, Lower Wishbone, McPherson Strut w...   \n",
       "2         Drum        Drum  Independent, Lower Wishbone, McPherson Strut w...   \n",
       "3         Drum        Drum  Independent, Lower Wishbone, McPherson Strut w...   \n",
       "4         Drum        Drum  Independent, Lower Wishbone, McPherson Strut w...   \n",
       "\n",
       "                                     Rear_Suspension Front_Track Rear_Track  \\\n",
       "0  Independent, Semi Trailing arm with coil sprin...     1325 mm    1315 mm   \n",
       "1  Independent, Semi Trailing arm with coil sprin...     1325 mm    1315 mm   \n",
       "2  Independent, Semi Trailing arm with coil sprin...     1325 mm    1315 mm   \n",
       "3  Independent, Semi Trailing arm with coil sprin...     1325 mm    1315 mm   \n",
       "4  Independent, Semi Trailing arm with coil sprin...     1325 mm    1315 mm   \n",
       "\n",
       "  Front_Tyre_&_Rim Rear_Tyre_&_Rim  Power_Steering       Power_Windows  \\\n",
       "0        135/70R12       155/65R12  Electric Power  Only Front Windows   \n",
       "1        135/70R12       155/65R12             NaN                 NaN   \n",
       "2        135/70R12       155/65R12  Electric Power                 NaN   \n",
       "3        135/70R12       155/65R12  Electric Power  Only Front Windows   \n",
       "4        135/70R12       155/65R12  Electric Power                 NaN   \n",
       "\n",
       "  Power_Seats Keyless_Entry         Power        Torque Odometer Speedometer  \\\n",
       "0         NaN        Remote  38PS@5500rpm  51Nm@4000rpm  Digital      Analog   \n",
       "1         NaN           NaN  38PS@5500rpm  51Nm@4000rpm  Digital      Analog   \n",
       "2         NaN           NaN  38PS@5500rpm  51Nm@4000rpm  Digital      Analog   \n",
       "3         NaN        Remote  38PS@5500rpm  51Nm@4000rpm  Digital      Analog   \n",
       "4         NaN           NaN  38PS@5500rpm  51Nm@4000rpm  Digital      Analog   \n",
       "\n",
       "     Tachometer Tripmeter  Seating_Capacity Seats_Material       Type  \\\n",
       "0  Not on offer       Yes               4.0         Fabric     Manual   \n",
       "1  Not on offer       Yes               4.0         Fabric     Manual   \n",
       "2  Not on offer       Yes               4.0         Fabric     Manual   \n",
       "3  Not on offer       Yes               4.0         Fabric  Automatic   \n",
       "4  Not on offer       Yes               4.0         Fabric     Manual   \n",
       "\n",
       "  Wheelbase Wheels_Size Start_/_Stop_Button 12v_Power_Outlet  \\\n",
       "0   2230 mm    4 B X 12                 Yes              Yes   \n",
       "1   2230 mm    4 B X 12                 NaN              Yes   \n",
       "2   2230 mm    4 B X 12                 NaN              Yes   \n",
       "3   2230 mm    4 B X 12                 Yes              Yes   \n",
       "4   2230 mm    4 B X 12                 NaN              Yes   \n",
       "\n",
       "                   Audiosystem Aux-in_Compatibility Average_Fuel_Consumption  \\\n",
       "0  CD Player with USB & Aux-in                  Yes                      Yes   \n",
       "1                 Not on offer                  NaN                      Yes   \n",
       "2                 Not on offer                  NaN                      Yes   \n",
       "3  CD Player with USB & Aux-in                  Yes                      Yes   \n",
       "4                 Not on offer                  NaN                      Yes   \n",
       "\n",
       "                                      Basic_Warranty Bluetooth  \\\n",
       "0  2 years /75000 Kms (years/distance whichever c...       Yes   \n",
       "1  2 years /75000 Kms (years/distance whichever c...       NaN   \n",
       "2  2 years /75000 Kms (years/distance whichever c...       NaN   \n",
       "3  2 years /75000 Kms (years/distance whichever c...       Yes   \n",
       "4  2 years /75000 Kms (years/distance whichever c...       NaN   \n",
       "\n",
       "  Boot-lid_Opener  Boot_Space CD_/_MP3_/_DVD_Player Central_Locking  \\\n",
       "0        Internal  110 litres                   Yes             Yes   \n",
       "1        Internal  110 litres                   NaN             NaN   \n",
       "2        Internal  110 litres                   NaN             NaN   \n",
       "3        Internal   94 litres                   Yes             Yes   \n",
       "4        Internal  110 litres                   NaN             NaN   \n",
       "\n",
       "  Child_Safety_Locks    Clock Cup_Holders Distance_to_Empty Door_Pockets  \\\n",
       "0                Yes  Digital       Front               Yes        Front   \n",
       "1                Yes  Digital       Front               Yes        Front   \n",
       "2                Yes  Digital       Front               Yes        Front   \n",
       "3                Yes  Digital       Front               Yes        Front   \n",
       "4                Yes  Digital       Front               Yes        Front   \n",
       "\n",
       "  Engine_Malfunction_Light                                  Extended_Warranty  \\\n",
       "0                      Yes  2 years /150000 Kms (years/distance whichever ...   \n",
       "1                      Yes  2 years /150000 Kms (years/distance whichever ...   \n",
       "2                      Yes  2 years /150000 Kms (years/distance whichever ...   \n",
       "3                      Yes  2 years /150000 Kms (years/distance whichever ...   \n",
       "4                      Yes  2 years /150000 Kms (years/distance whichever ...   \n",
       "\n",
       "  FM_Radio Fuel-lid_Opener Fuel_Gauge Handbrake Instrument_Console  \\\n",
       "0      Yes        Internal    Digital    Manual   Analog + Digital   \n",
       "1      NaN        Internal    Digital    Manual   Analog + Digital   \n",
       "2      NaN        Internal    Digital    Manual   Analog + Digital   \n",
       "3      Yes        Internal    Digital    Manual   Analog + Digital   \n",
       "4      NaN        Internal    Digital    Manual   Analog + Digital   \n",
       "\n",
       "  Low_Fuel_Warning Minimum_Turning_Radius Multifunction_Display  \\\n",
       "0              Yes                4 meter                   Yes   \n",
       "1              Yes                4 meter                   Yes   \n",
       "2              Yes                4 meter                   Yes   \n",
       "3              Yes                4 meter                   Yes   \n",
       "4              Yes                4 meter                   Yes   \n",
       "\n",
       "                  Sun_Visor Third_Row_AC_Vents  \\\n",
       "0  Driver & Front Passenger     Not Applicable   \n",
       "1  Driver & Front Passenger     Not Applicable   \n",
       "2  Driver & Front Passenger     Not Applicable   \n",
       "3  Driver & Front Passenger     Not Applicable   \n",
       "4  Driver & Front Passenger     Not Applicable   \n",
       "\n",
       "                                 Ventilation_System  \\\n",
       "0  Manual Air conditioning with cooling and heating   \n",
       "1                                               NaN   \n",
       "2                Air Conditioning with cooling only   \n",
       "3  Manual Air conditioning with cooling and heating   \n",
       "4                Air Conditioning with cooling only   \n",
       "\n",
       "  Auto-Dimming_Rear-View_Mirror Hill_Assist Gear_Indicator  \\\n",
       "0                           NaN         NaN            NaN   \n",
       "1                           NaN         NaN            NaN   \n",
       "2                           Yes         Yes            NaN   \n",
       "3                           NaN         NaN            Yes   \n",
       "4                           NaN         NaN            NaN   \n",
       "\n",
       "  3_Point_Seat-Belt_in_Middle_Rear_Seat Ambient_Lightning Cargo/Boot_Lights  \\\n",
       "0                                   NaN               NaN               NaN   \n",
       "1                                   NaN               NaN               NaN   \n",
       "2                                   NaN               NaN               NaN   \n",
       "3                                   NaN               NaN               NaN   \n",
       "4                                   NaN               NaN               NaN   \n",
       "\n",
       "  Drive_Modes Engine_Immobilizer High_Speed_Alert_System  \\\n",
       "0         NaN                NaN                     NaN   \n",
       "1         NaN                NaN                     NaN   \n",
       "2         NaN                NaN                     NaN   \n",
       "3         NaN                NaN                     NaN   \n",
       "4         NaN                NaN                     NaN   \n",
       "\n",
       "  Lane_Watch_Camera/_Side_Mirror_Camera Passenger_Side_Seat-Belt_Reminder  \\\n",
       "0                                   NaN                               NaN   \n",
       "1                                   NaN                               NaN   \n",
       "2                                   NaN                               NaN   \n",
       "3                                   NaN                               NaN   \n",
       "4                                   NaN                               NaN   \n",
       "\n",
       "  Seat_Back_Pockets Voice_Recognition Walk_Away_Auto_Car_Lock  \\\n",
       "0               NaN               NaN                     NaN   \n",
       "1               NaN               NaN                     NaN   \n",
       "2               NaN               NaN                     NaN   \n",
       "3               NaN               NaN                     NaN   \n",
       "4               NaN               NaN                     NaN   \n",
       "\n",
       "  ABS_(Anti-lock_Braking_System) Headlight_Reminder Adjustable_Headrests  \\\n",
       "0                            NaN                NaN                  NaN   \n",
       "1                            NaN                NaN                  NaN   \n",
       "2                            NaN                NaN                  NaN   \n",
       "3                            NaN                NaN                  NaN   \n",
       "4                            NaN                NaN                  NaN   \n",
       "\n",
       "  Gross_Vehicle_Weight Airbags Door_Ajar_Warning  \\\n",
       "0                  NaN     NaN               NaN   \n",
       "1                  NaN     NaN               NaN   \n",
       "2                  NaN     NaN               NaN   \n",
       "3                  NaN     NaN               NaN   \n",
       "4                  NaN     NaN               NaN   \n",
       "\n",
       "  EBD_(Electronic_Brake-force_Distribution) Fasten_Seat_Belt_Warning  \\\n",
       "0                                       NaN                      NaN   \n",
       "1                                       NaN                      NaN   \n",
       "2                                       NaN                      NaN   \n",
       "3                                       NaN                      NaN   \n",
       "4                                       NaN                      NaN   \n",
       "\n",
       "  Gear_Shift_Reminder  Number_of_Airbags Compression_Ratio  \\\n",
       "0                 NaN                NaN               NaN   \n",
       "1                 NaN                NaN               NaN   \n",
       "2                 NaN                NaN               NaN   \n",
       "3                 NaN                NaN               NaN   \n",
       "4                 NaN                NaN               NaN   \n",
       "\n",
       "  Adjustable_Steering_Column Other_Specs Other_specs Parking_Assistance  \\\n",
       "0                        NaN         NaN         NaN                NaN   \n",
       "1                        NaN         NaN         NaN                NaN   \n",
       "2                        NaN         NaN         NaN                NaN   \n",
       "3                        NaN         NaN         NaN                NaN   \n",
       "4                        NaN         NaN         NaN                NaN   \n",
       "\n",
       "  Key_Off_Reminder USB_Compatibility Android_Auto Apple_CarPlay  \\\n",
       "0              NaN               NaN          NaN           NaN   \n",
       "1              NaN               NaN          NaN           NaN   \n",
       "2              NaN               NaN          NaN           NaN   \n",
       "3              NaN               NaN          NaN           NaN   \n",
       "4              NaN               NaN          NaN           NaN   \n",
       "\n",
       "  Cigarette_Lighter Infotainment_Screen Multifunction_Steering_Wheel  \\\n",
       "0               NaN                 NaN                          NaN   \n",
       "1               NaN                 NaN                          NaN   \n",
       "2               NaN                 NaN                          NaN   \n",
       "3               NaN                 NaN                          NaN   \n",
       "4               NaN                 NaN                          NaN   \n",
       "\n",
       "  Average_Speed EBA_(Electronic_Brake_Assist) Seat_Height_Adjustment  \\\n",
       "0           NaN                           NaN                    NaN   \n",
       "1           NaN                           NaN                    NaN   \n",
       "2           NaN                           NaN                    NaN   \n",
       "3           NaN                           NaN                    NaN   \n",
       "4           NaN                           NaN                    NaN   \n",
       "\n",
       "  Navigation_System Second_Row_AC_Vents Tyre_Pressure_Monitoring_System  \\\n",
       "0               NaN                 NaN                             NaN   \n",
       "1               NaN                 NaN                             NaN   \n",
       "2               NaN                 NaN                             NaN   \n",
       "3               NaN                 NaN                             NaN   \n",
       "4               NaN                 NaN                             NaN   \n",
       "\n",
       "  Rear_Center_Armrest iPod_Compatibility ESP_(Electronic_Stability_Program)  \\\n",
       "0                 NaN                NaN                                NaN   \n",
       "1                 NaN                NaN                                NaN   \n",
       "2                 NaN                NaN                                NaN   \n",
       "3                 NaN                NaN                                NaN   \n",
       "4                 NaN                NaN                                NaN   \n",
       "\n",
       "  Cooled_Glove_Box Recommended_Tyre_Pressure Heated_Seats Turbocharger  \\\n",
       "0              NaN                       NaN          NaN          NaN   \n",
       "1              NaN                       NaN          NaN          NaN   \n",
       "2              NaN                       NaN          NaN          NaN   \n",
       "3              NaN                       NaN          NaN          NaN   \n",
       "4              NaN                       NaN          NaN          NaN   \n",
       "\n",
       "  ISOFIX_(Child-Seat_Mount) Rain_Sensing_Wipers Paddle_Shifters  \\\n",
       "0                       NaN                 NaN             NaN   \n",
       "1                       NaN                 NaN             NaN   \n",
       "2                       NaN                 NaN             NaN   \n",
       "3                       NaN                 NaN             NaN   \n",
       "4                       NaN                 NaN             NaN   \n",
       "\n",
       "  Leather_Wrapped_Steering Automatic_Headlamps Engine_Type  \\\n",
       "0                      NaN                 NaN         NaN   \n",
       "1                      NaN                 NaN         NaN   \n",
       "2                      NaN                 NaN         NaN   \n",
       "3                      NaN                 NaN         NaN   \n",
       "4                      NaN                 NaN         NaN   \n",
       "\n",
       "  ASR_/_Traction_Control Cruise_Control  USB_Ports Heads-Up_Display  \\\n",
       "0                    NaN            NaN        NaN              NaN   \n",
       "1                    NaN            NaN        NaN              NaN   \n",
       "2                    NaN            NaN        NaN              NaN   \n",
       "3                    NaN            NaN        NaN              NaN   \n",
       "4                    NaN            NaN        NaN              NaN   \n",
       "\n",
       "  Welcome_Lights Battery Electric_Range  \n",
       "0            NaN     NaN            NaN  \n",
       "1            NaN     NaN            NaN  \n",
       "2            NaN     NaN            NaN  \n",
       "3            NaN     NaN            NaN  \n",
       "4            NaN     NaN            NaN  "
      ]
     },
     "execution_count": 339,
     "metadata": {},
     "output_type": "execute_result"
    }
   ],
   "source": [
    "df=pd.read_csv(\"cars_data.csv\")\n",
    "df.head()"
   ]
  },
  {
   "cell_type": "code",
   "execution_count": 340,
   "metadata": {},
   "outputs": [],
   "source": [
    "pd.set_option('display.max_columns',None)"
   ]
  },
  {
   "cell_type": "code",
   "execution_count": 341,
   "metadata": {},
   "outputs": [
    {
     "name": "stdout",
     "output_type": "stream",
     "text": [
      "<class 'pandas.core.frame.DataFrame'>\n",
      "RangeIndex: 1276 entries, 0 to 1275\n",
      "Data columns (total 141 columns):\n",
      " #    Column                                     Dtype  \n",
      "---   ------                                     -----  \n",
      " 0    Unnamed: 0                                 int64  \n",
      " 1    Make                                       object \n",
      " 2    Model                                      object \n",
      " 3    Variant                                    object \n",
      " 4    Ex-Showroom_Price                          object \n",
      " 5    Displacement                               object \n",
      " 6    Cylinders                                  float64\n",
      " 7    Valves_Per_Cylinder                        float64\n",
      " 8    Drivetrain                                 object \n",
      " 9    Cylinder_Configuration                     object \n",
      " 10   Emission_Norm                              object \n",
      " 11   Engine_Location                            object \n",
      " 12   Fuel_System                                object \n",
      " 13   Fuel_Tank_Capacity                         object \n",
      " 14   Fuel_Type                                  object \n",
      " 15   Height                                     object \n",
      " 16   Length                                     object \n",
      " 17   Width                                      object \n",
      " 18   Body_Type                                  object \n",
      " 19   Doors                                      float64\n",
      " 20   City_Mileage                               object \n",
      " 21   Highway_Mileage                            object \n",
      " 22   ARAI_Certified_Mileage                     object \n",
      " 23   ARAI_Certified_Mileage_for_CNG             object \n",
      " 24   Kerb_Weight                                object \n",
      " 25   Gears                                      object \n",
      " 26   Ground_Clearance                           object \n",
      " 27   Front_Brakes                               object \n",
      " 28   Rear_Brakes                                object \n",
      " 29   Front_Suspension                           object \n",
      " 30   Rear_Suspension                            object \n",
      " 31   Front_Track                                object \n",
      " 32   Rear_Track                                 object \n",
      " 33   Front_Tyre_&_Rim                           object \n",
      " 34   Rear_Tyre_&_Rim                            object \n",
      " 35   Power_Steering                             object \n",
      " 36   Power_Windows                              object \n",
      " 37   Power_Seats                                object \n",
      " 38   Keyless_Entry                              object \n",
      " 39   Power                                      object \n",
      " 40   Torque                                     object \n",
      " 41   Odometer                                   object \n",
      " 42   Speedometer                                object \n",
      " 43   Tachometer                                 object \n",
      " 44   Tripmeter                                  object \n",
      " 45   Seating_Capacity                           float64\n",
      " 46   Seats_Material                             object \n",
      " 47   Type                                       object \n",
      " 48   Wheelbase                                  object \n",
      " 49   Wheels_Size                                object \n",
      " 50   Start_/_Stop_Button                        object \n",
      " 51   12v_Power_Outlet                           object \n",
      " 52   Audiosystem                                object \n",
      " 53   Aux-in_Compatibility                       object \n",
      " 54   Average_Fuel_Consumption                   object \n",
      " 55   Basic_Warranty                             object \n",
      " 56   Bluetooth                                  object \n",
      " 57   Boot-lid_Opener                            object \n",
      " 58   Boot_Space                                 object \n",
      " 59   CD_/_MP3_/_DVD_Player                      object \n",
      " 60   Central_Locking                            object \n",
      " 61   Child_Safety_Locks                         object \n",
      " 62   Clock                                      object \n",
      " 63   Cup_Holders                                object \n",
      " 64   Distance_to_Empty                          object \n",
      " 65   Door_Pockets                               object \n",
      " 66   Engine_Malfunction_Light                   object \n",
      " 67   Extended_Warranty                          object \n",
      " 68   FM_Radio                                   object \n",
      " 69   Fuel-lid_Opener                            object \n",
      " 70   Fuel_Gauge                                 object \n",
      " 71   Handbrake                                  object \n",
      " 72   Instrument_Console                         object \n",
      " 73   Low_Fuel_Warning                           object \n",
      " 74   Minimum_Turning_Radius                     object \n",
      " 75   Multifunction_Display                      object \n",
      " 76   Sun_Visor                                  object \n",
      " 77   Third_Row_AC_Vents                         object \n",
      " 78   Ventilation_System                         object \n",
      " 79   Auto-Dimming_Rear-View_Mirror              object \n",
      " 80   Hill_Assist                                object \n",
      " 81   Gear_Indicator                             object \n",
      " 82   3_Point_Seat-Belt_in_Middle_Rear_Seat      object \n",
      " 83   Ambient_Lightning                          object \n",
      " 84   Cargo/Boot_Lights                          object \n",
      " 85   Drive_Modes                                object \n",
      " 86   Engine_Immobilizer                         object \n",
      " 87   High_Speed_Alert_System                    object \n",
      " 88   Lane_Watch_Camera/_Side_Mirror_Camera      object \n",
      " 89   Passenger_Side_Seat-Belt_Reminder          object \n",
      " 90   Seat_Back_Pockets                          object \n",
      " 91   Voice_Recognition                          object \n",
      " 92   Walk_Away_Auto_Car_Lock                    object \n",
      " 93   ABS_(Anti-lock_Braking_System)             object \n",
      " 94   Headlight_Reminder                         object \n",
      " 95   Adjustable_Headrests                       object \n",
      " 96   Gross_Vehicle_Weight                       object \n",
      " 97   Airbags                                    object \n",
      " 98   Door_Ajar_Warning                          object \n",
      " 99   EBD_(Electronic_Brake-force_Distribution)  object \n",
      " 100  Fasten_Seat_Belt_Warning                   object \n",
      " 101  Gear_Shift_Reminder                        object \n",
      " 102  Number_of_Airbags                          float64\n",
      " 103  Compression_Ratio                          object \n",
      " 104  Adjustable_Steering_Column                 object \n",
      " 105  Other_Specs                                object \n",
      " 106  Other_specs                                object \n",
      " 107  Parking_Assistance                         object \n",
      " 108  Key_Off_Reminder                           object \n",
      " 109  USB_Compatibility                          object \n",
      " 110  Android_Auto                               object \n",
      " 111  Apple_CarPlay                              object \n",
      " 112  Cigarette_Lighter                          object \n",
      " 113  Infotainment_Screen                        object \n",
      " 114  Multifunction_Steering_Wheel               object \n",
      " 115  Average_Speed                              object \n",
      " 116  EBA_(Electronic_Brake_Assist)              object \n",
      " 117  Seat_Height_Adjustment                     object \n",
      " 118  Navigation_System                          object \n",
      " 119  Second_Row_AC_Vents                        object \n",
      " 120  Tyre_Pressure_Monitoring_System            object \n",
      " 121  Rear_Center_Armrest                        object \n",
      " 122  iPod_Compatibility                         object \n",
      " 123  ESP_(Electronic_Stability_Program)         object \n",
      " 124  Cooled_Glove_Box                           object \n",
      " 125  Recommended_Tyre_Pressure                  object \n",
      " 126  Heated_Seats                               object \n",
      " 127  Turbocharger                               object \n",
      " 128  ISOFIX_(Child-Seat_Mount)                  object \n",
      " 129  Rain_Sensing_Wipers                        object \n",
      " 130  Paddle_Shifters                            object \n",
      " 131  Leather_Wrapped_Steering                   object \n",
      " 132  Automatic_Headlamps                        object \n",
      " 133  Engine_Type                                object \n",
      " 134  ASR_/_Traction_Control                     object \n",
      " 135  Cruise_Control                             object \n",
      " 136  USB_Ports                                  float64\n",
      " 137  Heads-Up_Display                           object \n",
      " 138  Welcome_Lights                             object \n",
      " 139  Battery                                    object \n",
      " 140  Electric_Range                             object \n",
      "dtypes: float64(6), int64(1), object(134)\n",
      "memory usage: 1.4+ MB\n"
     ]
    }
   ],
   "source": [
    "df.info(all)"
   ]
  },
  {
   "cell_type": "code",
   "execution_count": 342,
   "metadata": {},
   "outputs": [
    {
     "data": {
      "text/plain": [
       "array(['Tata', 'Datsun', 'Renault', 'Maruti Suzuki', 'Hyundai', 'Premier',\n",
       "       'Toyota', 'Nissan', 'Volkswagen', 'Ford', 'Mahindra', 'Fiat',\n",
       "       'Honda', 'Jeep', 'Isuzu', 'Skoda', 'Audi', nan, 'Dc', 'Mini',\n",
       "       'Volvo', 'Jaguar', 'Bmw', 'Land Rover', 'Porsche', 'Lexus',\n",
       "       'Maserati', 'Lamborghini', 'Bentley', 'Ferrari', 'Aston Martin',\n",
       "       'Bugatti', 'Bajaj', 'Icml', 'Force', 'Mg', 'Kia',\n",
       "       'Land Rover Rover', 'Mitsubishi', 'Maruti Suzuki R'], dtype=object)"
      ]
     },
     "execution_count": 342,
     "metadata": {},
     "output_type": "execute_result"
    }
   ],
   "source": [
    "df.Make.unique()"
   ]
  },
  {
   "cell_type": "code",
   "execution_count": 343,
   "metadata": {},
   "outputs": [
    {
     "data": {
      "text/html": [
       "<div>\n",
       "<style scoped>\n",
       "    .dataframe tbody tr th:only-of-type {\n",
       "        vertical-align: middle;\n",
       "    }\n",
       "\n",
       "    .dataframe tbody tr th {\n",
       "        vertical-align: top;\n",
       "    }\n",
       "\n",
       "    .dataframe thead th {\n",
       "        text-align: right;\n",
       "    }\n",
       "</style>\n",
       "<table border=\"1\" class=\"dataframe\">\n",
       "  <thead>\n",
       "    <tr style=\"text-align: right;\">\n",
       "      <th></th>\n",
       "      <th>Unnamed: 0</th>\n",
       "      <th>Make</th>\n",
       "      <th>Model</th>\n",
       "      <th>Variant</th>\n",
       "      <th>Ex-Showroom_Price</th>\n",
       "      <th>Displacement</th>\n",
       "      <th>Cylinders</th>\n",
       "      <th>Valves_Per_Cylinder</th>\n",
       "      <th>Drivetrain</th>\n",
       "      <th>Cylinder_Configuration</th>\n",
       "      <th>Emission_Norm</th>\n",
       "      <th>Engine_Location</th>\n",
       "      <th>Fuel_System</th>\n",
       "      <th>Fuel_Tank_Capacity</th>\n",
       "      <th>Fuel_Type</th>\n",
       "      <th>Height</th>\n",
       "      <th>Length</th>\n",
       "      <th>Width</th>\n",
       "      <th>Body_Type</th>\n",
       "      <th>Doors</th>\n",
       "      <th>City_Mileage</th>\n",
       "      <th>Highway_Mileage</th>\n",
       "      <th>ARAI_Certified_Mileage</th>\n",
       "      <th>ARAI_Certified_Mileage_for_CNG</th>\n",
       "      <th>Kerb_Weight</th>\n",
       "      <th>Gears</th>\n",
       "      <th>Ground_Clearance</th>\n",
       "      <th>Front_Brakes</th>\n",
       "      <th>Rear_Brakes</th>\n",
       "      <th>Front_Suspension</th>\n",
       "      <th>Rear_Suspension</th>\n",
       "      <th>Front_Track</th>\n",
       "      <th>Rear_Track</th>\n",
       "      <th>Front_Tyre_&amp;_Rim</th>\n",
       "      <th>Rear_Tyre_&amp;_Rim</th>\n",
       "      <th>Power_Steering</th>\n",
       "      <th>Power_Windows</th>\n",
       "      <th>Power_Seats</th>\n",
       "      <th>Keyless_Entry</th>\n",
       "      <th>Power</th>\n",
       "      <th>Torque</th>\n",
       "      <th>Odometer</th>\n",
       "      <th>Speedometer</th>\n",
       "      <th>Tachometer</th>\n",
       "      <th>Tripmeter</th>\n",
       "      <th>Seating_Capacity</th>\n",
       "      <th>Seats_Material</th>\n",
       "      <th>Type</th>\n",
       "      <th>Wheelbase</th>\n",
       "      <th>Wheels_Size</th>\n",
       "      <th>Start_/_Stop_Button</th>\n",
       "      <th>12v_Power_Outlet</th>\n",
       "      <th>Audiosystem</th>\n",
       "      <th>Aux-in_Compatibility</th>\n",
       "      <th>Average_Fuel_Consumption</th>\n",
       "      <th>Basic_Warranty</th>\n",
       "      <th>Bluetooth</th>\n",
       "      <th>Boot-lid_Opener</th>\n",
       "      <th>Boot_Space</th>\n",
       "      <th>CD_/_MP3_/_DVD_Player</th>\n",
       "      <th>Central_Locking</th>\n",
       "      <th>Child_Safety_Locks</th>\n",
       "      <th>Clock</th>\n",
       "      <th>Cup_Holders</th>\n",
       "      <th>Distance_to_Empty</th>\n",
       "      <th>Door_Pockets</th>\n",
       "      <th>Engine_Malfunction_Light</th>\n",
       "      <th>Extended_Warranty</th>\n",
       "      <th>FM_Radio</th>\n",
       "      <th>Fuel-lid_Opener</th>\n",
       "      <th>Fuel_Gauge</th>\n",
       "      <th>Handbrake</th>\n",
       "      <th>Instrument_Console</th>\n",
       "      <th>Low_Fuel_Warning</th>\n",
       "      <th>Minimum_Turning_Radius</th>\n",
       "      <th>Multifunction_Display</th>\n",
       "      <th>Sun_Visor</th>\n",
       "      <th>Third_Row_AC_Vents</th>\n",
       "      <th>Ventilation_System</th>\n",
       "      <th>Auto-Dimming_Rear-View_Mirror</th>\n",
       "      <th>Hill_Assist</th>\n",
       "      <th>Gear_Indicator</th>\n",
       "      <th>3_Point_Seat-Belt_in_Middle_Rear_Seat</th>\n",
       "      <th>Ambient_Lightning</th>\n",
       "      <th>Cargo/Boot_Lights</th>\n",
       "      <th>Drive_Modes</th>\n",
       "      <th>Engine_Immobilizer</th>\n",
       "      <th>High_Speed_Alert_System</th>\n",
       "      <th>Lane_Watch_Camera/_Side_Mirror_Camera</th>\n",
       "      <th>Passenger_Side_Seat-Belt_Reminder</th>\n",
       "      <th>Seat_Back_Pockets</th>\n",
       "      <th>Voice_Recognition</th>\n",
       "      <th>Walk_Away_Auto_Car_Lock</th>\n",
       "      <th>ABS_(Anti-lock_Braking_System)</th>\n",
       "      <th>Headlight_Reminder</th>\n",
       "      <th>Adjustable_Headrests</th>\n",
       "      <th>Gross_Vehicle_Weight</th>\n",
       "      <th>Airbags</th>\n",
       "      <th>Door_Ajar_Warning</th>\n",
       "      <th>EBD_(Electronic_Brake-force_Distribution)</th>\n",
       "      <th>Fasten_Seat_Belt_Warning</th>\n",
       "      <th>Gear_Shift_Reminder</th>\n",
       "      <th>Number_of_Airbags</th>\n",
       "      <th>Compression_Ratio</th>\n",
       "      <th>Adjustable_Steering_Column</th>\n",
       "      <th>Other_Specs</th>\n",
       "      <th>Other_specs</th>\n",
       "      <th>Parking_Assistance</th>\n",
       "      <th>Key_Off_Reminder</th>\n",
       "      <th>USB_Compatibility</th>\n",
       "      <th>Android_Auto</th>\n",
       "      <th>Apple_CarPlay</th>\n",
       "      <th>Cigarette_Lighter</th>\n",
       "      <th>Infotainment_Screen</th>\n",
       "      <th>Multifunction_Steering_Wheel</th>\n",
       "      <th>Average_Speed</th>\n",
       "      <th>EBA_(Electronic_Brake_Assist)</th>\n",
       "      <th>Seat_Height_Adjustment</th>\n",
       "      <th>Navigation_System</th>\n",
       "      <th>Second_Row_AC_Vents</th>\n",
       "      <th>Tyre_Pressure_Monitoring_System</th>\n",
       "      <th>Rear_Center_Armrest</th>\n",
       "      <th>iPod_Compatibility</th>\n",
       "      <th>ESP_(Electronic_Stability_Program)</th>\n",
       "      <th>Cooled_Glove_Box</th>\n",
       "      <th>Recommended_Tyre_Pressure</th>\n",
       "      <th>Heated_Seats</th>\n",
       "      <th>Turbocharger</th>\n",
       "      <th>ISOFIX_(Child-Seat_Mount)</th>\n",
       "      <th>Rain_Sensing_Wipers</th>\n",
       "      <th>Paddle_Shifters</th>\n",
       "      <th>Leather_Wrapped_Steering</th>\n",
       "      <th>Automatic_Headlamps</th>\n",
       "      <th>Engine_Type</th>\n",
       "      <th>ASR_/_Traction_Control</th>\n",
       "      <th>Cruise_Control</th>\n",
       "      <th>USB_Ports</th>\n",
       "      <th>Heads-Up_Display</th>\n",
       "      <th>Welcome_Lights</th>\n",
       "      <th>Battery</th>\n",
       "      <th>Electric_Range</th>\n",
       "    </tr>\n",
       "  </thead>\n",
       "  <tbody>\n",
       "    <tr>\n",
       "      <th>1173</th>\n",
       "      <td>1173</td>\n",
       "      <td>Maruti Suzuki R</td>\n",
       "      <td>Wagon</td>\n",
       "      <td>Vxi</td>\n",
       "      <td>Rs. 4,79,000</td>\n",
       "      <td>998 cc</td>\n",
       "      <td>3.0</td>\n",
       "      <td>4.0</td>\n",
       "      <td>FWD (Front Wheel Drive)</td>\n",
       "      <td>In-line</td>\n",
       "      <td>BS 6</td>\n",
       "      <td>Front, Transverse</td>\n",
       "      <td>Injection</td>\n",
       "      <td>32 litres</td>\n",
       "      <td>Petrol</td>\n",
       "      <td>1675 mm</td>\n",
       "      <td>3655 mm</td>\n",
       "      <td>1620 mm</td>\n",
       "      <td>Hatchback</td>\n",
       "      <td>5.0</td>\n",
       "      <td>NaN</td>\n",
       "      <td>NaN</td>\n",
       "      <td>22.5 km/litre</td>\n",
       "      <td>NaN</td>\n",
       "      <td>NaN</td>\n",
       "      <td>5</td>\n",
       "      <td>NaN</td>\n",
       "      <td>Ventilated Disc</td>\n",
       "      <td>Drum</td>\n",
       "      <td>Mc Pherson Strut with coil spring</td>\n",
       "      <td>Torsion Beam link with coil spring</td>\n",
       "      <td>NaN</td>\n",
       "      <td>NaN</td>\n",
       "      <td>165/70R14</td>\n",
       "      <td>165/70R14</td>\n",
       "      <td>Electric Power</td>\n",
       "      <td>All Windows</td>\n",
       "      <td>NaN</td>\n",
       "      <td>Remote</td>\n",
       "      <td>68PS@5500rpm</td>\n",
       "      <td>90Nm@3500rpm</td>\n",
       "      <td>Digital</td>\n",
       "      <td>Analog</td>\n",
       "      <td>Analog</td>\n",
       "      <td>2</td>\n",
       "      <td>5.0</td>\n",
       "      <td>Fabric</td>\n",
       "      <td>Manual</td>\n",
       "      <td>NaN</td>\n",
       "      <td>165/70R14</td>\n",
       "      <td>NaN</td>\n",
       "      <td>Yes</td>\n",
       "      <td>CD Player with USB &amp; Aux-in</td>\n",
       "      <td>Yes</td>\n",
       "      <td>Yes</td>\n",
       "      <td>2 years /40000 Kms (years/distance whichever c...</td>\n",
       "      <td>Yes</td>\n",
       "      <td>Internal</td>\n",
       "      <td>341 litres</td>\n",
       "      <td>Yes</td>\n",
       "      <td>Yes</td>\n",
       "      <td>Yes</td>\n",
       "      <td>Digital</td>\n",
       "      <td>Front</td>\n",
       "      <td>Yes</td>\n",
       "      <td>Front</td>\n",
       "      <td>Yes</td>\n",
       "      <td>3rd/4th year/up to 80,000 Kms (whichever comes...</td>\n",
       "      <td>Yes</td>\n",
       "      <td>Internal</td>\n",
       "      <td>Digital</td>\n",
       "      <td>Manual</td>\n",
       "      <td>Analog + Digital</td>\n",
       "      <td>Yes</td>\n",
       "      <td>NaN</td>\n",
       "      <td>Yes</td>\n",
       "      <td>Driver &amp; Front Passenger</td>\n",
       "      <td>Not Applicable</td>\n",
       "      <td>Manual Air conditioning with cooling and heating</td>\n",
       "      <td>Yes</td>\n",
       "      <td>NaN</td>\n",
       "      <td>NaN</td>\n",
       "      <td>NaN</td>\n",
       "      <td>NaN</td>\n",
       "      <td>NaN</td>\n",
       "      <td>NaN</td>\n",
       "      <td>Yes</td>\n",
       "      <td>NaN</td>\n",
       "      <td>NaN</td>\n",
       "      <td>NaN</td>\n",
       "      <td>Yes</td>\n",
       "      <td>NaN</td>\n",
       "      <td>NaN</td>\n",
       "      <td>Yes</td>\n",
       "      <td>Yes</td>\n",
       "      <td>All Rows</td>\n",
       "      <td>NaN</td>\n",
       "      <td>Driver frontal airbag</td>\n",
       "      <td>NaN</td>\n",
       "      <td>Yes</td>\n",
       "      <td>Yes</td>\n",
       "      <td>Yes</td>\n",
       "      <td>1.0</td>\n",
       "      <td>NaN</td>\n",
       "      <td>Rake</td>\n",
       "      <td>NaN</td>\n",
       "      <td>NaN</td>\n",
       "      <td>Rear sensors</td>\n",
       "      <td>Yes</td>\n",
       "      <td>Yes</td>\n",
       "      <td>NaN</td>\n",
       "      <td>NaN</td>\n",
       "      <td>NaN</td>\n",
       "      <td>Yes</td>\n",
       "      <td>NaN</td>\n",
       "      <td>NaN</td>\n",
       "      <td>NaN</td>\n",
       "      <td>NaN</td>\n",
       "      <td>NaN</td>\n",
       "      <td>NaN</td>\n",
       "      <td>NaN</td>\n",
       "      <td>NaN</td>\n",
       "      <td>NaN</td>\n",
       "      <td>NaN</td>\n",
       "      <td>NaN</td>\n",
       "      <td>NaN</td>\n",
       "      <td>NaN</td>\n",
       "      <td>NaN</td>\n",
       "      <td>NaN</td>\n",
       "      <td>NaN</td>\n",
       "      <td>NaN</td>\n",
       "      <td>NaN</td>\n",
       "      <td>NaN</td>\n",
       "      <td>NaN</td>\n",
       "      <td>NaN</td>\n",
       "      <td>NaN</td>\n",
       "      <td>NaN</td>\n",
       "      <td>NaN</td>\n",
       "      <td>NaN</td>\n",
       "      <td>NaN</td>\n",
       "      <td>NaN</td>\n",
       "    </tr>\n",
       "    <tr>\n",
       "      <th>1174</th>\n",
       "      <td>1174</td>\n",
       "      <td>Maruti Suzuki R</td>\n",
       "      <td>Wagon</td>\n",
       "      <td>Vxi Ags</td>\n",
       "      <td>Rs. 5,26,000</td>\n",
       "      <td>998 cc</td>\n",
       "      <td>3.0</td>\n",
       "      <td>4.0</td>\n",
       "      <td>FWD (Front Wheel Drive)</td>\n",
       "      <td>In-line</td>\n",
       "      <td>BS 6</td>\n",
       "      <td>Front, Transverse</td>\n",
       "      <td>Injection</td>\n",
       "      <td>32 litres</td>\n",
       "      <td>Petrol</td>\n",
       "      <td>1675 mm</td>\n",
       "      <td>3655 mm</td>\n",
       "      <td>1620 mm</td>\n",
       "      <td>Hatchback</td>\n",
       "      <td>5.0</td>\n",
       "      <td>NaN</td>\n",
       "      <td>NaN</td>\n",
       "      <td>22.5 km/litre</td>\n",
       "      <td>NaN</td>\n",
       "      <td>NaN</td>\n",
       "      <td>5</td>\n",
       "      <td>NaN</td>\n",
       "      <td>Ventilated Disc</td>\n",
       "      <td>Drum</td>\n",
       "      <td>Mc Pherson Strut with coil spring</td>\n",
       "      <td>Torsion Beam link with coil spring</td>\n",
       "      <td>NaN</td>\n",
       "      <td>NaN</td>\n",
       "      <td>165/70R14</td>\n",
       "      <td>165/70R14</td>\n",
       "      <td>Electric Power</td>\n",
       "      <td>All Windows</td>\n",
       "      <td>NaN</td>\n",
       "      <td>Remote</td>\n",
       "      <td>68PS@5500rpm</td>\n",
       "      <td>90Nm@3500rpm</td>\n",
       "      <td>Digital</td>\n",
       "      <td>Analog</td>\n",
       "      <td>Analog</td>\n",
       "      <td>2</td>\n",
       "      <td>5.0</td>\n",
       "      <td>Fabric</td>\n",
       "      <td>Automatic</td>\n",
       "      <td>NaN</td>\n",
       "      <td>165/70R14</td>\n",
       "      <td>NaN</td>\n",
       "      <td>Yes</td>\n",
       "      <td>CD Player with USB &amp; Aux-in</td>\n",
       "      <td>Yes</td>\n",
       "      <td>Yes</td>\n",
       "      <td>2 years /40000 Kms (years/distance whichever c...</td>\n",
       "      <td>Yes</td>\n",
       "      <td>Internal</td>\n",
       "      <td>341 litres</td>\n",
       "      <td>Yes</td>\n",
       "      <td>Yes</td>\n",
       "      <td>Yes</td>\n",
       "      <td>Digital</td>\n",
       "      <td>Front</td>\n",
       "      <td>Yes</td>\n",
       "      <td>Front</td>\n",
       "      <td>Yes</td>\n",
       "      <td>3rd/4th year/up to 80,000 Kms (whichever comes...</td>\n",
       "      <td>Yes</td>\n",
       "      <td>Internal</td>\n",
       "      <td>Digital</td>\n",
       "      <td>Manual</td>\n",
       "      <td>Analog + Digital</td>\n",
       "      <td>Yes</td>\n",
       "      <td>NaN</td>\n",
       "      <td>Yes</td>\n",
       "      <td>Driver &amp; Front Passenger</td>\n",
       "      <td>Not Applicable</td>\n",
       "      <td>Manual Air conditioning with cooling and heating</td>\n",
       "      <td>Yes</td>\n",
       "      <td>NaN</td>\n",
       "      <td>NaN</td>\n",
       "      <td>NaN</td>\n",
       "      <td>NaN</td>\n",
       "      <td>NaN</td>\n",
       "      <td>NaN</td>\n",
       "      <td>Yes</td>\n",
       "      <td>NaN</td>\n",
       "      <td>NaN</td>\n",
       "      <td>NaN</td>\n",
       "      <td>Yes</td>\n",
       "      <td>NaN</td>\n",
       "      <td>NaN</td>\n",
       "      <td>Yes</td>\n",
       "      <td>Yes</td>\n",
       "      <td>All Rows</td>\n",
       "      <td>NaN</td>\n",
       "      <td>Driver frontal airbag</td>\n",
       "      <td>NaN</td>\n",
       "      <td>Yes</td>\n",
       "      <td>Yes</td>\n",
       "      <td>Yes</td>\n",
       "      <td>1.0</td>\n",
       "      <td>NaN</td>\n",
       "      <td>Rake</td>\n",
       "      <td>NaN</td>\n",
       "      <td>NaN</td>\n",
       "      <td>Rear sensors</td>\n",
       "      <td>Yes</td>\n",
       "      <td>Yes</td>\n",
       "      <td>NaN</td>\n",
       "      <td>NaN</td>\n",
       "      <td>NaN</td>\n",
       "      <td>NaN</td>\n",
       "      <td>NaN</td>\n",
       "      <td>NaN</td>\n",
       "      <td>NaN</td>\n",
       "      <td>NaN</td>\n",
       "      <td>NaN</td>\n",
       "      <td>NaN</td>\n",
       "      <td>NaN</td>\n",
       "      <td>NaN</td>\n",
       "      <td>NaN</td>\n",
       "      <td>NaN</td>\n",
       "      <td>NaN</td>\n",
       "      <td>NaN</td>\n",
       "      <td>NaN</td>\n",
       "      <td>NaN</td>\n",
       "      <td>NaN</td>\n",
       "      <td>NaN</td>\n",
       "      <td>NaN</td>\n",
       "      <td>NaN</td>\n",
       "      <td>NaN</td>\n",
       "      <td>NaN</td>\n",
       "      <td>NaN</td>\n",
       "      <td>NaN</td>\n",
       "      <td>NaN</td>\n",
       "      <td>NaN</td>\n",
       "      <td>NaN</td>\n",
       "      <td>NaN</td>\n",
       "      <td>NaN</td>\n",
       "    </tr>\n",
       "    <tr>\n",
       "      <th>1175</th>\n",
       "      <td>1175</td>\n",
       "      <td>Maruti Suzuki R</td>\n",
       "      <td>Wagon</td>\n",
       "      <td>1.2L Zxi</td>\n",
       "      <td>Rs. 5,48,000</td>\n",
       "      <td>1197 cc</td>\n",
       "      <td>3.0</td>\n",
       "      <td>4.0</td>\n",
       "      <td>FWD (Front Wheel Drive)</td>\n",
       "      <td>In-line</td>\n",
       "      <td>BS 6</td>\n",
       "      <td>Front, Transverse</td>\n",
       "      <td>Injection</td>\n",
       "      <td>32 litres</td>\n",
       "      <td>Petrol</td>\n",
       "      <td>1620 mm</td>\n",
       "      <td>3655 mm</td>\n",
       "      <td>1675 mm</td>\n",
       "      <td>Hatchback</td>\n",
       "      <td>5.0</td>\n",
       "      <td>NaN</td>\n",
       "      <td>NaN</td>\n",
       "      <td>21.5 km/litre</td>\n",
       "      <td>NaN</td>\n",
       "      <td>NaN</td>\n",
       "      <td>5</td>\n",
       "      <td>NaN</td>\n",
       "      <td>Ventilated Disc</td>\n",
       "      <td>Drum</td>\n",
       "      <td>Mc Pherson Strut with coil spring</td>\n",
       "      <td>Isolated trailing link with coil spring</td>\n",
       "      <td>NaN</td>\n",
       "      <td>NaN</td>\n",
       "      <td>155/65R14</td>\n",
       "      <td>155/65R14</td>\n",
       "      <td>Electric Power</td>\n",
       "      <td>All Windows</td>\n",
       "      <td>NaN</td>\n",
       "      <td>Remote</td>\n",
       "      <td>83PS@6000rpm</td>\n",
       "      <td>1130Nm@4200rpm</td>\n",
       "      <td>Digital</td>\n",
       "      <td>Analog</td>\n",
       "      <td>Analog</td>\n",
       "      <td>2</td>\n",
       "      <td>5.0</td>\n",
       "      <td>Fabric</td>\n",
       "      <td>Manual</td>\n",
       "      <td>NaN</td>\n",
       "      <td>155/65R14</td>\n",
       "      <td>NaN</td>\n",
       "      <td>Yes</td>\n",
       "      <td>CD Player with USB &amp; Aux-in</td>\n",
       "      <td>Yes</td>\n",
       "      <td>Yes</td>\n",
       "      <td>2 years /40000 Kms (years/distance whichever c...</td>\n",
       "      <td>Yes</td>\n",
       "      <td>Internal</td>\n",
       "      <td>341 litres</td>\n",
       "      <td>Yes</td>\n",
       "      <td>Yes</td>\n",
       "      <td>Yes</td>\n",
       "      <td>Digital</td>\n",
       "      <td>Front</td>\n",
       "      <td>Yes</td>\n",
       "      <td>Front</td>\n",
       "      <td>Yes</td>\n",
       "      <td>3rd/4th year/up to 80,000 Kms (whichever comes...</td>\n",
       "      <td>Yes</td>\n",
       "      <td>Internal</td>\n",
       "      <td>Digital</td>\n",
       "      <td>Manual</td>\n",
       "      <td>Analog + Digital</td>\n",
       "      <td>Yes</td>\n",
       "      <td>NaN</td>\n",
       "      <td>Yes</td>\n",
       "      <td>Driver &amp; Front Passenger</td>\n",
       "      <td>Not Applicable</td>\n",
       "      <td>Manual Air conditioning with cooling and heating</td>\n",
       "      <td>Yes</td>\n",
       "      <td>NaN</td>\n",
       "      <td>NaN</td>\n",
       "      <td>NaN</td>\n",
       "      <td>NaN</td>\n",
       "      <td>NaN</td>\n",
       "      <td>NaN</td>\n",
       "      <td>Yes</td>\n",
       "      <td>NaN</td>\n",
       "      <td>NaN</td>\n",
       "      <td>NaN</td>\n",
       "      <td>Yes</td>\n",
       "      <td>NaN</td>\n",
       "      <td>NaN</td>\n",
       "      <td>Yes</td>\n",
       "      <td>Yes</td>\n",
       "      <td>All Rows</td>\n",
       "      <td>NaN</td>\n",
       "      <td>Front passenger frontal airbag, Driver frontal...</td>\n",
       "      <td>Yes</td>\n",
       "      <td>Yes</td>\n",
       "      <td>Yes</td>\n",
       "      <td>Yes</td>\n",
       "      <td>2.0</td>\n",
       "      <td>NaN</td>\n",
       "      <td>Rake</td>\n",
       "      <td>NaN</td>\n",
       "      <td>NaN</td>\n",
       "      <td>Rear sensors</td>\n",
       "      <td>Yes</td>\n",
       "      <td>Yes</td>\n",
       "      <td>NaN</td>\n",
       "      <td>NaN</td>\n",
       "      <td>NaN</td>\n",
       "      <td>Touch Sensitive</td>\n",
       "      <td>Multifunction Steering Wheel</td>\n",
       "      <td>Yes</td>\n",
       "      <td>NaN</td>\n",
       "      <td>NaN</td>\n",
       "      <td>NaN</td>\n",
       "      <td>NaN</td>\n",
       "      <td>NaN</td>\n",
       "      <td>NaN</td>\n",
       "      <td>Yes</td>\n",
       "      <td>NaN</td>\n",
       "      <td>NaN</td>\n",
       "      <td>NaN</td>\n",
       "      <td>NaN</td>\n",
       "      <td>NaN</td>\n",
       "      <td>NaN</td>\n",
       "      <td>NaN</td>\n",
       "      <td>NaN</td>\n",
       "      <td>NaN</td>\n",
       "      <td>NaN</td>\n",
       "      <td>NaN</td>\n",
       "      <td>NaN</td>\n",
       "      <td>NaN</td>\n",
       "      <td>NaN</td>\n",
       "      <td>NaN</td>\n",
       "      <td>NaN</td>\n",
       "      <td>NaN</td>\n",
       "      <td>NaN</td>\n",
       "    </tr>\n",
       "    <tr>\n",
       "      <th>1176</th>\n",
       "      <td>1176</td>\n",
       "      <td>Maruti Suzuki R</td>\n",
       "      <td>Wagon</td>\n",
       "      <td>Lxi</td>\n",
       "      <td>Rs. 4,34,000</td>\n",
       "      <td>998 cc</td>\n",
       "      <td>3.0</td>\n",
       "      <td>4.0</td>\n",
       "      <td>FWD (Front Wheel Drive)</td>\n",
       "      <td>In-line</td>\n",
       "      <td>BS 6</td>\n",
       "      <td>Front, Transverse</td>\n",
       "      <td>Injection</td>\n",
       "      <td>32 litres</td>\n",
       "      <td>Petrol</td>\n",
       "      <td>1675 mm</td>\n",
       "      <td>3655 mm</td>\n",
       "      <td>1620 mm</td>\n",
       "      <td>Hatchback</td>\n",
       "      <td>5.0</td>\n",
       "      <td>NaN</td>\n",
       "      <td>NaN</td>\n",
       "      <td>22.5 km/litre</td>\n",
       "      <td>NaN</td>\n",
       "      <td>NaN</td>\n",
       "      <td>5</td>\n",
       "      <td>NaN</td>\n",
       "      <td>Ventilated Disc</td>\n",
       "      <td>Drum</td>\n",
       "      <td>Mc Pherson Strut with coil spring</td>\n",
       "      <td>Isolated trailing link with coil spring</td>\n",
       "      <td>NaN</td>\n",
       "      <td>NaN</td>\n",
       "      <td>145/80R13</td>\n",
       "      <td>145/80R13</td>\n",
       "      <td>Electric Power</td>\n",
       "      <td>Only Front Windows</td>\n",
       "      <td>NaN</td>\n",
       "      <td>NaN</td>\n",
       "      <td>68PS@5500rpm</td>\n",
       "      <td>90Nm@3500rpm</td>\n",
       "      <td>Digital</td>\n",
       "      <td>Analog</td>\n",
       "      <td>Not on offer</td>\n",
       "      <td>2</td>\n",
       "      <td>5.0</td>\n",
       "      <td>Fabric</td>\n",
       "      <td>Manual</td>\n",
       "      <td>NaN</td>\n",
       "      <td>145/80R13</td>\n",
       "      <td>NaN</td>\n",
       "      <td>Yes</td>\n",
       "      <td>Not on offer</td>\n",
       "      <td>NaN</td>\n",
       "      <td>NaN</td>\n",
       "      <td>2 years /40000 Kms (years/distance whichever c...</td>\n",
       "      <td>NaN</td>\n",
       "      <td>Internal</td>\n",
       "      <td>341 litres</td>\n",
       "      <td>NaN</td>\n",
       "      <td>Yes</td>\n",
       "      <td>Yes</td>\n",
       "      <td>NaN</td>\n",
       "      <td>Front</td>\n",
       "      <td>Yes</td>\n",
       "      <td>Front</td>\n",
       "      <td>Yes</td>\n",
       "      <td>3rd/4th year/up to 80,000 Kms (whichever comes...</td>\n",
       "      <td>NaN</td>\n",
       "      <td>Internal</td>\n",
       "      <td>Digital</td>\n",
       "      <td>Manual</td>\n",
       "      <td>Analog + Digital</td>\n",
       "      <td>Yes</td>\n",
       "      <td>NaN</td>\n",
       "      <td>Yes</td>\n",
       "      <td>Driver &amp; Front Passenger</td>\n",
       "      <td>Not Applicable</td>\n",
       "      <td>Manual Air conditioning with cooling and heating</td>\n",
       "      <td>Yes</td>\n",
       "      <td>NaN</td>\n",
       "      <td>NaN</td>\n",
       "      <td>NaN</td>\n",
       "      <td>NaN</td>\n",
       "      <td>NaN</td>\n",
       "      <td>NaN</td>\n",
       "      <td>Yes</td>\n",
       "      <td>NaN</td>\n",
       "      <td>NaN</td>\n",
       "      <td>NaN</td>\n",
       "      <td>Yes</td>\n",
       "      <td>NaN</td>\n",
       "      <td>NaN</td>\n",
       "      <td>Yes</td>\n",
       "      <td>NaN</td>\n",
       "      <td>All Rows</td>\n",
       "      <td>NaN</td>\n",
       "      <td>Driver frontal airbag</td>\n",
       "      <td>NaN</td>\n",
       "      <td>Yes</td>\n",
       "      <td>Yes</td>\n",
       "      <td>NaN</td>\n",
       "      <td>1.0</td>\n",
       "      <td>NaN</td>\n",
       "      <td>NaN</td>\n",
       "      <td>NaN</td>\n",
       "      <td>NaN</td>\n",
       "      <td>Rear sensors</td>\n",
       "      <td>NaN</td>\n",
       "      <td>NaN</td>\n",
       "      <td>NaN</td>\n",
       "      <td>NaN</td>\n",
       "      <td>NaN</td>\n",
       "      <td>NaN</td>\n",
       "      <td>NaN</td>\n",
       "      <td>NaN</td>\n",
       "      <td>NaN</td>\n",
       "      <td>NaN</td>\n",
       "      <td>NaN</td>\n",
       "      <td>NaN</td>\n",
       "      <td>NaN</td>\n",
       "      <td>NaN</td>\n",
       "      <td>NaN</td>\n",
       "      <td>NaN</td>\n",
       "      <td>NaN</td>\n",
       "      <td>NaN</td>\n",
       "      <td>NaN</td>\n",
       "      <td>NaN</td>\n",
       "      <td>NaN</td>\n",
       "      <td>NaN</td>\n",
       "      <td>NaN</td>\n",
       "      <td>NaN</td>\n",
       "      <td>NaN</td>\n",
       "      <td>NaN</td>\n",
       "      <td>NaN</td>\n",
       "      <td>NaN</td>\n",
       "      <td>NaN</td>\n",
       "      <td>NaN</td>\n",
       "      <td>NaN</td>\n",
       "      <td>NaN</td>\n",
       "      <td>NaN</td>\n",
       "    </tr>\n",
       "    <tr>\n",
       "      <th>1177</th>\n",
       "      <td>1177</td>\n",
       "      <td>Maruti Suzuki R</td>\n",
       "      <td>Wagon</td>\n",
       "      <td>1.2L Vxi</td>\n",
       "      <td>Rs. 5,13,501</td>\n",
       "      <td>1197 cc</td>\n",
       "      <td>3.0</td>\n",
       "      <td>4.0</td>\n",
       "      <td>FWD (Front Wheel Drive)</td>\n",
       "      <td>In-line</td>\n",
       "      <td>BS 6</td>\n",
       "      <td>Front, Transverse</td>\n",
       "      <td>Injection</td>\n",
       "      <td>32 litres</td>\n",
       "      <td>Petrol</td>\n",
       "      <td>1675 mm</td>\n",
       "      <td>3655 mm</td>\n",
       "      <td>1620 mm</td>\n",
       "      <td>Hatchback</td>\n",
       "      <td>5.0</td>\n",
       "      <td>NaN</td>\n",
       "      <td>NaN</td>\n",
       "      <td>21.5 km/litre</td>\n",
       "      <td>NaN</td>\n",
       "      <td>830 kg</td>\n",
       "      <td>5</td>\n",
       "      <td>NaN</td>\n",
       "      <td>Ventilated Disc</td>\n",
       "      <td>Drum</td>\n",
       "      <td>Mc Pherson Strut with coil spring</td>\n",
       "      <td>Torsion beam with coil spring</td>\n",
       "      <td>NaN</td>\n",
       "      <td>NaN</td>\n",
       "      <td>165/70R14</td>\n",
       "      <td>165/70R14</td>\n",
       "      <td>Electric Power</td>\n",
       "      <td>All Windows</td>\n",
       "      <td>NaN</td>\n",
       "      <td>Remote</td>\n",
       "      <td>83PS@6000rpm</td>\n",
       "      <td>113Nm@4200RPM</td>\n",
       "      <td>Digital</td>\n",
       "      <td>Analog</td>\n",
       "      <td>Analog</td>\n",
       "      <td>2</td>\n",
       "      <td>5.0</td>\n",
       "      <td>Fabric</td>\n",
       "      <td>Manual</td>\n",
       "      <td>2435 mm</td>\n",
       "      <td>165/70R14</td>\n",
       "      <td>NaN</td>\n",
       "      <td>Yes</td>\n",
       "      <td>CD Player with USB &amp; Aux-in</td>\n",
       "      <td>Yes</td>\n",
       "      <td>Yes</td>\n",
       "      <td>2 years /40000 Kms (years/distance whichever c...</td>\n",
       "      <td>Yes</td>\n",
       "      <td>Internal</td>\n",
       "      <td>341 litres</td>\n",
       "      <td>Yes</td>\n",
       "      <td>Yes</td>\n",
       "      <td>Yes</td>\n",
       "      <td>Digital</td>\n",
       "      <td>Front</td>\n",
       "      <td>Yes</td>\n",
       "      <td>Front</td>\n",
       "      <td>Yes</td>\n",
       "      <td>3rd/4th year/up to 80,000 Kms (whichever comes...</td>\n",
       "      <td>Yes</td>\n",
       "      <td>Internal</td>\n",
       "      <td>Digital</td>\n",
       "      <td>Manual</td>\n",
       "      <td>Analog + Digital</td>\n",
       "      <td>Yes</td>\n",
       "      <td>4.7 meter</td>\n",
       "      <td>Yes</td>\n",
       "      <td>Driver &amp; Front Passenger</td>\n",
       "      <td>Not Applicable</td>\n",
       "      <td>Manual Air conditioning with cooling and heating</td>\n",
       "      <td>Yes</td>\n",
       "      <td>NaN</td>\n",
       "      <td>NaN</td>\n",
       "      <td>NaN</td>\n",
       "      <td>NaN</td>\n",
       "      <td>NaN</td>\n",
       "      <td>NaN</td>\n",
       "      <td>Yes</td>\n",
       "      <td>NaN</td>\n",
       "      <td>NaN</td>\n",
       "      <td>NaN</td>\n",
       "      <td>Yes</td>\n",
       "      <td>NaN</td>\n",
       "      <td>NaN</td>\n",
       "      <td>Yes</td>\n",
       "      <td>Yes</td>\n",
       "      <td>All Rows</td>\n",
       "      <td>1340 kg</td>\n",
       "      <td>Driver frontal airbag</td>\n",
       "      <td>NaN</td>\n",
       "      <td>Yes</td>\n",
       "      <td>Yes</td>\n",
       "      <td>Yes</td>\n",
       "      <td>1.0</td>\n",
       "      <td>NaN</td>\n",
       "      <td>Rake</td>\n",
       "      <td>NaN</td>\n",
       "      <td>NaN</td>\n",
       "      <td>Rear sensors</td>\n",
       "      <td>Yes</td>\n",
       "      <td>Yes</td>\n",
       "      <td>NaN</td>\n",
       "      <td>NaN</td>\n",
       "      <td>NaN</td>\n",
       "      <td>Yes</td>\n",
       "      <td>NaN</td>\n",
       "      <td>Yes</td>\n",
       "      <td>NaN</td>\n",
       "      <td>NaN</td>\n",
       "      <td>NaN</td>\n",
       "      <td>NaN</td>\n",
       "      <td>NaN</td>\n",
       "      <td>NaN</td>\n",
       "      <td>NaN</td>\n",
       "      <td>NaN</td>\n",
       "      <td>NaN</td>\n",
       "      <td>NaN</td>\n",
       "      <td>NaN</td>\n",
       "      <td>NaN</td>\n",
       "      <td>NaN</td>\n",
       "      <td>NaN</td>\n",
       "      <td>NaN</td>\n",
       "      <td>NaN</td>\n",
       "      <td>NaN</td>\n",
       "      <td>NaN</td>\n",
       "      <td>NaN</td>\n",
       "      <td>NaN</td>\n",
       "      <td>NaN</td>\n",
       "      <td>NaN</td>\n",
       "      <td>NaN</td>\n",
       "      <td>NaN</td>\n",
       "      <td>NaN</td>\n",
       "    </tr>\n",
       "  </tbody>\n",
       "</table>\n",
       "</div>"
      ],
      "text/plain": [
       "      Unnamed: 0             Make  Model   Variant Ex-Showroom_Price  \\\n",
       "1173        1173  Maruti Suzuki R  Wagon       Vxi      Rs. 4,79,000   \n",
       "1174        1174  Maruti Suzuki R  Wagon   Vxi Ags      Rs. 5,26,000   \n",
       "1175        1175  Maruti Suzuki R  Wagon  1.2L Zxi      Rs. 5,48,000   \n",
       "1176        1176  Maruti Suzuki R  Wagon       Lxi      Rs. 4,34,000   \n",
       "1177        1177  Maruti Suzuki R  Wagon  1.2L Vxi      Rs. 5,13,501   \n",
       "\n",
       "     Displacement  Cylinders  Valves_Per_Cylinder               Drivetrain  \\\n",
       "1173       998 cc        3.0                  4.0  FWD (Front Wheel Drive)   \n",
       "1174       998 cc        3.0                  4.0  FWD (Front Wheel Drive)   \n",
       "1175      1197 cc        3.0                  4.0  FWD (Front Wheel Drive)   \n",
       "1176       998 cc        3.0                  4.0  FWD (Front Wheel Drive)   \n",
       "1177      1197 cc        3.0                  4.0  FWD (Front Wheel Drive)   \n",
       "\n",
       "     Cylinder_Configuration Emission_Norm    Engine_Location Fuel_System  \\\n",
       "1173                In-line          BS 6  Front, Transverse   Injection   \n",
       "1174                In-line          BS 6  Front, Transverse   Injection   \n",
       "1175                In-line          BS 6  Front, Transverse   Injection   \n",
       "1176                In-line          BS 6  Front, Transverse   Injection   \n",
       "1177                In-line          BS 6  Front, Transverse   Injection   \n",
       "\n",
       "     Fuel_Tank_Capacity Fuel_Type   Height   Length    Width  Body_Type  \\\n",
       "1173          32 litres    Petrol  1675 mm  3655 mm  1620 mm  Hatchback   \n",
       "1174          32 litres    Petrol  1675 mm  3655 mm  1620 mm  Hatchback   \n",
       "1175          32 litres    Petrol  1620 mm  3655 mm  1675 mm  Hatchback   \n",
       "1176          32 litres    Petrol  1675 mm  3655 mm  1620 mm  Hatchback   \n",
       "1177          32 litres    Petrol  1675 mm  3655 mm  1620 mm  Hatchback   \n",
       "\n",
       "      Doors City_Mileage Highway_Mileage ARAI_Certified_Mileage  \\\n",
       "1173    5.0          NaN             NaN          22.5 km/litre   \n",
       "1174    5.0          NaN             NaN          22.5 km/litre   \n",
       "1175    5.0          NaN             NaN          21.5 km/litre   \n",
       "1176    5.0          NaN             NaN          22.5 km/litre   \n",
       "1177    5.0          NaN             NaN          21.5 km/litre   \n",
       "\n",
       "     ARAI_Certified_Mileage_for_CNG Kerb_Weight Gears Ground_Clearance  \\\n",
       "1173                            NaN         NaN     5              NaN   \n",
       "1174                            NaN         NaN     5              NaN   \n",
       "1175                            NaN         NaN     5              NaN   \n",
       "1176                            NaN         NaN     5              NaN   \n",
       "1177                            NaN      830 kg     5              NaN   \n",
       "\n",
       "         Front_Brakes Rear_Brakes                   Front_Suspension  \\\n",
       "1173  Ventilated Disc        Drum  Mc Pherson Strut with coil spring   \n",
       "1174  Ventilated Disc        Drum  Mc Pherson Strut with coil spring   \n",
       "1175  Ventilated Disc        Drum  Mc Pherson Strut with coil spring   \n",
       "1176  Ventilated Disc        Drum  Mc Pherson Strut with coil spring   \n",
       "1177  Ventilated Disc        Drum  Mc Pherson Strut with coil spring   \n",
       "\n",
       "                              Rear_Suspension Front_Track Rear_Track  \\\n",
       "1173       Torsion Beam link with coil spring         NaN        NaN   \n",
       "1174       Torsion Beam link with coil spring         NaN        NaN   \n",
       "1175  Isolated trailing link with coil spring         NaN        NaN   \n",
       "1176  Isolated trailing link with coil spring         NaN        NaN   \n",
       "1177            Torsion beam with coil spring         NaN        NaN   \n",
       "\n",
       "     Front_Tyre_&_Rim Rear_Tyre_&_Rim  Power_Steering       Power_Windows  \\\n",
       "1173        165/70R14       165/70R14  Electric Power         All Windows   \n",
       "1174        165/70R14       165/70R14  Electric Power         All Windows   \n",
       "1175        155/65R14       155/65R14  Electric Power         All Windows   \n",
       "1176        145/80R13       145/80R13  Electric Power  Only Front Windows   \n",
       "1177        165/70R14       165/70R14  Electric Power         All Windows   \n",
       "\n",
       "     Power_Seats Keyless_Entry         Power          Torque Odometer  \\\n",
       "1173         NaN        Remote  68PS@5500rpm    90Nm@3500rpm  Digital   \n",
       "1174         NaN        Remote  68PS@5500rpm    90Nm@3500rpm  Digital   \n",
       "1175         NaN        Remote  83PS@6000rpm  1130Nm@4200rpm  Digital   \n",
       "1176         NaN           NaN  68PS@5500rpm    90Nm@3500rpm  Digital   \n",
       "1177         NaN        Remote  83PS@6000rpm   113Nm@4200RPM  Digital   \n",
       "\n",
       "     Speedometer    Tachometer Tripmeter  Seating_Capacity Seats_Material  \\\n",
       "1173      Analog        Analog         2               5.0         Fabric   \n",
       "1174      Analog        Analog         2               5.0         Fabric   \n",
       "1175      Analog        Analog         2               5.0         Fabric   \n",
       "1176      Analog  Not on offer         2               5.0         Fabric   \n",
       "1177      Analog        Analog         2               5.0         Fabric   \n",
       "\n",
       "           Type Wheelbase Wheels_Size Start_/_Stop_Button 12v_Power_Outlet  \\\n",
       "1173     Manual       NaN   165/70R14                 NaN              Yes   \n",
       "1174  Automatic       NaN   165/70R14                 NaN              Yes   \n",
       "1175     Manual       NaN   155/65R14                 NaN              Yes   \n",
       "1176     Manual       NaN   145/80R13                 NaN              Yes   \n",
       "1177     Manual   2435 mm   165/70R14                 NaN              Yes   \n",
       "\n",
       "                      Audiosystem Aux-in_Compatibility  \\\n",
       "1173  CD Player with USB & Aux-in                  Yes   \n",
       "1174  CD Player with USB & Aux-in                  Yes   \n",
       "1175  CD Player with USB & Aux-in                  Yes   \n",
       "1176                 Not on offer                  NaN   \n",
       "1177  CD Player with USB & Aux-in                  Yes   \n",
       "\n",
       "     Average_Fuel_Consumption  \\\n",
       "1173                      Yes   \n",
       "1174                      Yes   \n",
       "1175                      Yes   \n",
       "1176                      NaN   \n",
       "1177                      Yes   \n",
       "\n",
       "                                         Basic_Warranty Bluetooth  \\\n",
       "1173  2 years /40000 Kms (years/distance whichever c...       Yes   \n",
       "1174  2 years /40000 Kms (years/distance whichever c...       Yes   \n",
       "1175  2 years /40000 Kms (years/distance whichever c...       Yes   \n",
       "1176  2 years /40000 Kms (years/distance whichever c...       NaN   \n",
       "1177  2 years /40000 Kms (years/distance whichever c...       Yes   \n",
       "\n",
       "     Boot-lid_Opener  Boot_Space CD_/_MP3_/_DVD_Player Central_Locking  \\\n",
       "1173        Internal  341 litres                   Yes             Yes   \n",
       "1174        Internal  341 litres                   Yes             Yes   \n",
       "1175        Internal  341 litres                   Yes             Yes   \n",
       "1176        Internal  341 litres                   NaN             Yes   \n",
       "1177        Internal  341 litres                   Yes             Yes   \n",
       "\n",
       "     Child_Safety_Locks    Clock Cup_Holders Distance_to_Empty Door_Pockets  \\\n",
       "1173                Yes  Digital       Front               Yes        Front   \n",
       "1174                Yes  Digital       Front               Yes        Front   \n",
       "1175                Yes  Digital       Front               Yes        Front   \n",
       "1176                Yes      NaN       Front               Yes        Front   \n",
       "1177                Yes  Digital       Front               Yes        Front   \n",
       "\n",
       "     Engine_Malfunction_Light  \\\n",
       "1173                      Yes   \n",
       "1174                      Yes   \n",
       "1175                      Yes   \n",
       "1176                      Yes   \n",
       "1177                      Yes   \n",
       "\n",
       "                                      Extended_Warranty FM_Radio  \\\n",
       "1173  3rd/4th year/up to 80,000 Kms (whichever comes...      Yes   \n",
       "1174  3rd/4th year/up to 80,000 Kms (whichever comes...      Yes   \n",
       "1175  3rd/4th year/up to 80,000 Kms (whichever comes...      Yes   \n",
       "1176  3rd/4th year/up to 80,000 Kms (whichever comes...      NaN   \n",
       "1177  3rd/4th year/up to 80,000 Kms (whichever comes...      Yes   \n",
       "\n",
       "     Fuel-lid_Opener Fuel_Gauge Handbrake Instrument_Console Low_Fuel_Warning  \\\n",
       "1173        Internal    Digital    Manual   Analog + Digital              Yes   \n",
       "1174        Internal    Digital    Manual   Analog + Digital              Yes   \n",
       "1175        Internal    Digital    Manual   Analog + Digital              Yes   \n",
       "1176        Internal    Digital    Manual   Analog + Digital              Yes   \n",
       "1177        Internal    Digital    Manual   Analog + Digital              Yes   \n",
       "\n",
       "     Minimum_Turning_Radius Multifunction_Display                 Sun_Visor  \\\n",
       "1173                    NaN                   Yes  Driver & Front Passenger   \n",
       "1174                    NaN                   Yes  Driver & Front Passenger   \n",
       "1175                    NaN                   Yes  Driver & Front Passenger   \n",
       "1176                    NaN                   Yes  Driver & Front Passenger   \n",
       "1177              4.7 meter                   Yes  Driver & Front Passenger   \n",
       "\n",
       "     Third_Row_AC_Vents                                Ventilation_System  \\\n",
       "1173     Not Applicable  Manual Air conditioning with cooling and heating   \n",
       "1174     Not Applicable  Manual Air conditioning with cooling and heating   \n",
       "1175     Not Applicable  Manual Air conditioning with cooling and heating   \n",
       "1176     Not Applicable  Manual Air conditioning with cooling and heating   \n",
       "1177     Not Applicable  Manual Air conditioning with cooling and heating   \n",
       "\n",
       "     Auto-Dimming_Rear-View_Mirror Hill_Assist Gear_Indicator  \\\n",
       "1173                           Yes         NaN            NaN   \n",
       "1174                           Yes         NaN            NaN   \n",
       "1175                           Yes         NaN            NaN   \n",
       "1176                           Yes         NaN            NaN   \n",
       "1177                           Yes         NaN            NaN   \n",
       "\n",
       "     3_Point_Seat-Belt_in_Middle_Rear_Seat Ambient_Lightning  \\\n",
       "1173                                   NaN               NaN   \n",
       "1174                                   NaN               NaN   \n",
       "1175                                   NaN               NaN   \n",
       "1176                                   NaN               NaN   \n",
       "1177                                   NaN               NaN   \n",
       "\n",
       "     Cargo/Boot_Lights Drive_Modes Engine_Immobilizer High_Speed_Alert_System  \\\n",
       "1173               NaN         NaN                Yes                     NaN   \n",
       "1174               NaN         NaN                Yes                     NaN   \n",
       "1175               NaN         NaN                Yes                     NaN   \n",
       "1176               NaN         NaN                Yes                     NaN   \n",
       "1177               NaN         NaN                Yes                     NaN   \n",
       "\n",
       "     Lane_Watch_Camera/_Side_Mirror_Camera Passenger_Side_Seat-Belt_Reminder  \\\n",
       "1173                                   NaN                               NaN   \n",
       "1174                                   NaN                               NaN   \n",
       "1175                                   NaN                               NaN   \n",
       "1176                                   NaN                               NaN   \n",
       "1177                                   NaN                               NaN   \n",
       "\n",
       "     Seat_Back_Pockets Voice_Recognition Walk_Away_Auto_Car_Lock  \\\n",
       "1173               Yes               NaN                     NaN   \n",
       "1174               Yes               NaN                     NaN   \n",
       "1175               Yes               NaN                     NaN   \n",
       "1176               Yes               NaN                     NaN   \n",
       "1177               Yes               NaN                     NaN   \n",
       "\n",
       "     ABS_(Anti-lock_Braking_System) Headlight_Reminder Adjustable_Headrests  \\\n",
       "1173                            Yes                Yes             All Rows   \n",
       "1174                            Yes                Yes             All Rows   \n",
       "1175                            Yes                Yes             All Rows   \n",
       "1176                            Yes                NaN             All Rows   \n",
       "1177                            Yes                Yes             All Rows   \n",
       "\n",
       "     Gross_Vehicle_Weight                                            Airbags  \\\n",
       "1173                  NaN                              Driver frontal airbag   \n",
       "1174                  NaN                              Driver frontal airbag   \n",
       "1175                  NaN  Front passenger frontal airbag, Driver frontal...   \n",
       "1176                  NaN                              Driver frontal airbag   \n",
       "1177              1340 kg                              Driver frontal airbag   \n",
       "\n",
       "     Door_Ajar_Warning EBD_(Electronic_Brake-force_Distribution)  \\\n",
       "1173               NaN                                       Yes   \n",
       "1174               NaN                                       Yes   \n",
       "1175               Yes                                       Yes   \n",
       "1176               NaN                                       Yes   \n",
       "1177               NaN                                       Yes   \n",
       "\n",
       "     Fasten_Seat_Belt_Warning Gear_Shift_Reminder  Number_of_Airbags  \\\n",
       "1173                      Yes                 Yes                1.0   \n",
       "1174                      Yes                 Yes                1.0   \n",
       "1175                      Yes                 Yes                2.0   \n",
       "1176                      Yes                 NaN                1.0   \n",
       "1177                      Yes                 Yes                1.0   \n",
       "\n",
       "     Compression_Ratio Adjustable_Steering_Column Other_Specs Other_specs  \\\n",
       "1173               NaN                       Rake         NaN         NaN   \n",
       "1174               NaN                       Rake         NaN         NaN   \n",
       "1175               NaN                       Rake         NaN         NaN   \n",
       "1176               NaN                        NaN         NaN         NaN   \n",
       "1177               NaN                       Rake         NaN         NaN   \n",
       "\n",
       "     Parking_Assistance Key_Off_Reminder USB_Compatibility Android_Auto  \\\n",
       "1173       Rear sensors              Yes               Yes          NaN   \n",
       "1174       Rear sensors              Yes               Yes          NaN   \n",
       "1175       Rear sensors              Yes               Yes          NaN   \n",
       "1176       Rear sensors              NaN               NaN          NaN   \n",
       "1177       Rear sensors              Yes               Yes          NaN   \n",
       "\n",
       "     Apple_CarPlay Cigarette_Lighter Infotainment_Screen  \\\n",
       "1173           NaN               NaN                 Yes   \n",
       "1174           NaN               NaN                 NaN   \n",
       "1175           NaN               NaN     Touch Sensitive   \n",
       "1176           NaN               NaN                 NaN   \n",
       "1177           NaN               NaN                 Yes   \n",
       "\n",
       "      Multifunction_Steering_Wheel Average_Speed  \\\n",
       "1173                           NaN           NaN   \n",
       "1174                           NaN           NaN   \n",
       "1175  Multifunction Steering Wheel           Yes   \n",
       "1176                           NaN           NaN   \n",
       "1177                           NaN           Yes   \n",
       "\n",
       "     EBA_(Electronic_Brake_Assist) Seat_Height_Adjustment Navigation_System  \\\n",
       "1173                           NaN                    NaN               NaN   \n",
       "1174                           NaN                    NaN               NaN   \n",
       "1175                           NaN                    NaN               NaN   \n",
       "1176                           NaN                    NaN               NaN   \n",
       "1177                           NaN                    NaN               NaN   \n",
       "\n",
       "     Second_Row_AC_Vents Tyre_Pressure_Monitoring_System Rear_Center_Armrest  \\\n",
       "1173                 NaN                             NaN                 NaN   \n",
       "1174                 NaN                             NaN                 NaN   \n",
       "1175                 NaN                             NaN                 NaN   \n",
       "1176                 NaN                             NaN                 NaN   \n",
       "1177                 NaN                             NaN                 NaN   \n",
       "\n",
       "     iPod_Compatibility ESP_(Electronic_Stability_Program) Cooled_Glove_Box  \\\n",
       "1173                NaN                                NaN              NaN   \n",
       "1174                NaN                                NaN              NaN   \n",
       "1175                Yes                                NaN              NaN   \n",
       "1176                NaN                                NaN              NaN   \n",
       "1177                NaN                                NaN              NaN   \n",
       "\n",
       "     Recommended_Tyre_Pressure Heated_Seats Turbocharger  \\\n",
       "1173                       NaN          NaN          NaN   \n",
       "1174                       NaN          NaN          NaN   \n",
       "1175                       NaN          NaN          NaN   \n",
       "1176                       NaN          NaN          NaN   \n",
       "1177                       NaN          NaN          NaN   \n",
       "\n",
       "     ISOFIX_(Child-Seat_Mount) Rain_Sensing_Wipers Paddle_Shifters  \\\n",
       "1173                       NaN                 NaN             NaN   \n",
       "1174                       NaN                 NaN             NaN   \n",
       "1175                       NaN                 NaN             NaN   \n",
       "1176                       NaN                 NaN             NaN   \n",
       "1177                       NaN                 NaN             NaN   \n",
       "\n",
       "     Leather_Wrapped_Steering Automatic_Headlamps Engine_Type  \\\n",
       "1173                      NaN                 NaN         NaN   \n",
       "1174                      NaN                 NaN         NaN   \n",
       "1175                      NaN                 NaN         NaN   \n",
       "1176                      NaN                 NaN         NaN   \n",
       "1177                      NaN                 NaN         NaN   \n",
       "\n",
       "     ASR_/_Traction_Control Cruise_Control  USB_Ports Heads-Up_Display  \\\n",
       "1173                    NaN            NaN        NaN              NaN   \n",
       "1174                    NaN            NaN        NaN              NaN   \n",
       "1175                    NaN            NaN        NaN              NaN   \n",
       "1176                    NaN            NaN        NaN              NaN   \n",
       "1177                    NaN            NaN        NaN              NaN   \n",
       "\n",
       "     Welcome_Lights Battery Electric_Range  \n",
       "1173            NaN     NaN            NaN  \n",
       "1174            NaN     NaN            NaN  \n",
       "1175            NaN     NaN            NaN  \n",
       "1176            NaN     NaN            NaN  \n",
       "1177            NaN     NaN            NaN  "
      ]
     },
     "execution_count": 343,
     "metadata": {},
     "output_type": "execute_result"
    }
   ],
   "source": [
    "make_msr=df[df['Make']=='Maruti Suzuki R']\n",
    "make_msr.head()"
   ]
  },
  {
   "cell_type": "code",
   "execution_count": 344,
   "metadata": {},
   "outputs": [
    {
     "data": {
      "text/plain": [
       "array(['Tata', 'Datsun', 'Renault', 'Maruti Suzuki', 'Hyundai', 'Premier',\n",
       "       'Toyota', 'Nissan', 'Volkswagen', 'Ford', 'Mahindra', 'Fiat',\n",
       "       'Honda', 'Jeep', 'Isuzu', 'Skoda', 'Audi', nan, 'Dc', 'Mini',\n",
       "       'Volvo', 'Jaguar', 'Bmw', 'Land Rover', 'Porsche', 'Lexus',\n",
       "       'Maserati', 'Lamborghini', 'Bentley', 'Ferrari', 'Aston Martin',\n",
       "       'Bugatti', 'Bajaj', 'Icml', 'Force', 'Mg', 'Kia',\n",
       "       'Land Rover Rover', 'Mitsubishi'], dtype=object)"
      ]
     },
     "execution_count": 344,
     "metadata": {},
     "output_type": "execute_result"
    }
   ],
   "source": [
    "# replacing the 'Maruti Suzuki R' with 'Maruti Suzuki'\n",
    "df['Make']=df['Make'].replace('Maruti Suzuki R', 'Maruti Suzuki')\n",
    "df.Make.unique()"
   ]
  },
  {
   "cell_type": "code",
   "execution_count": 345,
   "metadata": {},
   "outputs": [
    {
     "data": {
      "text/plain": [
       "array(['Tata', 'Datsun', 'Renault', 'Maruti Suzuki', 'Hyundai', 'Premier',\n",
       "       'Toyota', 'Nissan', 'Volkswagen', 'Ford', 'Mahindra', 'Fiat',\n",
       "       'Honda', 'Jeep', 'Isuzu', 'Skoda', 'Audi', 'Dc', 'Mini', 'Volvo',\n",
       "       'Jaguar', 'Bmw', 'Land Rover', 'Porsche', 'Lexus', 'Maserati',\n",
       "       'Lamborghini', 'Bentley', 'Ferrari', 'Aston Martin', 'Bugatti',\n",
       "       'Bajaj', 'Icml', 'Force', 'Mg', 'Kia', 'Land Rover Rover',\n",
       "       'Mitsubishi'], dtype=object)"
      ]
     },
     "execution_count": 345,
     "metadata": {},
     "output_type": "execute_result"
    }
   ],
   "source": [
    "df=df.dropna(subset=['Make']) \n",
    "df.Make.unique()"
   ]
  },
  {
   "cell_type": "markdown",
   "metadata": {},
   "source": [
    "### Ex-Showroom_Price"
   ]
  },
  {
   "cell_type": "code",
   "execution_count": 346,
   "metadata": {},
   "outputs": [],
   "source": [
    "df['Ex-Showroom_Price']=df['Ex-Showroom_Price'].apply(lambda x: x.split(' ')[1])"
   ]
  },
  {
   "cell_type": "code",
   "execution_count": 347,
   "metadata": {},
   "outputs": [],
   "source": [
    "df['Ex-Showroom_Price']=df['Ex-Showroom_Price'].apply(lambda x: x.replace(',',''))"
   ]
  },
  {
   "cell_type": "code",
   "execution_count": 348,
   "metadata": {},
   "outputs": [],
   "source": [
    "df['Ex-Showroom_Price']=pd.to_numeric(df['Ex-Showroom_Price'])"
   ]
  },
  {
   "cell_type": "markdown",
   "metadata": {},
   "source": [
    "### Displacement"
   ]
  },
  {
   "cell_type": "code",
   "execution_count": 349,
   "metadata": {},
   "outputs": [
    {
     "name": "stdout",
     "output_type": "stream",
     "text": [
      "<class 'pandas.core.series.Series'>\n",
      "Index: 1201 entries, 0 to 1275\n",
      "Series name: Displacement\n",
      "Non-Null Count  Dtype \n",
      "--------------  ----- \n",
      "1190 non-null   object\n",
      "dtypes: object(1)\n",
      "memory usage: 18.8+ KB\n"
     ]
    }
   ],
   "source": [
    "df['Displacement'].info() "
   ]
  },
  {
   "cell_type": "code",
   "execution_count": 350,
   "metadata": {},
   "outputs": [
    {
     "data": {
      "text/plain": [
       "np.int64(11)"
      ]
     },
     "execution_count": 350,
     "metadata": {},
     "output_type": "execute_result"
    }
   ],
   "source": [
    "null_count_displacement=df['Displacement'].isna().sum()\n",
    "null_count_displacement"
   ]
  },
  {
   "cell_type": "code",
   "execution_count": 351,
   "metadata": {},
   "outputs": [],
   "source": [
    "df.dropna(subset=['Displacement'], inplace=True) "
   ]
  },
  {
   "cell_type": "code",
   "execution_count": 352,
   "metadata": {},
   "outputs": [],
   "source": [
    "df.rename(columns={'Displacement':'car_cc'},inplace=True)"
   ]
  },
  {
   "cell_type": "code",
   "execution_count": 353,
   "metadata": {},
   "outputs": [],
   "source": [
    "df['car_cc']=df['car_cc'].apply(lambda x:x.split(' ')[0])"
   ]
  },
  {
   "cell_type": "markdown",
   "metadata": {},
   "source": [
    "### Cylinders"
   ]
  },
  {
   "cell_type": "code",
   "execution_count": 354,
   "metadata": {},
   "outputs": [
    {
     "data": {
      "text/plain": [
       "np.int64(758)"
      ]
     },
     "execution_count": 354,
     "metadata": {},
     "output_type": "execute_result"
    }
   ],
   "source": [
    "df['Cylinders'].value_counts().max()"
   ]
  },
  {
   "cell_type": "code",
   "execution_count": 355,
   "metadata": {},
   "outputs": [
    {
     "name": "stderr",
     "output_type": "stream",
     "text": [
      "C:\\Users\\GAGAN\\AppData\\Local\\Temp\\ipykernel_8800\\3875668005.py:2: FutureWarning: A value is trying to be set on a copy of a DataFrame or Series through chained assignment using an inplace method.\n",
      "The behavior will change in pandas 3.0. This inplace method will never work because the intermediate object on which we are setting values always behaves as a copy.\n",
      "\n",
      "For example, when doing 'df[col].method(value, inplace=True)', try using 'df.method({col: value}, inplace=True)' or df[col] = df[col].method(value) instead, to perform the operation inplace on the original object.\n",
      "\n",
      "\n",
      "  df['Cylinders'].fillna(most_frequent_value, inplace=True)\n"
     ]
    }
   ],
   "source": [
    "most_frequent_value = df['Cylinders'].mode()[0] \n",
    "df['Cylinders'].fillna(most_frequent_value, inplace=True)"
   ]
  },
  {
   "cell_type": "markdown",
   "metadata": {},
   "source": [
    "### Valves_Per_Cylinder"
   ]
  },
  {
   "cell_type": "code",
   "execution_count": 356,
   "metadata": {},
   "outputs": [
    {
     "name": "stderr",
     "output_type": "stream",
     "text": [
      "C:\\Users\\GAGAN\\AppData\\Local\\Temp\\ipykernel_8800\\3154687562.py:2: FutureWarning: A value is trying to be set on a copy of a DataFrame or Series through chained assignment using an inplace method.\n",
      "The behavior will change in pandas 3.0. This inplace method will never work because the intermediate object on which we are setting values always behaves as a copy.\n",
      "\n",
      "For example, when doing 'df[col].method(value, inplace=True)', try using 'df.method({col: value}, inplace=True)' or df[col] = df[col].method(value) instead, to perform the operation inplace on the original object.\n",
      "\n",
      "\n",
      "  df['Valves_Per_Cylinder'].fillna(most_frequent_cyl_value, inplace=True)\n"
     ]
    }
   ],
   "source": [
    "most_frequent_cyl_value = df['Valves_Per_Cylinder'].mode()[0] \n",
    "df['Valves_Per_Cylinder'].fillna(most_frequent_cyl_value, inplace=True)"
   ]
  },
  {
   "cell_type": "markdown",
   "metadata": {},
   "source": [
    "### Drivetrain"
   ]
  },
  {
   "cell_type": "code",
   "execution_count": 357,
   "metadata": {},
   "outputs": [],
   "source": [
    "df.rename(columns={'Drivetrain':'wheel_drive'},inplace=True)"
   ]
  },
  {
   "cell_type": "code",
   "execution_count": 358,
   "metadata": {},
   "outputs": [
    {
     "name": "stderr",
     "output_type": "stream",
     "text": [
      "C:\\Users\\GAGAN\\AppData\\Local\\Temp\\ipykernel_8800\\1653545811.py:2: FutureWarning: A value is trying to be set on a copy of a DataFrame or Series through chained assignment using an inplace method.\n",
      "The behavior will change in pandas 3.0. This inplace method will never work because the intermediate object on which we are setting values always behaves as a copy.\n",
      "\n",
      "For example, when doing 'df[col].method(value, inplace=True)', try using 'df.method({col: value}, inplace=True)' or df[col] = df[col].method(value) instead, to perform the operation inplace on the original object.\n",
      "\n",
      "\n",
      "  df['wheel_drive'].fillna(most_frequent_value, inplace=True)\n"
     ]
    }
   ],
   "source": [
    "most_frequent_value = df['wheel_drive'].mode()[0] \n",
    "df['wheel_drive'].fillna(most_frequent_value, inplace=True)"
   ]
  },
  {
   "cell_type": "code",
   "execution_count": 359,
   "metadata": {},
   "outputs": [
    {
     "data": {
      "text/plain": [
       "array(['RWD (Rear Wheel Drive)', 'FWD (Front Wheel Drive)',\n",
       "       'AWD (All Wheel Drive)', '4WD'], dtype=object)"
      ]
     },
     "execution_count": 359,
     "metadata": {},
     "output_type": "execute_result"
    }
   ],
   "source": [
    "df.wheel_drive.unique()"
   ]
  },
  {
   "cell_type": "code",
   "execution_count": 360,
   "metadata": {},
   "outputs": [],
   "source": [
    "df['wheel_drive']=df['wheel_drive'].apply(lambda x:x.split(' ')[0])"
   ]
  },
  {
   "cell_type": "markdown",
   "metadata": {},
   "source": [
    "### Cylinder_Configuration"
   ]
  },
  {
   "cell_type": "code",
   "execution_count": 361,
   "metadata": {},
   "outputs": [
    {
     "data": {
      "text/plain": [
       "array(['In-line', 'V', 'Flat', 'W', nan], dtype=object)"
      ]
     },
     "execution_count": 361,
     "metadata": {},
     "output_type": "execute_result"
    }
   ],
   "source": [
    "df.Cylinder_Configuration.unique()"
   ]
  },
  {
   "cell_type": "code",
   "execution_count": 362,
   "metadata": {},
   "outputs": [
    {
     "name": "stderr",
     "output_type": "stream",
     "text": [
      "C:\\Users\\GAGAN\\AppData\\Local\\Temp\\ipykernel_8800\\1790517011.py:2: FutureWarning: A value is trying to be set on a copy of a DataFrame or Series through chained assignment using an inplace method.\n",
      "The behavior will change in pandas 3.0. This inplace method will never work because the intermediate object on which we are setting values always behaves as a copy.\n",
      "\n",
      "For example, when doing 'df[col].method(value, inplace=True)', try using 'df.method({col: value}, inplace=True)' or df[col] = df[col].method(value) instead, to perform the operation inplace on the original object.\n",
      "\n",
      "\n",
      "  df['Cylinder_Configuration'].fillna(most_frequent_value, inplace=True)\n"
     ]
    }
   ],
   "source": [
    "most_frequent_value = df['Cylinder_Configuration'].mode()[0] \n",
    "df['Cylinder_Configuration'].fillna(most_frequent_value, inplace=True)"
   ]
  },
  {
   "cell_type": "markdown",
   "metadata": {},
   "source": [
    "### Emission_Norm"
   ]
  },
  {
   "cell_type": "code",
   "execution_count": 363,
   "metadata": {},
   "outputs": [
    {
     "data": {
      "text/plain": [
       "array(['BS IV', 'BS 6', nan, 'BS III', 'BS VI'], dtype=object)"
      ]
     },
     "execution_count": 363,
     "metadata": {},
     "output_type": "execute_result"
    }
   ],
   "source": [
    "df.Emission_Norm.unique()"
   ]
  },
  {
   "cell_type": "code",
   "execution_count": 364,
   "metadata": {},
   "outputs": [
    {
     "name": "stderr",
     "output_type": "stream",
     "text": [
      "C:\\Users\\GAGAN\\AppData\\Local\\Temp\\ipykernel_8800\\529560279.py:2: FutureWarning: A value is trying to be set on a copy of a DataFrame or Series through chained assignment using an inplace method.\n",
      "The behavior will change in pandas 3.0. This inplace method will never work because the intermediate object on which we are setting values always behaves as a copy.\n",
      "\n",
      "For example, when doing 'df[col].method(value, inplace=True)', try using 'df.method({col: value}, inplace=True)' or df[col] = df[col].method(value) instead, to perform the operation inplace on the original object.\n",
      "\n",
      "\n",
      "  df['Emission_Norm'].fillna(most_frequent_value, inplace=True)\n"
     ]
    }
   ],
   "source": [
    "most_frequent_value = df['Emission_Norm'].mode()[0] \n",
    "df['Emission_Norm'].fillna(most_frequent_value, inplace=True)"
   ]
  },
  {
   "cell_type": "code",
   "execution_count": 365,
   "metadata": {},
   "outputs": [],
   "source": [
    "df['Emission_Norm']=df['Emission_Norm'].apply(lambda x:x.replace('BS 6','BS VI'))"
   ]
  },
  {
   "cell_type": "code",
   "execution_count": 366,
   "metadata": {},
   "outputs": [
    {
     "data": {
      "text/plain": [
       "array(['BS IV', 'BS VI', 'BS III'], dtype=object)"
      ]
     },
     "execution_count": 366,
     "metadata": {},
     "output_type": "execute_result"
    }
   ],
   "source": [
    "df.Emission_Norm.unique()"
   ]
  },
  {
   "cell_type": "markdown",
   "metadata": {},
   "source": [
    "### Engine_Location"
   ]
  },
  {
   "cell_type": "code",
   "execution_count": 367,
   "metadata": {},
   "outputs": [],
   "source": [
    "most_frequent_value = df['Engine_Location'].mode()[0] \n",
    "df['Engine_Location']=df['Engine_Location'].fillna(most_frequent_value)"
   ]
  },
  {
   "cell_type": "code",
   "execution_count": 368,
   "metadata": {},
   "outputs": [
    {
     "data": {
      "text/plain": [
       "array(['Rear, Transverse', 'Front, Transverse', 'Front, Longitudinal',\n",
       "       'Rear Mid, Transverse', 'Mid, Longitudinal', 'Mid, Transverse',\n",
       "       'Rear, Longitudinal'], dtype=object)"
      ]
     },
     "execution_count": 368,
     "metadata": {},
     "output_type": "execute_result"
    }
   ],
   "source": [
    "df['Engine_Location'].unique()"
   ]
  },
  {
   "cell_type": "markdown",
   "metadata": {},
   "source": [
    "### Fuel_System"
   ]
  },
  {
   "cell_type": "code",
   "execution_count": 369,
   "metadata": {},
   "outputs": [
    {
     "data": {
      "text/plain": [
       "array(['Injection', 'PGM - Fi', nan], dtype=object)"
      ]
     },
     "execution_count": 369,
     "metadata": {},
     "output_type": "execute_result"
    }
   ],
   "source": [
    "df.Fuel_System.unique()"
   ]
  },
  {
   "cell_type": "code",
   "execution_count": 370,
   "metadata": {},
   "outputs": [],
   "source": [
    "most_frequent_value = df['Fuel_System'].mode()[0] \n",
    "df['Fuel_System']=df['Fuel_System'].fillna(most_frequent_value)"
   ]
  },
  {
   "cell_type": "markdown",
   "metadata": {},
   "source": [
    "### Fuel_Tank_Capacity\n"
   ]
  },
  {
   "cell_type": "code",
   "execution_count": 371,
   "metadata": {},
   "outputs": [],
   "source": [
    "df['Fuel_Tank_Capacity']=df['Fuel_Tank_Capacity'].astype(str)\n",
    "df['Fuel_Tank_Capacity']=df['Fuel_Tank_Capacity'].apply(lambda x:x.split()[0])"
   ]
  },
  {
   "cell_type": "code",
   "execution_count": 372,
   "metadata": {},
   "outputs": [],
   "source": [
    "fuel_tank_not_null=df[df['Fuel_Tank_Capacity'].apply(lambda x:x!='nan')]"
   ]
  },
  {
   "cell_type": "code",
   "execution_count": 373,
   "metadata": {},
   "outputs": [
    {
     "name": "stderr",
     "output_type": "stream",
     "text": [
      "C:\\Users\\GAGAN\\AppData\\Local\\Temp\\ipykernel_8800\\3212299409.py:1: SettingWithCopyWarning: \n",
      "A value is trying to be set on a copy of a slice from a DataFrame.\n",
      "Try using .loc[row_indexer,col_indexer] = value instead\n",
      "\n",
      "See the caveats in the documentation: https://pandas.pydata.org/pandas-docs/stable/user_guide/indexing.html#returning-a-view-versus-a-copy\n",
      "  fuel_tank_not_null['Fuel_Tank_Capacity']=fuel_tank_not_null['Fuel_Tank_Capacity'].astype(float)\n"
     ]
    }
   ],
   "source": [
    "fuel_tank_not_null['Fuel_Tank_Capacity']=fuel_tank_not_null['Fuel_Tank_Capacity'].astype(float)\n",
    "mean_value=fuel_tank_not_null['Fuel_Tank_Capacity'].mean()"
   ]
  },
  {
   "cell_type": "code",
   "execution_count": 374,
   "metadata": {},
   "outputs": [],
   "source": [
    "new_mean_value=mean_value.round(1)"
   ]
  },
  {
   "cell_type": "code",
   "execution_count": 375,
   "metadata": {},
   "outputs": [],
   "source": [
    "df['Fuel_Tank_Capacity']=df['Fuel_Tank_Capacity'].astype(float) "
   ]
  },
  {
   "cell_type": "code",
   "execution_count": 376,
   "metadata": {},
   "outputs": [],
   "source": [
    "df['Fuel_Tank_Capacity']=df['Fuel_Tank_Capacity'].fillna(new_mean_value)    "
   ]
  },
  {
   "cell_type": "markdown",
   "metadata": {},
   "source": [
    "### Fuel_Type"
   ]
  },
  {
   "cell_type": "code",
   "execution_count": 377,
   "metadata": {},
   "outputs": [
    {
     "data": {
      "text/plain": [
       "array(['Petrol', 'CNG', 'Diesel', 'CNG + Petrol', 'Hybrid', 'Electric'],\n",
       "      dtype=object)"
      ]
     },
     "execution_count": 377,
     "metadata": {},
     "output_type": "execute_result"
    }
   ],
   "source": [
    "df.Fuel_Type.unique()"
   ]
  },
  {
   "cell_type": "markdown",
   "metadata": {},
   "source": [
    "### Height"
   ]
  },
  {
   "cell_type": "code",
   "execution_count": 378,
   "metadata": {},
   "outputs": [],
   "source": [
    "df['Height']=df['Height'].astype(str)\n",
    "df['Height']=df['Height'].apply(lambda x:x.split()[0])"
   ]
  },
  {
   "cell_type": "code",
   "execution_count": 379,
   "metadata": {},
   "outputs": [],
   "source": [
    "df['Height']=df['Height'].astype(float)\n",
    "mean_value=df['Height'].mean().round(1)"
   ]
  },
  {
   "cell_type": "code",
   "execution_count": 380,
   "metadata": {},
   "outputs": [],
   "source": [
    "df['Height']=df['Height'].fillna(mean_value)"
   ]
  },
  {
   "cell_type": "code",
   "execution_count": 381,
   "metadata": {},
   "outputs": [],
   "source": [
    "df.rename(columns={'Height':'height_mm','Length':'lenght_mm','Width':'width_mm'},inplace=True)"
   ]
  },
  {
   "cell_type": "markdown",
   "metadata": {},
   "source": [
    "### lenght_mm"
   ]
  },
  {
   "cell_type": "code",
   "execution_count": 382,
   "metadata": {},
   "outputs": [],
   "source": [
    "df['lenght_mm']=df['lenght_mm'].apply(lambda x:x.split()[0])"
   ]
  },
  {
   "cell_type": "code",
   "execution_count": 383,
   "metadata": {},
   "outputs": [],
   "source": [
    "df.lenght_mm=df.lenght_mm.astype(float)"
   ]
  },
  {
   "cell_type": "markdown",
   "metadata": {},
   "source": [
    "### width_mm"
   ]
  },
  {
   "cell_type": "code",
   "execution_count": 384,
   "metadata": {},
   "outputs": [],
   "source": [
    "df['width_mm']=df['width_mm'].astype(str)\n",
    "df['width_mm']=df['width_mm'].apply(lambda x:x.split()[0])"
   ]
  },
  {
   "cell_type": "code",
   "execution_count": 385,
   "metadata": {},
   "outputs": [],
   "source": [
    "df['width_mm']=df['width_mm'].astype(float)\n",
    "mean_value=df['width_mm'].mean().round(1)"
   ]
  },
  {
   "cell_type": "code",
   "execution_count": 386,
   "metadata": {},
   "outputs": [],
   "source": [
    "df['width_mm']=df['width_mm'].fillna(mean_value)"
   ]
  },
  {
   "cell_type": "markdown",
   "metadata": {},
   "source": [
    "### Body_Type"
   ]
  },
  {
   "cell_type": "code",
   "execution_count": 387,
   "metadata": {},
   "outputs": [],
   "source": [
    "df=df[df['Body_Type'].notnull()]"
   ]
  },
  {
   "cell_type": "markdown",
   "metadata": {},
   "source": [
    "### Doors"
   ]
  },
  {
   "cell_type": "code",
   "execution_count": 388,
   "metadata": {},
   "outputs": [],
   "source": [
    "df['Doors']=df['Doors'].astype(float)"
   ]
  },
  {
   "cell_type": "code",
   "execution_count": 389,
   "metadata": {},
   "outputs": [
    {
     "data": {
      "text/plain": [
       "np.float64(5.0)"
      ]
     },
     "execution_count": 389,
     "metadata": {},
     "output_type": "execute_result"
    }
   ],
   "source": [
    "most_frequent_value=df['Doors'].mode()[0]\n",
    "most_frequent_value"
   ]
  },
  {
   "cell_type": "code",
   "execution_count": 390,
   "metadata": {},
   "outputs": [],
   "source": [
    "df['Doors']=df['Doors'].fillna(most_frequent_value)"
   ]
  },
  {
   "cell_type": "markdown",
   "metadata": {},
   "source": [
    "### City_Mileage "
   ]
  },
  {
   "cell_type": "code",
   "execution_count": 391,
   "metadata": {},
   "outputs": [],
   "source": [
    "df['City_Mileage']=df['City_Mileage'].astype(str)\n",
    "df['City_Mileage']=df['City_Mileage'].apply(lambda x:x.split(' ')[0])"
   ]
  },
  {
   "cell_type": "code",
   "execution_count": 392,
   "metadata": {},
   "outputs": [],
   "source": [
    "df['City_Mileage']=df['City_Mileage'].apply(lambda x:x.replace('?','').replace(',','.'))"
   ]
  },
  {
   "cell_type": "code",
   "execution_count": 393,
   "metadata": {},
   "outputs": [],
   "source": [
    "df['City_Mileage']=df['City_Mileage'].apply(lambda x:x.split('-')[0])\n",
    "df['City_Mileage']=df['City_Mileage'].astype(float)"
   ]
  },
  {
   "cell_type": "code",
   "execution_count": 394,
   "metadata": {},
   "outputs": [],
   "source": [
    "mean_value=df['City_Mileage'].mean().round(1)\n",
    "df['City_Mileage']=df['City_Mileage'].fillna(mean_value)"
   ]
  },
  {
   "cell_type": "markdown",
   "metadata": {},
   "source": [
    "### Highway_Mileage"
   ]
  },
  {
   "cell_type": "code",
   "execution_count": 395,
   "metadata": {},
   "outputs": [],
   "source": [
    "df['Highway_Mileage']=df['Highway_Mileage'].astype(str)\n",
    "df['Highway_Mileage']=df['Highway_Mileage'].apply(lambda x:x.split(' ')[0])\n",
    "df['Highway_Mileage']=df['Highway_Mileage'].apply(lambda x:x.split('-')[0])"
   ]
  },
  {
   "cell_type": "code",
   "execution_count": 396,
   "metadata": {},
   "outputs": [],
   "source": [
    "df['Highway_Mileage']=df['Highway_Mileage'].astype(float)\n",
    "mean_value=df['Highway_Mileage'].mean().round(1)\n",
    "df['Highway_Mileage']=df['Highway_Mileage'].fillna(mean_value)"
   ]
  },
  {
   "cell_type": "code",
   "execution_count": 397,
   "metadata": {},
   "outputs": [],
   "source": [
    "df=df.rename(columns={'Highway_Mileage':'highway_mileage_km/l'})"
   ]
  },
  {
   "cell_type": "markdown",
   "metadata": {},
   "source": [
    "### ARAI_Certified_Mileage"
   ]
  },
  {
   "cell_type": "code",
   "execution_count": 398,
   "metadata": {},
   "outputs": [],
   "source": [
    "df['ARAI_Certified_Mileage']=df['ARAI_Certified_Mileage'].astype(str)\n",
    "df['ARAI_Certified_Mileage']=df['ARAI_Certified_Mileage'].apply(lambda x:x.split(' ')[0])\n",
    "df['ARAI_Certified_Mileage']=df['ARAI_Certified_Mileage'].apply(lambda x:x.split('-')[0])"
   ]
  },
  {
   "cell_type": "code",
   "execution_count": 399,
   "metadata": {},
   "outputs": [
    {
     "data": {
      "text/plain": [
       "array(['23.6', 'nan', '21.9', '25.17', '22.5', '23', '23.01', '24.04',\n",
       "       '15', '24.07', '20.1', '23.1', '20.3', '24', '20.89', '20.5', '16',\n",
       "       '23.7', '18.16', '23.59', '18.97', '19.49', '22.95', '17.57',\n",
       "       '15.7', '20.14', '20', '28.4', '22', '18.6', '22.54', '18.15',\n",
       "       '25.35', '20.4', '25.4', '18.78', '17.21', '19.91', '24.4', '19',\n",
       "       '21.66', '21.73', '26.1', '19.4', '16.78', '17.71', '20.08',\n",
       "       '17.1', '23.87', '21.01', '19.56', '18.2', '27.3', '16.3', '13.8',\n",
       "       '12.05', '17.06', '14.4', '19.5', '18.3', '13.7', '18.19', '20.38',\n",
       "       '19.2', '10', '15.73', '16.9', '21.15', '14.59', '16.47', '11',\n",
       "       '13.12', '19.33', '14.11', '18.56', '13.57', '13.38', '11.24',\n",
       "       '13', '12.8', '8.61', '9.8', '7.4', '11.13', '18', '10.8', '17.66',\n",
       "       '11.86', '7.96', '7.9', '10.63', '6.71', '7.8', '8.6', '9', '8.77',\n",
       "       '9.5', '5.95', '35', '22.05', '21.4', '21.7', '19.77', '25.32',\n",
       "       '25.2', '25', '11.12', '17.6', '20.65', '27.4', '23.8', '11.9',\n",
       "       '17.52', '18.27', '23.97', '16.5', '15.96', '24.3', '17.19',\n",
       "       '21.19', '17', '14.8', '13.87', '19.6', '17.7', '23.9', '23.5',\n",
       "       '19.1', '21.04', '19.98', '16.09', '20.64', '21.5', '15.4',\n",
       "       '19.01', '17.01', '18.49', '17.3', '10.22', '13.5', '21.72',\n",
       "       '14.84', '21.13', '15.41', '13.85', '15.1', '10.83', '10.75',\n",
       "       '11.25', '14.1', '16.7', '21', '16.8', '26.8', '14.12', '14.67',\n",
       "       '16.81', '12.9', '14.24', '10.26', '10.01', '10.91', '12.62',\n",
       "       '15.75', '16.25', '20.68', '17.05', '19.62', '16.13', '12.44',\n",
       "       '15.6', '18.8', '16.4', '13.32', '8.4', '7.6', '14.75', '11.68',\n",
       "       '12.63', '17.2', '11.5', '3.4', '16.2', '9.6', '11.6', '10kmpl',\n",
       "       '10.6', '8', '5.5', '5', '8.8', '25.5', '27.39', '18.9', '17.49',\n",
       "       '14.9', '16.95', '22.71', '17.97', '19.34', '18.69', '24.2',\n",
       "       '17.5', '23.65', '13.86', '20.37', '13.9', '14.02', '16.1',\n",
       "       '20.45', '13.24', '14', '17.41', '14.6', '18.42', '13.03', '16.38',\n",
       "       '12.95', '17.42', '14.41', '19.19', '17.8', '21.27', '8.9', '9.1',\n",
       "       '24.7', '20.7', '17.36', '23.08', '28.09', '21.56', '20.28',\n",
       "       '26.82', '26.32', '21.38', '15.29', '19.67', '10.3', '9.62',\n",
       "       '18.12', '14.69', '15.01', '16.46', '7.94', '21.76', '14.3',\n",
       "       '15.3', '10.7', '10.85', '23.84', '27.28', '16.21', '14.23',\n",
       "       '23.2', '9.17', '21.2', '10.77', '4', '17.4', '25.6', '25.1',\n",
       "       '22.6', '11.56'], dtype=object)"
      ]
     },
     "execution_count": 399,
     "metadata": {},
     "output_type": "execute_result"
    }
   ],
   "source": [
    "df.ARAI_Certified_Mileage.unique()"
   ]
  },
  {
   "cell_type": "code",
   "execution_count": 400,
   "metadata": {},
   "outputs": [],
   "source": [
    "df['ARAI_Certified_Mileage']=df['ARAI_Certified_Mileage'].apply(lambda x:x.replace('kmpl','') ) "
   ]
  },
  {
   "cell_type": "code",
   "execution_count": 401,
   "metadata": {},
   "outputs": [],
   "source": [
    "df['ARAI_Certified_Mileage']=df['ARAI_Certified_Mileage'].astype(float)\n",
    "mean_value=df['ARAI_Certified_Mileage'].mean().round(1)\n",
    "df['ARAI_Certified_Mileage']=df['ARAI_Certified_Mileage'].fillna(mean_value)"
   ]
  },
  {
   "cell_type": "markdown",
   "metadata": {},
   "source": [
    "### ARAI_Certified_Mileage_for_CNG"
   ]
  },
  {
   "cell_type": "code",
   "execution_count": 402,
   "metadata": {},
   "outputs": [],
   "source": [
    "df=df.drop(columns=['ARAI_Certified_Mileage_for_CNG'])"
   ]
  },
  {
   "cell_type": "markdown",
   "metadata": {},
   "source": [
    "### Kerb_Weight (in kgs)"
   ]
  },
  {
   "cell_type": "code",
   "execution_count": 403,
   "metadata": {},
   "outputs": [],
   "source": [
    "df['Kerb_Weight']=df['Kerb_Weight'].astype(str)\n",
    "df['Kerb_Weight']=df['Kerb_Weight'].apply(lambda x:x.split(' ')[0].split('-')[0])"
   ]
  },
  {
   "cell_type": "code",
   "execution_count": 404,
   "metadata": {},
   "outputs": [],
   "source": [
    "df['Kerb_Weight']=df['Kerb_Weight'].astype(float)\n",
    "mean_value=df['Kerb_Weight'].mean().round(1)\n",
    "df['Kerb_Weight']=df['Kerb_Weight'].fillna(mean_value)"
   ]
  },
  {
   "cell_type": "markdown",
   "metadata": {},
   "source": [
    "### Gears"
   ]
  },
  {
   "cell_type": "code",
   "execution_count": 405,
   "metadata": {},
   "outputs": [],
   "source": [
    "df['Gears']=df['Gears'].astype(str)\n",
    "df['Gears']=df['Gears'].apply(lambda x:x.split(' ')[0].split('-')[0])\n",
    "df['Gears']=df['Gears'].astype(float)\n",
    "mean_value=df['Gears'].mean().round(0)\n",
    "df['Gears']=df['Gears'].fillna(mean_value)"
   ]
  },
  {
   "cell_type": "markdown",
   "metadata": {},
   "source": [
    "### Ground_Clearance (in mm)"
   ]
  },
  {
   "cell_type": "code",
   "execution_count": 406,
   "metadata": {},
   "outputs": [],
   "source": [
    "df=df.rename(columns={'Ground_Clearance':'Ground_Clearance_mm'})"
   ]
  },
  {
   "cell_type": "code",
   "execution_count": 407,
   "metadata": {},
   "outputs": [],
   "source": [
    "df['Ground_Clearance_mm']=df['Ground_Clearance_mm'].astype(str)\n",
    "df['Ground_Clearance_mm']=df['Ground_Clearance_mm'].apply(lambda x:x.split(' ')[0].split('-')[0])\n",
    "df['Ground_Clearance_mm']=df['Ground_Clearance_mm'].astype(float)\n",
    "mean_value=df['Ground_Clearance_mm'].mean().round(0)\n",
    "df['Ground_Clearance_mm']=df['Ground_Clearance_mm'].fillna(mean_value)"
   ]
  },
  {
   "cell_type": "markdown",
   "metadata": {},
   "source": [
    "### Data Cleaning function."
   ]
  },
  {
   "cell_type": "code",
   "execution_count": 408,
   "metadata": {},
   "outputs": [],
   "source": [
    "def split_get_first(df,column_name):\n",
    "    df[column_name]=df[column_name].astype(str)\n",
    "    df[column_name]=df[column_name].apply(lambda y:y.split(' ')[0].split('-')[0].split(',')[0])\n",
    "\n",
    "def fillna_mean(df,column_name):\n",
    "    df[column_name]=df[column_name].astype(float)\n",
    "    mean_value=df[column_name].mean().round(1)\n",
    "    df[column_name]=df[column_name].fillna(mean_value)\n",
    "        \n",
    "def fillna_mode(df,column_name):\n",
    "    df[column_name]=df[column_name].astype(str)\n",
    "    most_frequent_value=df[column_name].mode()[0]\n",
    "    df[column_name]=df[column_name].replace('nan',most_frequent_value).replace('None',most_frequent_value)\n",
    "    df[column_name] = df[column_name].fillna(most_frequent_value) \n",
    "    \n",
    "def fillna_others(df,column_name):\n",
    "    df[column_name]=df[column_name].astype(str)\n",
    "    df[column_name]=df[column_name].replace('nan','others')\n",
    "    df[column_name] = df[column_name].fillna('others')\n",
    "    "
   ]
  },
  {
   "cell_type": "markdown",
   "metadata": {},
   "source": [
    "### Front_Brakes & Rear_Brakes"
   ]
  },
  {
   "cell_type": "code",
   "execution_count": 409,
   "metadata": {},
   "outputs": [
    {
     "data": {
      "text/plain": [
       "array(['Drum', 'Ventilated Disc', nan, 'Solid Disc'], dtype=object)"
      ]
     },
     "execution_count": 409,
     "metadata": {},
     "output_type": "execute_result"
    }
   ],
   "source": [
    "df['Front_Brakes'].unique()"
   ]
  },
  {
   "cell_type": "code",
   "execution_count": 410,
   "metadata": {},
   "outputs": [],
   "source": [
    "fillna_mode(df,'Front_Brakes')\n",
    "fillna_mode(df,'Rear_Brakes')"
   ]
  },
  {
   "cell_type": "markdown",
   "metadata": {},
   "source": [
    "### Front_Suspension & Rear_Suspension"
   ]
  },
  {
   "cell_type": "code",
   "execution_count": 411,
   "metadata": {},
   "outputs": [],
   "source": [
    "pd.set_option('display.max_rows',None)"
   ]
  },
  {
   "cell_type": "code",
   "execution_count": 412,
   "metadata": {},
   "outputs": [
    {
     "data": {
      "text/plain": [
       "array(['Independent, Lower Wishbone, McPherson Strut with gas filled dampers and anti-roll bar',\n",
       "       'Double Pivot Arm',\n",
       "       'Mac Pherson strut with Lower Transverse link, coil spring',\n",
       "       'MacPherson Struts With Lower Transverse Links',\n",
       "       'McPherson struts', 'McPherson Strut',\n",
       "       'Gas Filled Mc Pherson Strut',\n",
       "       'MacPherson Strut with anti-roll bar',\n",
       "       'Macpherson strut with Coil Spring', nan, 'Mc Pherson Strut',\n",
       "       'MacPherson Strut', 'Mc Pherson Struct',\n",
       "       'Independent, Lower Wishbone, Mcpherson Strut with coil spring',\n",
       "       'Independent Lower Wishbone, McPherson Strut with coil Spring',\n",
       "       'McPherson strut & coil spring', 'Mc Pherson-strut',\n",
       "       'Dual-path McPherson strut with coil spring and anti-roll bar',\n",
       "       'McPherson strut with coil spring',\n",
       "       'McPherson strut with stabiliser bar',\n",
       "       'MacPherson Strut with Staboilizer Bar', 'Independent McPherson',\n",
       "       'Independent McPherson strut with Coil spring & Anti-roll bar',\n",
       "       'Independent MCPherson Strut with coil springs & anti-roll bar',\n",
       "       'Independent MacPherson Dual path Strut with coil spring',\n",
       "       'Macpherson-type with wishbone link',\n",
       "       'Independent Wheels suspension with Mcpherson struts, Helical coil springs, Double acting Telescopic Dampers and Stabilizer bar',\n",
       "       'Independent Wheels suspension with Mcpherson struts, Helical springs, Double acting Telescopic Dampers with Stabilizer bar',\n",
       "       'McPherson Strut, Coil Spring',\n",
       "       'McPherson Strut with Coil Spring Rear',\n",
       "       'Independent Double Wish Bone - Coil Spring Suspension',\n",
       "       'Double Wish-bone type, Independent Front Coil Spring',\n",
       "       'Mc Pherson struts with coil spring',\n",
       "       'McPherson suspension with lower triangular links and torsion stabiliser',\n",
       "       'McPherson suspension with lower triangular links and torsion stabilizer',\n",
       "       'multi-link suspension with stabilizer bar and coil springs',\n",
       "       'Double wishbone',\n",
       "       'Mac Pherson type with coil spring, stabiliser bar and double acting shock absorber',\n",
       "       'McPherson struts with aluminum lower wishbones, steel pivot bearings, aluminum subframe, tubular ant',\n",
       "       'single joint spring-strut front axle',\n",
       "       'Independent suspension with gash shox',\n",
       "       'Independent-wheel suspension, five-link axle with front track rod, aluminum transverse link, subframe and tubular anti-roll bar',\n",
       "       'Adaptive Dynamics system',\n",
       "       'Five-link front suspension; tubular anti-roll bar',\n",
       "       'Dynamic Damper Control', 'Double wishbone suspension',\n",
       "       'S sport suspension', 'Sports suspension settings',\n",
       "       'Double Ball Joint MacPherson Strut with Stabilizer Bar',\n",
       "       'Steel Suspension',\n",
       "       'Independent front suspensions with coil-over springs',\n",
       "       'Adaptive M Suspension',\n",
       "       'Independent MacPherson Strut with Coil Springs and Gas Charged Shock Absorbers',\n",
       "       'MacPherson strut type (Front)',\n",
       "       'Five-link front suspension, upper and lower wishbones, tubular anti-roll bar',\n",
       "       'Adaptive 2-axle air suspension', 'adaptive air suspesion',\n",
       "       'Double wishbone coil springs with stabilizer bar',\n",
       "       'Five-link front axle; tubular anti-roll bar air spring suspension',\n",
       "       'Independent double-joint multilink with forged aluminum components, coil springs, linear-solenoid-actuated shock absorbers and adhesive-bonded stabilizer bar',\n",
       "       'Aluminium Double Wishbone',\n",
       "       '4 Wheel Active Height Control & Adaptive Variable Suspension',\n",
       "       'adaptive air suspension',\n",
       "       'Air springs with continous damping control',\n",
       "       'Air Suspension with Continuous Damping Control and 4 height settings',\n",
       "       'Twin wishbones', 'Runflat', 'Hydraulic Telescopic Shock Absorber',\n",
       "       'Gas Filled Mc Pherson Strut, Torsion Roll Control Devic',\n",
       "       'Independent McPherson struts with offset coil spring/twin tube gas damper units and lower L-arms with optimised bushes mounted on separate cross-member with stabiliser bar. Dual-path body mounts.',\n",
       "       'Dual Path Independent McPherson strut with Coil Springs and Antiroll Bar',\n",
       "       'Leaf spring with Double action damper',\n",
       "       'Rear Leaf spring with Double action damper',\n",
       "       'Mc Pherson Strut Type with Coil Spring',\n",
       "       'MacPherson Strut & Coil spring',\n",
       "       'Independent Wheel, Helical Coil Springs, Double Acting Telescopic Dampers and Stabilizer Bar',\n",
       "       'Independent with Coil Spring mounted on Struts, Gas Charged Hydraulic Telescopic Shock Absorbers & Anti Roll Bar',\n",
       "       'IFS coil spring', 'Mc Pherson Strut with coil spring',\n",
       "       'Semi-independent twist beam with twin gas and oil filled shock absorbers',\n",
       "       'Independent McPherson Strut With Coil Spring',\n",
       "       'MacPherson struts with coil spring',\n",
       "       'McPherson struts with coil spring',\n",
       "       '2-link double-wishbone aluminum-alloy suspension with aluminum subframe',\n",
       "       'Mc Pherson Strut with stabiliser bar',\n",
       "       'Independent Suspension with Torsion Bar And Stabilizer Bar',\n",
       "       'IFS With Torsion Bar And Stablizer Bar',\n",
       "       'Double wish-bone with torsion bar',\n",
       "       'Hydraulic Double Acting, Telescopic Shock Absorber',\n",
       "       'McPherson type with anti-roll bar',\n",
       "       'Double Wishbone type with Coil Springs',\n",
       "       'Double Wishbone with Coil spring',\n",
       "       'MacPherson Strut, Coil Spring',\n",
       "       'McPherson, Coil Spring with Torsion Bar',\n",
       "       'Independent coil spring with anti-roll bar',\n",
       "       'Double joint strut front axle', 'Dual Link Strut',\n",
       "       '5 link independent steel spring',\n",
       "       'Independent Strut with stabiliser bar and coil spring',\n",
       "       'McPherson',\n",
       "       '4-link air suspension, anti-dive, automatic level control & stabilizer',\n",
       "       '2WD Independent, Coil Spring, Anti Roll Bar 4WD Independent, Torsion bar',\n",
       "       'Air suspension',\n",
       "       'Electronic Cross Linked Air Suspension (with Variable Ride Height)',\n",
       "       'Four corner air suspension', 'Electronic air suspension',\n",
       "       'Fully independent aluminium multi-link suspension',\n",
       "       'Fully independent extra-large format double wishbone',\n",
       "       '3-link with McPherson struts, Torsion bar & coil springs',\n",
       "       'Quattroporte Sport GT S is fitted with the single-setting racing-style suspension system',\n",
       "       'Aluminum double-wishbone suspension',\n",
       "       'Double wishbone front axle',\n",
       "       'horizontal monotube damper with push-rod system',\n",
       "       'Push rod magneto-rheologic active',\n",
       "       'Mcpherson strut Type with coil spring',\n",
       "       'MacPherson struts (gas-filled shock absorbers with a stabilizer bar)',\n",
       "       'McPherson spring strut suspension',\n",
       "       'Front independent double wishbone design coil springs, anti-roll bar and adaptive damping',\n",
       "       'Rigid leaf spring', 'Double joint spring-strut axle',\n",
       "       'Aluminium double-joint springs strut axle with anti-roll bar',\n",
       "       'Aluminium double track control arm axle with separate lower track arm level, small steering roll radius, traverse force compensation, anti-dive',\n",
       "       'Fully independent double wishbone suspension',\n",
       "       'Sports Suspension with Adaptive Damping',\n",
       "       'Double wishbone, coil springs, single-tube gas-filled shock absorber, stabiliser bar',\n",
       "       'Double-Joint Spring Strut Front Axle',\n",
       "       'Mc Pherson suspension with lower triangular links and torsion stabiliser',\n",
       "       'Double Wishbone with coil spring suspension',\n",
       "       'McPherson strut,coil spring'], dtype=object)"
      ]
     },
     "execution_count": 412,
     "metadata": {},
     "output_type": "execute_result"
    }
   ],
   "source": [
    "df['Front_Suspension'].unique()"
   ]
  },
  {
   "cell_type": "code",
   "execution_count": 413,
   "metadata": {},
   "outputs": [],
   "source": [
    "fillna_others(df,'Front_Suspension')\n",
    "fillna_others(df,'Rear_Suspension')"
   ]
  },
  {
   "cell_type": "markdown",
   "metadata": {},
   "source": [
    "### Front_Track"
   ]
  },
  {
   "cell_type": "code",
   "execution_count": 414,
   "metadata": {},
   "outputs": [
    {
     "data": {
      "text/plain": [
       "array(['1325 mm', nan, '1280 mm', '1295 mm', '1440 mm', '1420 mm',\n",
       "       '1,476 (R13) mm', '1476 mm', '1463 mm', '1400 mm', '1460 mm',\n",
       "       '1547 mm', '1305 mm', '1468 mm', '1479 mm', '1485 mm', '1505 mm',\n",
       "       '1475 mm', '1490 mm', '1570 mm', '1578 mm', '1555 mm', '1670 mm',\n",
       "       '1571 mm', '1564 mm', '1572 mm', '1597 mm', '1605 mm', '1616 mm',\n",
       "       '1588 mm', '1600 mm', '1579 mm', '1640 mm', '1586 mm', '1618 mm',\n",
       "       '1611 mm', '1624 mm', '1644 mm', '1634 mm', '1630 mm', '1650 mm',\n",
       "       '1638 mm', '1623 mm', '1679 mm', '1615 mm', '1143 mm', '1530 mm',\n",
       "       '1520 mm', '1450 mm', '1300 mm', '1471 mm', '1560 mm', '1457 mm',\n",
       "       '1445 mm', '1540 mm', '1515 mm', '1985 mm', '1559 mm', '1821 mm',\n",
       "       '1501 mm', '1619 mm', '1626 mm', '1609 mm', '1621 mm', '1668 mm',\n",
       "       '1692.5 mm', '1692 mm', '1693 mm', '1690 mm', '1628 mm', '1674 mm',\n",
       "       '1720 mm', '1205 mm', '1500 mm', '1580 mm', '1552 mm', '1525 mm',\n",
       "       '1641 mm', '1652 mm', '1589 mm', '1672 mm', '1470 mm', '1585 mm',\n",
       "       '1655 mm', '1692.4 mm', '1080 mm'], dtype=object)"
      ]
     },
     "execution_count": 414,
     "metadata": {},
     "output_type": "execute_result"
    }
   ],
   "source": [
    "df['Front_Track'].unique()"
   ]
  },
  {
   "cell_type": "code",
   "execution_count": 415,
   "metadata": {},
   "outputs": [],
   "source": [
    "df=df.rename(columns={'Front_Track':'Front_Track_mm'})"
   ]
  },
  {
   "cell_type": "code",
   "execution_count": 416,
   "metadata": {},
   "outputs": [
    {
     "data": {
      "text/plain": [
       "array(['1325', 'nan', '1280', '1295', '1440', '1420', '1', '1476', '1463',\n",
       "       '1400', '1460', '1547', '1305', '1468', '1479', '1485', '1505',\n",
       "       '1475', '1490', '1570', '1578', '1555', '1670', '1571', '1564',\n",
       "       '1572', '1597', '1605', '1616', '1588', '1600', '1579', '1640',\n",
       "       '1586', '1618', '1611', '1624', '1644', '1634', '1630', '1650',\n",
       "       '1638', '1623', '1679', '1615', '1143', '1530', '1520', '1450',\n",
       "       '1300', '1471', '1560', '1457', '1445', '1540', '1515', '1985',\n",
       "       '1559', '1821', '1501', '1619', '1626', '1609', '1621', '1668',\n",
       "       '1692.5', '1692', '1693', '1690', '1628', '1674', '1720', '1205',\n",
       "       '1500', '1580', '1552', '1525', '1641', '1652', '1589', '1672',\n",
       "       '1470', '1585', '1655', '1692.4', '1080'], dtype=object)"
      ]
     },
     "execution_count": 416,
     "metadata": {},
     "output_type": "execute_result"
    }
   ],
   "source": [
    "split_get_first(df,'Front_Track_mm')\n",
    "df['Front_Track_mm'].unique()"
   ]
  },
  {
   "cell_type": "code",
   "execution_count": 417,
   "metadata": {},
   "outputs": [
    {
     "data": {
      "text/plain": [
       "array([1325. , 1524.6, 1280. , 1295. , 1440. , 1420. , 1476. , 1463. ,\n",
       "       1400. , 1460. , 1547. , 1305. , 1468. , 1479. , 1485. , 1505. ,\n",
       "       1475. , 1490. , 1570. , 1578. , 1555. , 1670. , 1571. , 1564. ,\n",
       "       1572. , 1597. , 1605. , 1616. , 1588. , 1600. , 1579. , 1640. ,\n",
       "       1586. , 1618. , 1611. , 1624. , 1644. , 1634. , 1630. , 1650. ,\n",
       "       1638. , 1623. , 1679. , 1615. , 1143. , 1530. , 1520. , 1450. ,\n",
       "       1300. , 1471. , 1560. , 1457. , 1445. , 1540. , 1515. , 1985. ,\n",
       "       1559. , 1821. , 1501. , 1619. , 1626. , 1609. , 1621. , 1668. ,\n",
       "       1692.5, 1692. , 1693. , 1690. , 1628. , 1674. , 1720. , 1205. ,\n",
       "       1500. , 1580. , 1552. , 1525. , 1641. , 1652. , 1589. , 1672. ,\n",
       "       1470. , 1585. , 1655. , 1692.4, 1080. ])"
      ]
     },
     "execution_count": 417,
     "metadata": {},
     "output_type": "execute_result"
    }
   ],
   "source": [
    "df['Front_Track_mm']=df['Front_Track_mm'].replace('1','nan')\n",
    "fillna_mean(df,'Front_Track_mm')\n",
    "df['Front_Track_mm'].unique()"
   ]
  },
  {
   "cell_type": "markdown",
   "metadata": {},
   "source": [
    "### Rear_Track"
   ]
  },
  {
   "cell_type": "code",
   "execution_count": 418,
   "metadata": {},
   "outputs": [],
   "source": [
    "df=df.rename(columns={'Rear_Track':'Rear_Track_mm'})"
   ]
  },
  {
   "cell_type": "code",
   "execution_count": 419,
   "metadata": {},
   "outputs": [
    {
     "data": {
      "text/plain": [
       "array(['1315', 'nan', '1290', '1445', '1410', '1', '1494', '1481', '1420',\n",
       "       '1470', '1545', '1310', '1474', '1493', '1495', '1503', '1456',\n",
       "       '1485', '1475', '1568', '1526', '1650', '1575', '1565', '1555',\n",
       "       '1598', '1594', '1632', '1659', '1601', '1630', '1582', '1646',\n",
       "       '1676', '1633', '1590', '1647', '1635', '1645', '1595', '1607',\n",
       "       '1605', '1625', '1490', '1530', '1520', '1440', '1466', '1505',\n",
       "       '1567', '1478', '1500', '1346', '1480', '1450', '1600', '1540',\n",
       "       '1535', '1546', '1564', '1562', '1529', '1585', '1577', '1616',\n",
       "       '1691', '1629', '1671', '1686.4', '1686', '1683', '1604', '1685',\n",
       "       '1620', '1668', '1700', '1190', '1525', '1515', '1550', '1570',\n",
       "       '1654', '1643', '1603', '1613', '1355', '1627', '1665', '1651',\n",
       "       '1649', '1611', '1686.6', '1465', '1560'], dtype=object)"
      ]
     },
     "execution_count": 419,
     "metadata": {},
     "output_type": "execute_result"
    }
   ],
   "source": [
    "split_get_first(df,'Rear_Track_mm')\n",
    "df['Rear_Track_mm'].unique()"
   ]
  },
  {
   "cell_type": "code",
   "execution_count": 420,
   "metadata": {},
   "outputs": [
    {
     "data": {
      "text/plain": [
       "array([1315. , 1522.9, 1290. , 1445. , 1410. , 1494. , 1481. , 1420. ,\n",
       "       1470. , 1545. , 1310. , 1474. , 1493. , 1495. , 1503. , 1456. ,\n",
       "       1485. , 1475. , 1568. , 1526. , 1650. , 1575. , 1565. , 1555. ,\n",
       "       1598. , 1594. , 1632. , 1659. , 1601. , 1630. , 1582. , 1646. ,\n",
       "       1676. , 1633. , 1590. , 1647. , 1635. , 1645. , 1595. , 1607. ,\n",
       "       1605. , 1625. , 1490. , 1530. , 1520. , 1440. , 1466. , 1505. ,\n",
       "       1567. , 1478. , 1500. , 1346. , 1480. , 1450. , 1600. , 1540. ,\n",
       "       1535. , 1546. , 1564. , 1562. , 1529. , 1585. , 1577. , 1616. ,\n",
       "       1691. , 1629. , 1671. , 1686.4, 1686. , 1683. , 1604. , 1685. ,\n",
       "       1620. , 1668. , 1700. , 1190. , 1525. , 1515. , 1550. , 1570. ,\n",
       "       1654. , 1643. , 1603. , 1613. , 1355. , 1627. , 1665. , 1651. ,\n",
       "       1649. , 1611. , 1686.6, 1465. , 1560. ])"
      ]
     },
     "execution_count": 420,
     "metadata": {},
     "output_type": "execute_result"
    }
   ],
   "source": [
    "df['Rear_Track_mm']=df['Rear_Track_mm'].replace('1','nan')\n",
    "fillna_mean(df,'Rear_Track_mm')\n",
    "df['Rear_Track_mm'].unique()"
   ]
  },
  {
   "cell_type": "markdown",
   "metadata": {},
   "source": [
    "### Front_Tyre_&_Rim"
   ]
  },
  {
   "cell_type": "code",
   "execution_count": 421,
   "metadata": {},
   "outputs": [
    {
     "data": {
      "text/plain": [
       "array(['135/70R12', '80/155R13', '155/80R13', '165/70 R14', '155 R13 LT',\n",
       "       '155/65R13', '155/70R13', '165/70R14', nan, '155/80 R13',\n",
       "       '175/65 R14', '175 / 65 R14', '175/60 R15', '175/65R 15',\n",
       "       '185/65 R14', '185/65 R15', '205/70R15', '205/70', '175/65R14',\n",
       "       '185/60R15', '175/65 R15', '165/65R14', '165/80R14', '185/70R14',\n",
       "       '185/65R14', '195/55R16', '175/70R14', '185/60R16', '185/65R15',\n",
       "       '185/60 R15', '195 / 55 R16', '175/70 R14', '195/55 R16',\n",
       "       '195/55R15', '175/70R15', '205/55 R16', '205/55R16', '175/65R15',\n",
       "       '175/65', '225 / 60 R17', '265 / 60 R17', '245/70R17',\n",
       "       '255/60 R18', '215/65R17', '235/55R18', '235 / 65 R18',\n",
       "       '215/55 R17', '205/55R17', '255/35R20', '215/65R16', '235/55R17',\n",
       "       '235/55 R17', '235/55 R19', '235/55 R18', '225/50 R17 94Y',\n",
       "       '43.66 cm/17\" Light Alloy Wheels JCW Track Spoke, Black',\n",
       "       '205 / 55 R17', '205 / 55 R16', '225/55 R18', '225/60R19',\n",
       "       '245 / 50R19', '235/60 R18', '245/45R18', '245/40R18', '255/50R19',\n",
       "       '255/40 R19', '265 / 60 R18', '265/50 R20', '295/45R20',\n",
       "       '245/35ZR19', '235/40 R18', '265/60R18', '235/60VR18', '265/35R19',\n",
       "       '(245/50 R18', '245/45 R19', '245/40 R20', '275/50 R20',\n",
       "       '255/60 ZR18', '255/45 R19', '245/35ZR20', '245/45R19',\n",
       "       '245/40 R21', '255/45ZR19', '285/60R18', '245/35R19',\n",
       "       '285/45 ZR21', '275/40R20', '245/40ZR19', '285/45R21',\n",
       "       '255/40 ZR 20', '265/45R20', '285/30ZR20', 'R12', '145/80R12',\n",
       "       '145/80 R13', '165/80 R14', '185/80R14', '205/65 R15',\n",
       "       '195 / 65 R15', '215 / 60 R16', '195 / 65 R15 Steel', '195/60 R16',\n",
       "       '195/60R15', '215/75R15', '185 / 75 R 16', '215 / 75 R 15',\n",
       "       '205/60R16', '215/60R16', '195/65R15', '205/50R17', '205/65 R16',\n",
       "       '185 / 65 R15', '185/65 R16', '235/70R16', 'P235/70 R16',\n",
       "       '245/70 R16', '245 / 70 R16', '215/70R15', '215 65 R16',\n",
       "       '215/60 R17', 'P215/75R15', '245/75R16', 'P235/65R17', '235/65R17',\n",
       "       'P235/65 R17', 'P235/65R15', 'P235/60 R18', '235/70 R16',\n",
       "       '205/65R16', '215/55R17', '265 / 60 R16', '195/65 R15',\n",
       "       '215/55 R16', '215/50 R17', '115/90R17', '115/90 R17', '265/65R17',\n",
       "       '265/65R18', '235 / 55 R18', '225/55R17', '225/50 R18',\n",
       "       '225/40R18', '215/50R17', '235/40R18', '225/50 R17',\n",
       "       '235 / 60 R18', '235/60R18', '245/50 R19', '245/75R15',\n",
       "       '225 / 50 R17', '255 / 335 R19', '255/60R18', '255/55R19',\n",
       "       '255/60R19', '155/85R18', '235/65R20', '275/45 R21', '255/50',\n",
       "       '255/55 ZR 19', '285 / 40 ZR21', '275/35R20', '275/40 R22',\n",
       "       '245/40R20', '245/30R20', '245/30 R20', '255/35', '255/35 R19',\n",
       "       '255/30 ZR20', '145R 12 LT 6PR', '195/55 R15', '165/65 R14',\n",
       "       '185/70 R14', '205/60/R16', '205/60 R16', '215/65 R16',\n",
       "       '205/65R15', '115/90R16', '205/55', '205 / 55 R18', '235/45 R18',\n",
       "       '225/60R18', '245/45R20', '245/40 R18', '255/40R18',\n",
       "       '245/35 ZR 20', '255/40 R20', '255/40/20', '275/35 ZR20',\n",
       "       '175/60R15', '215/60R17', '235/65 R17', '215 / 70',\n",
       "       '235/45 R18 Tubeless Radials', '245/40', '225/60R17', '245/40R19',\n",
       "       '245 / 40 R19', '255 / 35 R20', '275/35 ZR 20', '245/35 ZR20',\n",
       "       '155/65R14', '145/80R13', '195 R15 LT, 8PR Radial', '235/45R18',\n",
       "       '255/55 R20', '255/55 R19', '245/45RF20', '185 / 60 R15',\n",
       "       '275/40R19', '185/55R16'], dtype=object)"
      ]
     },
     "execution_count": 421,
     "metadata": {},
     "output_type": "execute_result"
    }
   ],
   "source": [
    "df['Front_Tyre_&_Rim'].unique()"
   ]
  },
  {
   "cell_type": "code",
   "execution_count": 422,
   "metadata": {},
   "outputs": [],
   "source": [
    "df['lt_front_tyre'] = df['Front_Tyre_&_Rim'].str.contains('LT', na=False).astype(float) "
   ]
  },
  {
   "cell_type": "code",
   "execution_count": 423,
   "metadata": {},
   "outputs": [
    {
     "data": {
      "text/plain": [
       "array([0., 1.])"
      ]
     },
     "execution_count": 423,
     "metadata": {},
     "output_type": "execute_result"
    }
   ],
   "source": [
    "df['pr_front_tyre']=df['Front_Tyre_&_Rim'].str.contains('PR', na=False).astype(float)\n",
    "df['pr_front_tyre'].unique()"
   ]
  },
  {
   "cell_type": "code",
   "execution_count": 424,
   "metadata": {},
   "outputs": [
    {
     "data": {
      "text/plain": [
       "array([0., 1.])"
      ]
     },
     "execution_count": 424,
     "metadata": {},
     "output_type": "execute_result"
    }
   ],
   "source": [
    "df['z_front_tyre(240 km/h)']=df['Front_Tyre_&_Rim'].str.contains('Z', na=False).astype(float)\n",
    "df['z_front_tyre(240 km/h)'].unique()"
   ]
  },
  {
   "cell_type": "code",
   "execution_count": 425,
   "metadata": {},
   "outputs": [
    {
     "data": {
      "text/plain": [
       "array(['135/70R12', '80/155R13', '155/80R13', '165/70 R14', '155 R13 LT',\n",
       "       '155/65R13', '155/70R13', '165/70R14', nan, '155/80 R13',\n",
       "       '175/65 R14', '175 / 65 R14', '175/60 R15', '175/65R 15',\n",
       "       '185/65 R14', '185/65 R15', '205/70R15', '205/70', '175/65R14',\n",
       "       '185/60R15', '175/65 R15', '165/65R14', '165/80R14', '185/70R14',\n",
       "       '185/65R14', '195/55R16', '175/70R14', '185/60R16', '185/65R15',\n",
       "       '185/60 R15', '195 / 55 R16', '175/70 R14', '195/55 R16',\n",
       "       '195/55R15', '175/70R15', '205/55 R16', '205/55R16', '175/65R15',\n",
       "       '175/65', '225 / 60 R17', '265 / 60 R17', '245/70R17',\n",
       "       '255/60 R18', '215/65R17', '235/55R18', '235 / 65 R18',\n",
       "       '215/55 R17', '205/55R17', '255/35R20', '215/65R16', '235/55R17',\n",
       "       '235/55 R17', '235/55 R19', '235/55 R18', '225/50 R17 94Y',\n",
       "       '436.6 R17', '205 / 55 R17', '205 / 55 R16', '225/55 R18',\n",
       "       '225/60R19', '245 / 50R19', '235/60 R18', '245/45R18', '245/40R18',\n",
       "       '255/50R19', '255/40 R19', '265 / 60 R18', '265/50 R20',\n",
       "       '295/45R20', '245/35ZR19', '235/40 R18', '265/60R18', '235/60VR18',\n",
       "       '265/35R19', '(245/50 R18', '245/45 R19', '245/40 R20',\n",
       "       '275/50 R20', '255/60 ZR18', '255/45 R19', '245/35ZR20',\n",
       "       '245/45R19', '245/40 R21', '255/45ZR19', '285/60R18', '245/35R19',\n",
       "       '285/45 ZR21', '275/40R20', '245/40ZR19', '285/45R21',\n",
       "       '255/40 ZR 20', '265/45R20', '285/30ZR20', 'R12', '145/80R12',\n",
       "       '145/80 R13', '165/80 R14', '185/80R14', '205/65 R15',\n",
       "       '195 / 65 R15', '215 / 60 R16', '195 / 65 R15 Steel', '195/60 R16',\n",
       "       '195/60R15', '215/75R15', '185 / 75 R 16', '215 / 75 R 15',\n",
       "       '205/60R16', '215/60R16', '195/65R15', '205/50R17', '205/65 R16',\n",
       "       '185 / 65 R15', '185/65 R16', '235/70R16', 'P235/70 R16',\n",
       "       '245/70 R16', '245 / 70 R16', '215/70R15', '215 65 R16',\n",
       "       '215/60 R17', 'P215/75R15', '245/75R16', 'P235/65R17', '235/65R17',\n",
       "       'P235/65 R17', 'P235/65R15', 'P235/60 R18', '235/70 R16',\n",
       "       '205/65R16', '215/55R17', '265 / 60 R16', '195/65 R15',\n",
       "       '215/55 R16', '215/50 R17', '115/90R17', '115/90 R17', '265/65R17',\n",
       "       '265/65R18', '235 / 55 R18', '225/55R17', '225/50 R18',\n",
       "       '225/40R18', '215/50R17', '235/40R18', '225/50 R17',\n",
       "       '235 / 60 R18', '235/60R18', '245/50 R19', '245/75R15',\n",
       "       '225 / 50 R17', '255 / 335 R19', '255/60R18', '255/55R19',\n",
       "       '255/60R19', '155/85R18', '235/65R20', '275/45 R21', '255/50',\n",
       "       '255/55 ZR 19', '285 / 40 ZR21', '275/35R20', '275/40 R22',\n",
       "       '245/40R20', '245/30R20', '245/30 R20', '255/35', '255/35 R19',\n",
       "       '255/30 ZR20', '145R 12 LT 6PR', '195/55 R15', '165/65 R14',\n",
       "       '185/70 R14', '205/60/R16', '205/60 R16', '215/65 R16',\n",
       "       '205/65R15', '115/90R16', '205/55', '205 / 55 R18', '235/45 R18',\n",
       "       '225/60R18', '245/45R20', '245/40 R18', '255/40R18',\n",
       "       '245/35 ZR 20', '255/40 R20', '255/40/20', '275/35 ZR20',\n",
       "       '175/60R15', '215/60R17', '235/65 R17', '215 / 70',\n",
       "       '235/45 R18 Tubeless Radials', '245/40', '225/60R17', '245/40R19',\n",
       "       '245 / 40 R19', '255 / 35 R20', '275/35 ZR 20', '245/35 ZR20',\n",
       "       '155/65R14', '145/80R13', '195 R15 LT, 8PR Radial', '235/45R18',\n",
       "       '255/55 R20', '255/55 R19', '245/45RF20', '185 / 60 R15',\n",
       "       '275/40R19', '185/55R16'], dtype=object)"
      ]
     },
     "execution_count": 425,
     "metadata": {},
     "output_type": "execute_result"
    }
   ],
   "source": [
    "df['Front_Tyre_&_Rim']=df['Front_Tyre_&_Rim'].replace('43.66 cm/17\" Light Alloy Wheels JCW Track Spoke, Black','436.6 R17')\n",
    "df['Front_Tyre_&_Rim'].unique()"
   ]
  },
  {
   "cell_type": "code",
   "execution_count": 426,
   "metadata": {},
   "outputs": [],
   "source": [
    "df['Front_Tyre_&_Rim'] = df['Front_Tyre_&_Rim'].astype(str)\n",
    "df['Front_Tyre_size'] = df['Front_Tyre_&_Rim'].apply(lambda x: x.split('R')[0] if 'R' in x else None)\n",
    "df['Front_rim_size'] = df['Front_Tyre_&_Rim'].apply(lambda x: x.split('R')[1] if 'R' in x else None)"
   ]
  },
  {
   "cell_type": "code",
   "execution_count": 427,
   "metadata": {},
   "outputs": [
    {
     "data": {
      "text/plain": [
       "array(['12', '13', '14', '13 LT', None, '15', ' 15', '16', '17', '18',\n",
       "       '20', '19', '17 94Y', '21', ' 20', '15 Steel', ' 16', ' 19', '22',\n",
       "       ' 12 LT 6P', '18 Tubeless ', '15 LT, 8P', 'F20'], dtype=object)"
      ]
     },
     "execution_count": 427,
     "metadata": {},
     "output_type": "execute_result"
    }
   ],
   "source": [
    "df['Front_rim_size'].unique()"
   ]
  },
  {
   "cell_type": "code",
   "execution_count": 428,
   "metadata": {},
   "outputs": [
    {
     "data": {
      "text/plain": [
       "array(['12', '13', '14', None, '15', ' 15', '16', '17', '18', '20', '19',\n",
       "       '21', ' 20', ' 16', ' 19', '22', ' 12 LT 6P', '18 Tubeless ',\n",
       "       '15 LT, 8P'], dtype=object)"
      ]
     },
     "execution_count": 428,
     "metadata": {},
     "output_type": "execute_result"
    }
   ],
   "source": [
    "df['Front_rim_size']=df['Front_rim_size'].replace({'13 LT':'13','15 Steel':'15','Tubeless':'','6P':'','F20':'20','17 94Y':'17'})\n",
    "df['Front_rim_size'].unique()"
   ]
  },
  {
   "cell_type": "code",
   "execution_count": 429,
   "metadata": {},
   "outputs": [
    {
     "data": {
      "text/plain": [
       "array([12., 13., 14., 15., 16., 17., 18., 20., 19., 21., 22.])"
      ]
     },
     "execution_count": 429,
     "metadata": {},
     "output_type": "execute_result"
    }
   ],
   "source": [
    "df['Front_rim_size']=df['Front_rim_size'].replace({'15 LT, 8P':'15',' 12 LT 6P':'12','18 Tubeless ':'18',' 15':'15',' 20':'20',' 16':'16', ' 19':'19'})\n",
    "fillna_mode(df,'Front_rim_size')\n",
    "df['Front_rim_size']=df['Front_rim_size'].replace('None',16)\n",
    "df['Front_rim_size'].astype(float).unique()"
   ]
  },
  {
   "cell_type": "code",
   "execution_count": 430,
   "metadata": {},
   "outputs": [
    {
     "data": {
      "text/plain": [
       "array(['135/70', '80/155', '155/80', '165/70 ', '155 ', '155/65',\n",
       "       '155/70', '165/70', None, '155/80 ', '175/65 ', '175 / 65 ',\n",
       "       '175/60 ', '175/65', '185/65 ', '205/70', '185/60', '165/65',\n",
       "       '165/80', '185/70', '185/65', '195/55', '175/70', '185/60 ',\n",
       "       '195 / 55 ', '175/70 ', '195/55 ', '205/55 ', '205/55',\n",
       "       '225 / 60 ', '265 / 60 ', '245/70', '255/60 ', '215/65', '235/55',\n",
       "       '235 / 65 ', '215/55 ', '255/35', '235/55 ', '225/50 ', '436.6 ',\n",
       "       '205 / 55 ', '225/55 ', '225/60', '245 / 50', '235/60 ', '245/45',\n",
       "       '245/40', '255/50', '255/40 ', '265/50 ', '295/45', '245/35Z',\n",
       "       '235/40 ', '265/60', '235/60V', '265/35', '(245/50 ', '245/45 ',\n",
       "       '245/40 ', '275/50 ', '255/60 Z', '255/45 ', '255/45Z', '285/60',\n",
       "       '245/35', '285/45 Z', '275/40', '245/40Z', '285/45', '255/40 Z',\n",
       "       '265/45', '285/30Z', '', '145/80', '145/80 ', '165/80 ', '185/80',\n",
       "       '205/65 ', '195 / 65 ', '215 / 60 ', '195/60 ', '195/60', '215/75',\n",
       "       '185 / 75 ', '215 / 75 ', '205/60', '215/60', '195/65', '205/50',\n",
       "       '185 / 65 ', '235/70', 'P235/70 ', '245/70 ', '245 / 70 ',\n",
       "       '215/70', '215 65 ', '215/60 ', 'P215/75', '245/75', 'P235/65',\n",
       "       '235/65', 'P235/65 ', 'P235/60 ', '235/70 ', '205/65', '215/55',\n",
       "       '195/65 ', '215/50 ', '115/90', '115/90 ', '265/65', '235 / 55 ',\n",
       "       '225/55', '225/40', '215/50', '235/40', '235 / 60 ', '235/60',\n",
       "       '245/50 ', '225 / 50 ', '255 / 335 ', '255/60', '255/55', '155/85',\n",
       "       '275/45 ', '255/55 Z', '285 / 40 Z', '275/35', '275/40 ', '245/30',\n",
       "       '245/30 ', '255/35 ', '255/30 Z', '145', '165/65 ', '185/70 ',\n",
       "       '205/60/', '205/60 ', '215/65 ', '235/45 ', '255/40', '245/35 Z',\n",
       "       '275/35 Z', '175/60', '235/65 ', '245 / 40 ', '255 / 35 ', '195 ',\n",
       "       '235/45', '255/55 ', '185 / 60 ', '185/55'], dtype=object)"
      ]
     },
     "execution_count": 430,
     "metadata": {},
     "output_type": "execute_result"
    }
   ],
   "source": [
    "df['Front_Tyre_size'].unique()"
   ]
  },
  {
   "cell_type": "code",
   "execution_count": 431,
   "metadata": {},
   "outputs": [
    {
     "data": {
      "text/plain": [
       "array(['135/70', '80/155', '155/80', '165/70', '155', '155/65', '155/70',\n",
       "       None, '175/65', '175/60', '185/65', '205/70', '185/60', '165/65',\n",
       "       '165/80', '185/70', '195/55', '175/70', '205/55', '225/60',\n",
       "       '265/60', '245/70', '255/60', '215/65', '235/55', '235/65',\n",
       "       '215/55', '255/35', '225/50', '436.6', '225/55', '245/50',\n",
       "       '235/60', '245/45', '245/40', '255/50', '255/40', '265/50',\n",
       "       '295/45', '245/35', '235/40', '265/35', '275/50', '255/45',\n",
       "       '285/60', '285/45', '275/40', '265/45', '285/30', '', '145/80',\n",
       "       '185/80', '205/65', '195/65', '215/60', '195/60', '215/75',\n",
       "       '185/75', '205/60', '205/50', '235/70', '215/70', '21565',\n",
       "       '245/75', '215/50', '115/90', '265/65', '225/40', '255/335',\n",
       "       '255/55', '155/85', '275/45', '285/40', '275/35', '245/30',\n",
       "       '255/30', '145', '205/60/', '235/45', '195', '185/55'],\n",
       "      dtype=object)"
      ]
     },
     "execution_count": 431,
     "metadata": {},
     "output_type": "execute_result"
    }
   ],
   "source": [
    "df['Front_Tyre_size'] = df['Front_Tyre_size'].apply(lambda x: x.replace('Z', '').replace('V','').replace('(','').replace('P','').replace(' ','').strip() if x is not None else None)\n",
    "df['Front_Tyre_size'].unique()"
   ]
  },
  {
   "cell_type": "code",
   "execution_count": 432,
   "metadata": {},
   "outputs": [],
   "source": [
    "df = df[df['Front_Tyre_size'] != '']"
   ]
  },
  {
   "cell_type": "code",
   "execution_count": 433,
   "metadata": {},
   "outputs": [
    {
     "data": {
      "text/plain": [
       "array(['135/70', '80/155', '155/80', '165/70', '155', '155/65', '155/70',\n",
       "       '185/60', '175/65', '175/60', '185/65', '205/70', '165/65',\n",
       "       '165/80', '185/70', '195/55', '175/70', '205/55', '225/60',\n",
       "       '265/60', '245/70', '255/60', '215/65', '235/55', '235/65',\n",
       "       '215/55', '255/35', '225/50', '436.6', '225/55', '245/50',\n",
       "       '235/60', '245/45', '245/40', '255/50', '255/40', '265/50',\n",
       "       '295/45', '245/35', '235/40', '265/35', '275/50', '255/45',\n",
       "       '285/60', '285/45', '275/40', '265/45', '285/30', '145/80',\n",
       "       '185/80', '205/65', '195/65', '215/60', '195/60', '215/75',\n",
       "       '185/75', '205/60', '205/50', '235/70', '215/70', '21565',\n",
       "       '245/75', '215/50', '115/90', '265/65', '225/40', '255/335',\n",
       "       '255/55', '155/85', '275/45', '285/40', '275/35', '245/30',\n",
       "       '255/30', '145', '205/60/', '235/45', '195', '185/55'],\n",
       "      dtype=object)"
      ]
     },
     "execution_count": 433,
     "metadata": {},
     "output_type": "execute_result"
    }
   ],
   "source": [
    "fillna_mode(df,'Front_Tyre_size')\n",
    "df['Front_Tyre_size'].unique()"
   ]
  },
  {
   "cell_type": "markdown",
   "metadata": {},
   "source": [
    "### Power_Steering"
   ]
  },
  {
   "cell_type": "code",
   "execution_count": 434,
   "metadata": {},
   "outputs": [
    {
     "data": {
      "text/plain": [
       "array(['Electric Power', nan, 'Yes', 'Hydraulic Power',\n",
       "       'Electric Power, Hydraulic Power', 'Electro-Hydraulic'],\n",
       "      dtype=object)"
      ]
     },
     "execution_count": 434,
     "metadata": {},
     "output_type": "execute_result"
    }
   ],
   "source": [
    "df['Power_Steering'].unique()"
   ]
  },
  {
   "cell_type": "code",
   "execution_count": 435,
   "metadata": {},
   "outputs": [
    {
     "data": {
      "text/plain": [
       "array(['Electric Power', 'No', 'Other', 'Hydraulic Power',\n",
       "       'Electric P & Hydraulic P', 'Electro-Hydraulic'], dtype=object)"
      ]
     },
     "execution_count": 435,
     "metadata": {},
     "output_type": "execute_result"
    }
   ],
   "source": [
    "df['Power_Steering'] = df['Power_Steering'].fillna('No')\n",
    "df['Power_Steering']=df['Power_Steering'].apply(lambda x:x.replace('Yes','Other').replace('Electric Power, Hydraulic Power','Electric P & Hydraulic P'))\n",
    "df['Power_Steering'].unique()"
   ]
  },
  {
   "cell_type": "markdown",
   "metadata": {},
   "source": [
    "### Power_Windows"
   ]
  },
  {
   "cell_type": "code",
   "execution_count": 436,
   "metadata": {},
   "outputs": [
    {
     "data": {
      "text/plain": [
       "array(['Only Front Windows', nan, 'All Windows'], dtype=object)"
      ]
     },
     "execution_count": 436,
     "metadata": {},
     "output_type": "execute_result"
    }
   ],
   "source": [
    "df['Power_Windows'].unique()"
   ]
  },
  {
   "cell_type": "code",
   "execution_count": 437,
   "metadata": {},
   "outputs": [],
   "source": [
    "df['Power_Windows']=df['Power_Windows'].fillna('No')"
   ]
  },
  {
   "cell_type": "markdown",
   "metadata": {},
   "source": [
    "### Power_Seats"
   ]
  },
  {
   "cell_type": "code",
   "execution_count": 438,
   "metadata": {},
   "outputs": [
    {
     "data": {
      "text/plain": [
       "array([nan, 'Yes', 'Power seats', 'Yes, with memory'], dtype=object)"
      ]
     },
     "execution_count": 438,
     "metadata": {},
     "output_type": "execute_result"
    }
   ],
   "source": [
    "df['Power_Seats'].unique()"
   ]
  },
  {
   "cell_type": "code",
   "execution_count": 439,
   "metadata": {},
   "outputs": [
    {
     "data": {
      "text/plain": [
       "array(['No', 'Yes', 'Yes, with memory'], dtype=object)"
      ]
     },
     "execution_count": 439,
     "metadata": {},
     "output_type": "execute_result"
    }
   ],
   "source": [
    "df['Power_Seats']=df['Power_Seats'].fillna('No')\n",
    "df['Power_Seats']=df['Power_Seats'].apply(lambda x:x.replace('Power seats','Yes'))\n",
    "df['Power_Seats'].unique()"
   ]
  },
  {
   "cell_type": "markdown",
   "metadata": {},
   "source": [
    "### Keyless_Entry"
   ]
  },
  {
   "cell_type": "code",
   "execution_count": 440,
   "metadata": {},
   "outputs": [
    {
     "data": {
      "text/plain": [
       "array(['Remote', nan, 'Yes', 'Smart Key', 'Remote, Smart Key',\n",
       "       'Smart Key, Remote'], dtype=object)"
      ]
     },
     "execution_count": 440,
     "metadata": {},
     "output_type": "execute_result"
    }
   ],
   "source": [
    "df['Keyless_Entry'].unique()"
   ]
  },
  {
   "cell_type": "code",
   "execution_count": 441,
   "metadata": {},
   "outputs": [
    {
     "data": {
      "text/plain": [
       "array(['Remote', 'No', 'Other', 'Smart Key', 'Remote, Smart Key',\n",
       "       'Smart Key, Remote'], dtype=object)"
      ]
     },
     "execution_count": 441,
     "metadata": {},
     "output_type": "execute_result"
    }
   ],
   "source": [
    "df['Keyless_Entry']=df['Keyless_Entry'].fillna('No')\n",
    "df['Keyless_Entry']=df['Keyless_Entry'].apply(lambda x:x.replace('Yes','Other'))\n",
    "df['Keyless_Entry'].unique()"
   ]
  },
  {
   "cell_type": "markdown",
   "metadata": {},
   "source": [
    "### Power"
   ]
  },
  {
   "cell_type": "code",
   "execution_count": 442,
   "metadata": {},
   "outputs": [
    {
     "data": {
      "text/plain": [
       "array(['38PS@5500rpm', '54PS@5678rpm', '68PS@5500rpm', '73PS@6000rpm',\n",
       "       '74PS@6000RPM', '62PS@6000rpm', '68PS@6000rpm', '68PS@6200rpm',\n",
       "       '59PS@6000rpm', '68PS@5000rpm', '78PS@5000rpm', '59bhp@6000rpm',\n",
       "       '69PS@5500rpm', '59PS@5500RPM', '86PS@6000rpm', '83PS@6000rpm',\n",
       "       '72PS@62050rpm', '76.6PS@5800rpm', '64PS@4000rpm', '72PS@4000rpm',\n",
       "       '80PS@5600rpm', '68PS@3800rpm', '75PS@4000rpm', '90PS@5000rpm',\n",
       "       '81.8bhp@6000rpm', '70bhp@4000RPM', '71PS@4000rpm',\n",
       "       '69bhp@6000rpm', '84PS@6000rpm', '90PS@4000rpm', '69PS@6000rpm',\n",
       "       '100PS@6000rpm', '76PS@6200RPM', '90PS@4200rpm', '105PS@5000rpm',\n",
       "       '110PS@4400rpm', '84.3PS@6000rpm', '100PS@3750RPM', '96PS@6500rpm',\n",
       "       '100PS@3700RPM', '96PS@6300rpm', '90PS@5600rpm', '65PS@4000rpm',\n",
       "       '93PS@4000RPM', '140ps@5500rpm', '89PS@6000 rpm', '82PS@6000 rpm',\n",
       "       '90PS@6000rpm', '100PS@3600rpm', '89 bhp@6000rpm', '173PS@3750rpm',\n",
       "       '177PS@3600rpm', '178Bhp @ 4000', '141PS@4000rpm', '154PS@6500rpm',\n",
       "       '120PS@4000RPM', '180PS@6200RPM', '177PS@4000RPM', '143PS@4000rpm',\n",
       "       '150PS@6000RPM', '148bhp@4000RPM', '250PS@5500RPM',\n",
       "       '148hp@3500-4000rpm', '177PS@4200rpm', '150PS@4200rpm',\n",
       "       '116PS@4000rpm', '192PS@5000-6000rpm', '190bhp', '190PS@4000rpm',\n",
       "       '192PS@6200RPM', '150PS@5000-6000rpm', '231hp@5200-6200rpm',\n",
       "       '180PS@4000rpm', '247PS@5500rpm', '180ps@5500rpm',\n",
       "       '148 bhp @ 5100 rpm', '245PS@5000-6500rpm', '248 bhp @ 5200 rpm',\n",
       "       '179PS@4000rpm', '190PS@4250rpm', '333PS@5400-6400RPM',\n",
       "       '265HP@4000rpm', '340HP@4000rpm', '401PS@6550RPM', '240PS@3600rpm',\n",
       "       '468 bhp @ 6250 rpm', '286PS@6350rpm', '410hp@5230-7000RPM',\n",
       "       '300PS@6500rpm', '173PS@3400rpm', '262PS@6000rpm',\n",
       "       '450PS@5700-6700rpm', '265PS@4000RPM', '340PS@5500-6500RPM',\n",
       "       '286PS@5000-6000RPM', '609PS@5400-6500RPM', '340PS@5000rpm',\n",
       "       '275PS@4000rpm', '350PS@5750rpm', '430PS@5750rpm', '460PS@7000RPM',\n",
       "       '275PS@7000rpm', '299PS@6600rpm', '550PS@6000RPM', '261PS@6000rpm',\n",
       "       '610PS@8250rpm', '650PS@6000rpm', '590PS@6000rpm', '560PS@7500rpm',\n",
       "       '608PS@6000RPM', '608PS@6500rpm', '605PS@9000rpm', '512PS@4200rpm',\n",
       "       '1479bhp@6700rpm', '1600Nm@2000-6000rpm', '48PS@6000rpm',\n",
       "       '47hp@6000rpm', '67PS@5500rpm', '82PS@5500RPM', '77PS@3750RPM',\n",
       "       '101.4PS@3600RPM', '122PS@4000RPM', '80PS@3600rpm', '80PS@6000rpm',\n",
       "       '82hp@6000rpm', '117hp@6000rpm', '89hp@4000rpm', '117bhp@6000rpm',\n",
       "       '118hp@6000rpm', '118@6000rpm', '90PS', '110PS@5000rpm',\n",
       "       '110PS@3750RPM', '114PS@5000rpm', '93PS@5000RPM', '70ps@3600rpm',\n",
       "       '70 bhp @ 3600 rpm', '63PS@3200rpm', '63.9PS@3200RPM',\n",
       "       '123PS@6500rpm', '106PS@5600rpm', '85PS@3750rpm', '110PS@4000rpm',\n",
       "       '123PS@6400rpm', '128ps@4000rpm', '109bhp@5000RPM',\n",
       "       '115bhp@3750rpm', '105PS@5250rpm', '105PS@4400rpm',\n",
       "       '119PS@6600rpm', '105 Bhp@ 3800 rpm', '105PS@3800rpm',\n",
       "       '85PS@3200rpm', '140 bhp @ 3800 rpm', '104PS@6000rpm',\n",
       "       '143PS@5500RPM', '121Bhp@3500rpm', '75PS@3200rpm', '121PS@4000rpm',\n",
       "       '140PS@3750rpm', '140PS@4500rpm', '155PS@3750rpm', '41PS@3500RPM',\n",
       "       '156PS@4000rpm', '150PS@4000rpm', '150PS@3400rpm', '166PS@5200rpm',\n",
       "       '166PS@3400rpm', '164 bhp @ 5200 rpm', '174PS@3400rpm',\n",
       "       '162PS@3750rpm', '163PS@5500rpm', '140PS@6400rpm',\n",
       "       '88.4PS@3800rpm', '141PS@6500rpm', '120ps@4000', '200PS@3800rpm',\n",
       "       '150PS@150rpm', '150PS@3500rpm', '177PS@3400rpm', '200PS@3000rpm',\n",
       "       '160PS@3200rpm', '148 bhp @ 3500 rpm', '190hp@4000rpm',\n",
       "       '187bhp@4000rpm', '192hp@5000rpm', '372Ps@5700rpm',\n",
       "       '181 bhp @ 4250 rpm', '190PS@400RPM', '258PS@500RPM',\n",
       "       '190PS@3800-4000rpm', '248 bhp @ 5000-6000 rpm', '245PS@5500rpm',\n",
       "       '233PS@4250rpm', '188bhp@4000RPM', '248bhp@5200rpm',\n",
       "       '268PS@6350rpm', '197hp@4500-6500rpm', '340hp@5000-6000rpm',\n",
       "       '249PS@4500RPM', '252PS@4500RPM', '252PS@5000-6000rpm',\n",
       "       '240PS@5500rpm', '225PS@4250RPM', '407ps@5700rpm', '320bhp',\n",
       "       '235 bhp @ 4250 rpm', '567bhp@6000-6500rpm', '296bhp@5500rpm',\n",
       "       '335bhp@6500RPM', '518bhp@6000-6500rpm', '254 bhp @ 4000 rpm',\n",
       "       '335bhp@3500rpm', '274PS@4000RPM', '302bhp@4000RPM',\n",
       "       '340bhp@6400RPM', '550bhp@6000RPM', '335PS@5300rpm',\n",
       "       '265PS@3400rpm', '560PS@6600RPM', '558PS@6000-6500rpm',\n",
       "       '558bhp@6000-6500RPM', '254bhp@3750rpm', '450PS@7000rpm',\n",
       "       '580PS@8000rpm', '639PS@8250rpm', '571 bhp @ 8000 rpm',\n",
       "       '602 bhp @ 8250 rpm', '631Bhp@8250rpm', '610PS@8000 rpm',\n",
       "       '670PS@8000rpm', '610PS@7000rpm', '681PS@8000rpm', '700PS@8250RPM',\n",
       "       '740PS@8400rpm', '34.7PS@5000rpm', '75 bhp @ 4000 rpm',\n",
       "       '83 Bhp@6000rpm', '82bhp@6000RPM', '76PS@4000RPM', '99PS@6000rpm',\n",
       "       '86Ps@3750rpm', '101PS@5600rpm', '103Bhp@6000rpm',\n",
       "       '104bhp@6000rpm', '95Bhp@4400rpm', '102PS@5500rpm', '84PS@3750RPM',\n",
       "       '110PS@3850rpm', '95PS@3600rpm', '115PS@6300rpm', '114PS@4000 rpm',\n",
       "       '115PS@4000RPM', '140PS@6000RPM', '110PS@3900rpm', '104PS@5850rpm',\n",
       "       '141bhp', '168bhp', '152PS@6200rpm', '185PS@4000rpm',\n",
       "       '155PS@6200rpm', '180PS@3600-4000rpm', '180PS@5700rpm',\n",
       "       '192PS@5500rpm', '190PS@5500rpm', '98PS@5200rpm', '176Bhp@5700rpm',\n",
       "       '194PS@5700rpm', '247bhp@5500rpm', '235PS@4250RPM',\n",
       "       '190ps @ 3800-4200rpm', '335 bhp @ 5500 rpm', '262 bhp @ 4000 rpm',\n",
       "       '431PS@7300RPM', '450hp@6500rpm', '570PS@6800rpm',\n",
       "       '505bhp@6000rpm', '560PS@6650rpm', '789 bhp @ 8500 rpm',\n",
       "       '82PS@6000rpm', '77PS@6000rpm', '89Bhp@4000RPM', '94Bhp@4000RPM',\n",
       "       '145PS@5500rpm', '121bhp@6400rpm', '126bhp@4000RPM',\n",
       "       '134PS@3600RPM', '134HP@3600RPM', '150PS@3600rpm', '167PS@6000RPM',\n",
       "       '145PS@6200rpm', '258PS@4000rpm', '252PS@5200rpm', '450PS@5500rpm',\n",
       "       '188PS@4000RPM', '349PS@5400RPM', '248PS@5000RPM', '495PS@6500RPM',\n",
       "       '550PS@6500RPM', '567PS@6500rpm', '297 bhp @ 5500 rpm',\n",
       "       '625PS@6000rpm', '380PS@6000rpm', '669PS@8000rpm', '85PS@6000rpm',\n",
       "       '70PS@4000rpm', '73.5kW@4000rpm', '178PS@5700rpm', '258PS@3750rpm',\n",
       "       '394PS@3750rpm', '107PS@6000rpm', '178PS@4000rpm', '507PS@6000rpm',\n",
       "       '616PS@6100rpm', '202ps@3800rpm'], dtype=object)"
      ]
     },
     "execution_count": 442,
     "metadata": {},
     "output_type": "execute_result"
    }
   ],
   "source": [
    "df['Power'].unique()"
   ]
  },
  {
   "cell_type": "code",
   "execution_count": 443,
   "metadata": {},
   "outputs": [],
   "source": [
    "def convert_to_bhp(value):\n",
    "    if pd.isna(value): \n",
    "        return None\n",
    "    value = str(value).lower()  \n",
    "    if 'ps' in value:\n",
    "        return float(value.replace('ps', '').strip()) * 0.98632  \n",
    "    elif 'kw' in value:\n",
    "        return float(value.replace('kw', '').strip()) * 1.34102  \n",
    "    elif 'bhp' in value:\n",
    "        return float(value.replace('bhp', '').strip())\n",
    "    elif 'hp' in value:\n",
    "        return float(value.replace('hp', '').strip()) * 1.01387"
   ]
  },
  {
   "cell_type": "code",
   "execution_count": 444,
   "metadata": {},
   "outputs": [
    {
     "data": {
      "text/plain": [
       "array(['38PS', '54PS', '68PS', '73PS', '74PS', '62PS', '59PS', '78PS',\n",
       "       '59bhp', '69PS', '86PS', '83PS', '72PS', '76.6PS', '64PS', '80PS',\n",
       "       '75PS', '90PS', '81.8bhp', '70bhp', '71PS', '69bhp', '84PS',\n",
       "       '100PS', '76PS', '105PS', '110PS', '84.3PS', '96PS', '65PS',\n",
       "       '93PS', '140ps', '89PS', '82PS', '89bhp', '173PS', '177PS',\n",
       "       '178Bhp', '141PS', '154PS', '120PS', '180PS', '143PS', '150PS',\n",
       "       '148bhp', '250PS', '148hp', '116PS', '192PS', '190bhp', '190PS',\n",
       "       '231hp', '247PS', '180ps', '245PS', '248bhp', '179PS', '333PS',\n",
       "       '265HP', '340HP', '401PS', '240PS', '468bhp', '286PS', '410hp',\n",
       "       '300PS', '262PS', '450PS', '265PS', '340PS', '609PS', '275PS',\n",
       "       '350PS', '430PS', '460PS', '299PS', '550PS', '261PS', '610PS',\n",
       "       '650PS', '590PS', '560PS', '608PS', '605PS', '512PS', '1479bhp',\n",
       "       '1600Nm', '48PS', '47hp', '67PS', '77PS', '101.4PS', '122PS',\n",
       "       '82hp', '117hp', '89hp', '117bhp', '118hp', '118', '114PS', '70ps',\n",
       "       '63PS', '63.9PS', '123PS', '106PS', '85PS', '128ps', '109bhp',\n",
       "       '115bhp', '119PS', '105Bhp', '140bhp', '104PS', '121Bhp', '121PS',\n",
       "       '140PS', '155PS', '41PS', '156PS', '166PS', '164bhp', '174PS',\n",
       "       '162PS', '163PS', '88.4PS', '120ps', '200PS', '160PS', '190hp',\n",
       "       '187bhp', '192hp', '372Ps', '181bhp', '258PS', '233PS', '188bhp',\n",
       "       '268PS', '197hp', '340hp', '249PS', '252PS', '225PS', '407ps',\n",
       "       '320bhp', '235bhp', '567bhp', '296bhp', '335bhp', '518bhp',\n",
       "       '254bhp', '274PS', '302bhp', '340bhp', '550bhp', '335PS', '558PS',\n",
       "       '558bhp', '580PS', '639PS', '571bhp', '602bhp', '631Bhp', '670PS',\n",
       "       '681PS', '700PS', '740PS', '34.7PS', '75bhp', '83Bhp', '82bhp',\n",
       "       '99PS', '86Ps', '101PS', '103Bhp', '104bhp', '95Bhp', '102PS',\n",
       "       '95PS', '115PS', '141bhp', '168bhp', '152PS', '185PS', '98PS',\n",
       "       '176Bhp', '194PS', '247bhp', '235PS', '190ps', '262bhp', '431PS',\n",
       "       '450hp', '570PS', '505bhp', '789bhp', '89Bhp', '94Bhp', '145PS',\n",
       "       '121bhp', '126bhp', '134PS', '134HP', '167PS', '188PS', '349PS',\n",
       "       '248PS', '495PS', '567PS', '297bhp', '625PS', '380PS', '669PS',\n",
       "       '70PS', '73.5kW', '178PS', '394PS', '107PS', '507PS', '616PS',\n",
       "       '202ps'], dtype=object)"
      ]
     },
     "execution_count": 444,
     "metadata": {},
     "output_type": "execute_result"
    }
   ],
   "source": [
    "df['Power_bhp']=df['Power'].apply(lambda x:x.replace(' ','').split('@')[0])\n",
    "df['Power_bhp'].unique()"
   ]
  },
  {
   "cell_type": "code",
   "execution_count": 445,
   "metadata": {},
   "outputs": [
    {
     "data": {
      "text/plain": [
       "array([  37.5,   53.3,   67.1,   72. ,   73. ,   61.2,   58.2,   76.9,\n",
       "         59. ,   68.1,   84.8,   81.9,   71. ,   75.6,   63.1,   78.9,\n",
       "         74. ,   88.8,   81.8,   70. ,   69. ,   82.9,   98.6,   75. ,\n",
       "        103.6,  108.5,   83.1,   94.7,   64.1,   91.7,  138.1,   87.8,\n",
       "         80.9,   89. ,  170.6,  174.6,  178. ,  139.1,  151.9,  118.4,\n",
       "        177.5,  141. ,  147.9,  148. ,  246.6,  150.1,  114.4,  189.4,\n",
       "        190. ,  187.4,  234.2,  243.6,  241.6,  248. ,  176.6,  328.4,\n",
       "        268.7,  344.7,  395.5,  236.7,  468. ,  282.1,  415.7,  295.9,\n",
       "        258.4,  443.8,  261.4,  335.3,  600.7,  271.2,  345.2,  424.1,\n",
       "        453.7,  294.9,  542.5,  257.4,  601.7,  641.1,  581.9,  552.3,\n",
       "        599.7,  596.7,  505. , 1479. ,    nan,   47.3,   47.7,   66.1,\n",
       "         75.9,  100. ,  120.3,  118.6,   90.2,  117. ,  119.6,  112.4,\n",
       "         62.1,   63. ,  121.3,  104.5,   83.8,  126.2,  109. ,  115. ,\n",
       "        117.4,  105. ,  140. ,  102.6,  121. ,  119.3,  152.9,   40.4,\n",
       "        153.9,  163.7,  164. ,  171.6,  159.8,  160.8,   87.2,  197.3,\n",
       "        157.8,  192.6,  187. ,  194.7,  366.9,  181. ,  254.5,  229.8,\n",
       "        188. ,  264.3,  199.7,  245.6,  248.6,  221.9,  401.4,  320. ,\n",
       "        235. ,  567. ,  296. ,  335. ,  518. ,  254. ,  270.3,  302. ,\n",
       "        340. ,  550. ,  330.4,  550.4,  558. ,  572.1,  630.3,  571. ,\n",
       "        602. ,  631. ,  660.8,  671.7,  690.4,  729.9,   34.2,   83. ,\n",
       "         82. ,   97.6,   99.6,  103. ,  104. ,   95. ,  100.6,   93.7,\n",
       "        113.4,  168. ,  149.9,  182.5,   96.7,  176. ,  191.3,  247. ,\n",
       "        231.8,  262. ,  425.1,  456.2,  562.2,  789. ,   94. ,  143. ,\n",
       "        126. ,  132.2,  135.9,  164.7,  185.4,  344.2,  244.6,  488.2,\n",
       "        559.2,  297. ,  616.4,  374.8,  659.8,  175.6,  388.6,  105.5,\n",
       "        500.1,  607.6,  199.2])"
      ]
     },
     "execution_count": 445,
     "metadata": {},
     "output_type": "execute_result"
    }
   ],
   "source": [
    "df['Power_bhp'] = df['Power_bhp'].apply(lambda x:convert_to_bhp(x))\n",
    "df['Power_bhp'] = df['Power_bhp'].apply(lambda x:None if x==None else round(x,1))\n",
    "df['Power_bhp'].unique()"
   ]
  },
  {
   "cell_type": "code",
   "execution_count": 447,
   "metadata": {},
   "outputs": [],
   "source": [
    "fillna_mean(df,'Power_bhp')"
   ]
  },
  {
   "cell_type": "code",
   "execution_count": 463,
   "metadata": {},
   "outputs": [
    {
     "data": {
      "text/plain": [
       "array(['5500rpm', '5678rpm', '6000rpm', '6000RPM', '6200rpm', '5000rpm',\n",
       "       '5500RPM', '62050rpm', '5800rpm', '4000rpm', '5600rpm', '3800rpm',\n",
       "       '4000RPM', '6200RPM', '4200rpm', '4400rpm', '3750RPM', '6500rpm',\n",
       "       '3700RPM', '6300rpm', '3600rpm', '3750rpm', '4000', '3500-4000rpm',\n",
       "       '5000-6000rpm', None, '5200-6200rpm', '5100rpm', '5000-6500rpm',\n",
       "       '5200rpm', '4250rpm', '5400-6400RPM', '6550RPM', '6250rpm',\n",
       "       '6350rpm', '5230-7000RPM', '3400rpm', '5700-6700rpm',\n",
       "       '5500-6500RPM', '5000-6000RPM', '5400-6500RPM', '5750rpm',\n",
       "       '7000RPM', '7000rpm', '6600rpm', '8250rpm', '7500rpm', '9000rpm',\n",
       "       '6700rpm', '2000-6000rpm', '3600RPM', '5000RPM', '3200rpm',\n",
       "       '3200RPM', '6400rpm', '5250rpm', '3500rpm', '4500rpm', '3500RPM',\n",
       "       '150rpm', '3000rpm', '5700rpm', '400RPM', '500RPM', '3800-4000rpm',\n",
       "       '4500-6500rpm', '4500RPM', '4250RPM', '6000-6500rpm', '6500RPM',\n",
       "       '6400RPM', '5300rpm', '6600RPM', '6000-6500RPM', '8000rpm',\n",
       "       '8250RPM', '8400rpm', '3850rpm', '3900rpm', '5850rpm',\n",
       "       '3600-4000rpm', '3800-4200rpm', '7300RPM', '6800rpm', '6650rpm',\n",
       "       '8500rpm', '5400RPM', '6100rpm'], dtype=object)"
      ]
     },
     "execution_count": 463,
     "metadata": {},
     "output_type": "execute_result"
    }
   ],
   "source": [
    "df['Power_rpm'] = df['Power'].apply(lambda x: x.replace(' ', '').split('@')[1] if pd.notna(x) and '@' in x else None)\n",
    "df['Power_rpm'].unique()"
   ]
  },
  {
   "cell_type": "code",
   "execution_count": 464,
   "metadata": {},
   "outputs": [
    {
     "data": {
      "text/plain": [
       "array([ 5500. ,  5678. ,  6000. ,  6200. ,  5000. , 62050. ,  5800. ,\n",
       "        4000. ,  5600. ,  3800. ,  4200. ,  4400. ,  3750. ,  6500. ,\n",
       "        3700. ,  6300. ,  3600. ,  5124.3,  5700. ,  5100. ,  5750. ,\n",
       "        5200. ,  4250. ,  5900. ,  6550. ,  6250. ,  6350. ,  6115. ,\n",
       "        3400. ,  5950. ,  7000. ,  6600. ,  8250. ,  7500. ,  9000. ,\n",
       "        6700. ,  3200. ,  6400. ,  5250. ,  3500. ,  4500. ,   150. ,\n",
       "        3000. ,   400. ,   500. ,  3900. ,  5300. ,  8000. ,  8400. ,\n",
       "        3850. ,  5850. ,  7300. ,  6800. ,  6650. ,  8500. ,  5400. ,\n",
       "        6100. ])"
      ]
     },
     "execution_count": 464,
     "metadata": {},
     "output_type": "execute_result"
    }
   ],
   "source": [
    "df['Power_rpm']=df['Power_rpm'].apply(lambda x: x.lower().strip().replace('rpm', '') if pd.notna(x) else None)\n",
    "def process_rpm(value):\n",
    "    if pd.isna(value):  # Handle missing values\n",
    "        return None\n",
    "    if '-' in value:  # Handle ranges\n",
    "        parts = [float(part) for part in value.split('-')]\n",
    "        return sum(parts) / len(parts)  # Average of the range\n",
    "    return float(value)  # Single numeric value\n",
    "df['Power_rpm'] = df['Power_rpm'].apply(process_rpm)\n",
    "fillna_mean(df,'Power_rpm')\n",
    "df['Power_rpm'].unique()"
   ]
  },
  {
   "cell_type": "markdown",
   "metadata": {},
   "source": [
    "### Torque"
   ]
  },
  {
   "cell_type": "code",
   "execution_count": 470,
   "metadata": {},
   "outputs": [
    {
     "data": {
      "text/plain": [
       "array([None, '99.04'], dtype=object)"
      ]
     },
     "execution_count": 470,
     "metadata": {},
     "output_type": "execute_result"
    }
   ],
   "source": [
    "df['torque_nm']=df['Torque'].apply(lambda x:x.lower().split('@')[0].replace('nm','').replace(' ','').strip() if pd.notna(x) and 'nm' in x else None)\n",
    "df['torque_nm'].unique()"
   ]
  },
  {
   "cell_type": "code",
   "execution_count": null,
   "metadata": {},
   "outputs": [],
   "source": []
  },
  {
   "cell_type": "code",
   "execution_count": null,
   "metadata": {},
   "outputs": [],
   "source": [
    "def convert_to_nm(value):\n",
    "    if pd.isna(value):\n",
    "        return None\n",
    "    value = str(value).strip().lower()\n",
    "    \n",
    "    if 'kgm' in value:\n",
    "        return float(value.replace('kgm', '').strip()) * 9.81\n",
    "    \n",
    "    if 'bhp' in value:\n",
    "        # Assuming RPM is provided (we use 4000 RPM as a default example)\n",
    "        rpm = 4000  # You can adjust this based on your data\n",
    "        return (float(value.replace('bhp', '').strip()) * 745.7) / rpm"
   ]
  }
 ],
 "metadata": {
  "kernelspec": {
   "display_name": "venv",
   "language": "python",
   "name": "python3"
  },
  "language_info": {
   "codemirror_mode": {
    "name": "ipython",
    "version": 3
   },
   "file_extension": ".py",
   "mimetype": "text/x-python",
   "name": "python",
   "nbconvert_exporter": "python",
   "pygments_lexer": "ipython3",
   "version": "3.10.6"
  }
 },
 "nbformat": 4,
 "nbformat_minor": 2
}
