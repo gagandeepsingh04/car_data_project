{
 "cells": [
  {
   "cell_type": "code",
   "execution_count": 2,
   "metadata": {},
   "outputs": [],
   "source": [
    "import pandas as pd \n",
    "import numpy as np \n",
    "import seaborn as sns\n",
    "import matplotlib.pyplot as plt "
   ]
  },
  {
   "cell_type": "code",
   "execution_count": 3,
   "metadata": {},
   "outputs": [],
   "source": [
    "df=pd.read_csv('partially_cleaned_data.csv')"
   ]
  },
  {
   "cell_type": "code",
   "execution_count": 4,
   "metadata": {},
   "outputs": [],
   "source": [
    "def fillna_mean(df,column_name):\n",
    "    df[column_name]=df[column_name].astype(float)\n",
    "    mean_value=df[column_name].mean().round(1)\n",
    "    df[column_name]=df[column_name].fillna(mean_value)\n",
    "        \n",
    "def fillna_mode(df,column_name):\n",
    "    df[column_name]=df[column_name].astype(str)\n",
    "    most_frequent_value=df[column_name].mode()[0]\n",
    "    df[column_name]=df[column_name].replace('nan',most_frequent_value).replace('None',most_frequent_value)\n",
    "    df[column_name] = df[column_name].fillna(most_frequent_value) \n",
    "    \n",
    "def fillna_others(df,column_name):\n",
    "    df[column_name]=df[column_name].astype(str)\n",
    "    df[column_name]=df[column_name].replace('nan','others')\n",
    "    df[column_name] = df[column_name].fillna('others')\n",
    "    \n",
    "def fillna_No(df,column_name):\n",
    "    df[column_name] = df[column_name].fillna('No')"
   ]
  },
  {
   "cell_type": "code",
   "execution_count": 5,
   "metadata": {},
   "outputs": [
    {
     "data": {
      "text/plain": [
       "array(['Yes', 'No'], dtype=object)"
      ]
     },
     "execution_count": 5,
     "metadata": {},
     "output_type": "execute_result"
    }
   ],
   "source": [
    "df['Bluetooth']=df['Bluetooth'].fillna('No')\n",
    "df['Bluetooth'].unique()"
   ]
  },
  {
   "cell_type": "code",
   "execution_count": 6,
   "metadata": {},
   "outputs": [
    {
     "data": {
      "text/plain": [
       "0                    Internal\n",
       "1                    Internal\n",
       "2                    Internal\n",
       "3                    Internal\n",
       "4                    Internal\n",
       "                ...          \n",
       "1177    Internal, With Remote\n",
       "1178    With Remote, Internal\n",
       "1179    Internal, With Remote\n",
       "1180                 Internal\n",
       "1181                 Internal\n",
       "Name: Boot-lid_Opener, Length: 1182, dtype: object"
      ]
     },
     "execution_count": 6,
     "metadata": {},
     "output_type": "execute_result"
    }
   ],
   "source": [
    "df['Boot-lid_Opener']"
   ]
  },
  {
   "cell_type": "code",
   "execution_count": 7,
   "metadata": {},
   "outputs": [],
   "source": [
    "boot_lid_values = {\"Ignis\": \"Manual\",\"Rio\": \"Manual\",\"Nexon\": \"Remote/Manual\",\"Captur\": \"Manual\",\"Hector\": \"Powered/Automatic\",\"F-Type\": \"Powered/Automatic\"}\n",
    "df['Boot-lid_Opener'] = df.apply(lambda row: boot_lid_values.get(row['Model'], row['Boot-lid_Opener']) if pd.isnull(row['Boot-lid_Opener']) else row['Boot-lid_Opener'],axis=1)"
   ]
  },
  {
   "cell_type": "code",
   "execution_count": 8,
   "metadata": {},
   "outputs": [
    {
     "data": {
      "text/plain": [
       "array(['110 litres', '94 litres', '222 litres', '300 litres',\n",
       "       '400 litres', '250 litres', '177 litres', '265 litres',\n",
       "       '235 litres', nan, '242 litres', '240 litres', '260 litres',\n",
       "       '625 litres', '454 litres', '251 litres', '210 litres',\n",
       "       '407 litres', '320 litres', '316 litres', '285 litres',\n",
       "       '280 litres', '378 litres', '257 litres', '330 litres',\n",
       "       '592 litres', '339 litres', '354 litres', '438 litres',\n",
       "       '615 litres', '522 litres', '150 litres', '425 litres',\n",
       "       '460 litres', '278 litres', '215 litres', '432 litres',\n",
       "       '360 litres', '480 litres', '455 litres', '505 litres',\n",
       "       '520 litres', '560 litres', '550 litres', '650 litres',\n",
       "       '1025 litres', '465 litres', '515 litres', '500 litres',\n",
       "       '605 litres', '580 litres', '261 litres', '530 litres',\n",
       "       '133 litres', '616 litres', '358 litres', '430 litres',\n",
       "       '230 litres', '443 litres', '256 litres', '243 litres',\n",
       "       '268 litres', '345 litres', '419 litres', '390 litres',\n",
       "       '420 litres', '350 litres', '1702 litres', '328 litres',\n",
       "       '352 litres', '475 litres', '259 litres', '207 litres',\n",
       "       '759 litres', '494 litres', '223 litres', '600 litres',\n",
       "       '209 litres', '384 litres', '96 litres', '510 litres',\n",
       "       '128 litres', '470 litres', '540 litres', '324 litres',\n",
       "       '296 litres', '211 litres', '270 litres', '380 litres',\n",
       "       '495 litres', '1400 litres', '281 litres', '295 litres',\n",
       "       '909 litres', '1761 litres', '478 litres', '645 litres',\n",
       "       '745 litres', '770 litres', '621 litres', '535 litres',\n",
       "       '173 litres', '70 litres', '450 litres', '525 litres',\n",
       "       '490 litres',\n",
       "       '209(All3RowsUp).550(3rdRowFolded)&803(2ndRowand3rdRowFolded) litres',\n",
       "       '363 litres', '375 litres', '392 litres', '433 litres',\n",
       "       '981 litres', '586 litres', '326 litres', '368 litres',\n",
       "       '132 litres', '249 litres', '610 litres', '200.5 litres',\n",
       "       '310 litres', '341 litres', '412 litres', '54 litres',\n",
       "       '258 litres', '476 litres', '590 litres', '1050 litres'],\n",
       "      dtype=object)"
      ]
     },
     "execution_count": 8,
     "metadata": {},
     "output_type": "execute_result"
    }
   ],
   "source": [
    "df['Boot_Space'].unique()"
   ]
  },
  {
   "cell_type": "code",
   "execution_count": 9,
   "metadata": {},
   "outputs": [
    {
     "data": {
      "text/plain": [
       "array([ 110. ,   94. ,  222. ,  300. ,  400. ,  250. ,  177. ,  265. ,\n",
       "        235. ,  382.9,  242. ,  240. ,  260. ,  625. ,  454. ,  251. ,\n",
       "        210. ,  407. ,  320. ,  316. ,  285. ,  280. ,  378. ,  257. ,\n",
       "        330. ,  592. ,  339. ,  354. ,  438. ,  615. ,  522. ,  150. ,\n",
       "        425. ,  460. ,  278. ,  215. ,  432. ,  360. ,  480. ,  455. ,\n",
       "        505. ,  520. ,  560. ,  550. ,  650. , 1025. ,  465. ,  515. ,\n",
       "        500. ,  605. ,  580. ,  261. ,  530. ,  133. ,  616. ,  358. ,\n",
       "        430. ,  230. ,  443. ,  256. ,  243. ,  268. ,  345. ,  419. ,\n",
       "        390. ,  420. ,  350. , 1702. ,  328. ,  352. ,  475. ,  259. ,\n",
       "        207. ,  759. ,  494. ,  223. ,  600. ,  209. ,  384. ,   96. ,\n",
       "        510. ,  128. ,  470. ,  540. ,  324. ,  296. ,  211. ,  270. ,\n",
       "        380. ,  495. , 1400. ,  281. ,  295. ,  909. , 1761. ,  478. ,\n",
       "        645. ,  745. ,  770. ,  621. ,  535. ,  173. ,   70. ,  450. ,\n",
       "        525. ,  490. ,  363. ,  375. ,  392. ,  433. ,  981. ,  586. ,\n",
       "        326. ,  368. ,  132. ,  249. ,  610. ,  200.5,  310. ,  341. ,\n",
       "        412. ,   54. ,  258. ,  476. ,  590. , 1050. ])"
      ]
     },
     "execution_count": 9,
     "metadata": {},
     "output_type": "execute_result"
    }
   ],
   "source": [
    "df['Boot_Space']=df['Boot_Space'].apply(lambda x:str(x).split(' ')[0].split('(')[0] if x!=None else None)\n",
    "fillna_mean(df,'Boot_Space')\n",
    "df['Boot_Space'].unique()"
   ]
  },
  {
   "cell_type": "code",
   "execution_count": 10,
   "metadata": {},
   "outputs": [
    {
     "data": {
      "text/plain": [
       "array(['Yes', 'No'], dtype=object)"
      ]
     },
     "execution_count": 10,
     "metadata": {},
     "output_type": "execute_result"
    }
   ],
   "source": [
    "df['CD_/_MP3_/_DVD_Player']=df['CD_/_MP3_/_DVD_Player'].fillna('No')\n",
    "df['CD_/_MP3_/_DVD_Player'].unique()"
   ]
  },
  {
   "cell_type": "code",
   "execution_count": 11,
   "metadata": {},
   "outputs": [
    {
     "data": {
      "text/plain": [
       "array(['Yes', 'No'], dtype=object)"
      ]
     },
     "execution_count": 11,
     "metadata": {},
     "output_type": "execute_result"
    }
   ],
   "source": [
    "df['Central_Locking']=df['Central_Locking'].fillna('No')\n",
    "df['Central_Locking'].unique()"
   ]
  },
  {
   "cell_type": "code",
   "execution_count": 12,
   "metadata": {},
   "outputs": [
    {
     "data": {
      "text/plain": [
       "array(['Yes', 'No'], dtype=object)"
      ]
     },
     "execution_count": 12,
     "metadata": {},
     "output_type": "execute_result"
    }
   ],
   "source": [
    "df['Child_Safety_Locks']=df['Child_Safety_Locks'].fillna('No')\n",
    "df['Child_Safety_Locks'].unique()"
   ]
  },
  {
   "cell_type": "code",
   "execution_count": 13,
   "metadata": {},
   "outputs": [
    {
     "data": {
      "text/plain": [
       "array(['Digital', 'No', 'Analog', 'Yes', 'Digital, Analog'], dtype=object)"
      ]
     },
     "execution_count": 13,
     "metadata": {},
     "output_type": "execute_result"
    }
   ],
   "source": [
    "df['Clock']=df['Clock'].fillna('No')\n",
    "df['Clock'].unique()"
   ]
  },
  {
   "cell_type": "code",
   "execution_count": 14,
   "metadata": {},
   "outputs": [
    {
     "data": {
      "text/plain": [
       "array(['Front', 'Not Provided', 'Front & Rear', 'Yes', 'Not Known',\n",
       "       'Front & Rear, Centre', 'Centre, Front & Rear', 'Centre',\n",
       "       'Not Provided, Front & Rear'], dtype=object)"
      ]
     },
     "execution_count": 14,
     "metadata": {},
     "output_type": "execute_result"
    }
   ],
   "source": [
    "df['Cup_Holders']=df['Cup_Holders'].apply(lambda x:str(x).replace('Not on offer','Not Provided').replace('Not on offer, Front & Rear','Front & Rear').replace('nan','Not Known') if x!=None else None)\n",
    "df['Cup_Holders']=df['Cup_Holders'].fillna('Not Known')\n",
    "df['Cup_Holders'].unique()"
   ]
  },
  {
   "cell_type": "code",
   "execution_count": 15,
   "metadata": {},
   "outputs": [
    {
     "data": {
      "text/plain": [
       "array(['Yes', 'No'], dtype=object)"
      ]
     },
     "execution_count": 15,
     "metadata": {},
     "output_type": "execute_result"
    }
   ],
   "source": [
    "df['Distance_to_Empty']=df['Distance_to_Empty'].fillna('No')\n",
    "df['Distance_to_Empty'].unique()"
   ]
  },
  {
   "cell_type": "code",
   "execution_count": 16,
   "metadata": {},
   "outputs": [
    {
     "data": {
      "text/plain": [
       "array(['Front', 'No', 'Yes', 'Front & Rear', 'Front, Front & Rear'],\n",
       "      dtype=object)"
      ]
     },
     "execution_count": 16,
     "metadata": {},
     "output_type": "execute_result"
    }
   ],
   "source": [
    "df['Door_Pockets']=df['Door_Pockets'].fillna('No')\n",
    "df['Door_Pockets'].unique()"
   ]
  },
  {
   "cell_type": "code",
   "execution_count": 17,
   "metadata": {},
   "outputs": [
    {
     "data": {
      "text/plain": [
       "array(['Yes', 'No'], dtype=object)"
      ]
     },
     "execution_count": 17,
     "metadata": {},
     "output_type": "execute_result"
    }
   ],
   "source": [
    "df['Engine_Malfunction_Light']=df['Engine_Malfunction_Light'].fillna('No')\n",
    "df['Engine_Malfunction_Light'].unique()"
   ]
  },
  {
   "cell_type": "code",
   "execution_count": 18,
   "metadata": {},
   "outputs": [
    {
     "data": {
      "text/plain": [
       "array(['2 years /150000 Kms (years/distance whichever comes first)',\n",
       "       '2 Years/Unlimited Kms (Whichever comes earlier)', nan,\n",
       "       '3rd/4th year/up to 80,000 Kms (whichever comes first)',\n",
       "       '2 years + 1 year (3rd year extended warranty up to 75,000km) or 2 years + 2 years (3rd and 4th year extended warranty up to 1,00,000 kms).',\n",
       "       '2 years / 80000 Kms (years/distance whichever comes first)',\n",
       "       '3 years /150000 Kms (years/distance whichever comes first)',\n",
       "       '3rd /4th Years / up to 1,00,000 Kms (Whichever comes earlier)',\n",
       "       '3rd /4th Years / up to80,000 Kms (Whichever comes earlier)',\n",
       "       '2 years / 100,000 kms (whichever occurs first)',\n",
       "       '2 years /100000 Kms (years/distance whichever comes first)',\n",
       "       '3rd Year / up to 75000km from the date of delivery (whichever comes first)',\n",
       "       '2 Years /150000 Kms (Whichever comes earlier)',\n",
       "       '1 years /20000 Kms (years/distance whichever comes first)',\n",
       "       '3rd/4th year( regardless of its mileage)',\n",
       "       '3 Years /100000 Kms (Whichever comes earlier)',\n",
       "       '12/24 months/ up to100000 Kms (years/distance whichever comes first)',\n",
       "       '12/24 months /up to 2,00,000 Kms (whichever comes first)',\n",
       "       '1 years /Unlimited Kms (years/distance whichever comes first)',\n",
       "       '12/24 months/ up to90000 Kms (years/distance whichever comes first)',\n",
       "       'Up to 5 Year /', '3 years/1 lakh kms (whichever is earlier)',\n",
       "       '1 years /30000 Kms (years/distance whichever comes first)',\n",
       "       '3 Years/Unlimited km Warranty*', '1 Year /Unlimited KMs',\n",
       "       '4 years /100000 Kms (years/distance whichever comes first)',\n",
       "       '3rd Year / up to 100000km from the date of delivery (whichever comes first)',\n",
       "       '4th years /1,20,000 Kms (years/distance whichever comes first)',\n",
       "       '12/24 months /2,00,000 Kms (Whichever comes earlier)',\n",
       "       '2 Years Unlimited Kilometres',\n",
       "       '3rd years / up to 75000 Kms (years/distance whichever comes first)',\n",
       "       '3 Years Unlimited Kilometres',\n",
       "       '4 years /150000 Kms (years/distance whichever comes first)',\n",
       "       '12 /24 months and can be renewed or extended for a further period',\n",
       "       '3 year /100000 Kilometres',\n",
       "       '1 years /20000Kms (years/distance whichever comes first)'],\n",
       "      dtype=object)"
      ]
     },
     "execution_count": 18,
     "metadata": {},
     "output_type": "execute_result"
    }
   ],
   "source": [
    "df['Extended_Warranty'].unique()"
   ]
  },
  {
   "cell_type": "code",
   "execution_count": 19,
   "metadata": {},
   "outputs": [],
   "source": [
    "def clean_extended_warranty(value):\n",
    "    if pd.isnull(value):\n",
    "        return np.nan\n",
    "\n",
    "    # Normalize spacing and capitalization\n",
    "    value = value.strip().lower()\n",
    "\n",
    "    # Replace inconsistent units and spacing\n",
    "    value = value.replace('kms', 'km').replace('kms.', 'km').replace('kms,', 'km')\n",
    "    value = value.replace('year', 'year').replace('years', 'year')\n",
    "    value = value.replace(' /', '/').replace('/ ', '/')\n",
    "    value = value.replace('up to', '').replace('whichever comes first', '').replace('whichever comes earlier', '')\n",
    "\n",
    "    # Remove extra spaces and standardize format\n",
    "    value = \" \".join(value.split())\n",
    "\n",
    "    # Handle cases without km or year explicitly mentioned\n",
    "    if 'year' in value and 'km' not in value:\n",
    "        value += ' unlimited km'\n",
    "    elif 'km' in value and 'year' not in value:\n",
    "        value = 'unknown year ' + value\n",
    "\n",
    "    return value"
   ]
  },
  {
   "cell_type": "code",
   "execution_count": 20,
   "metadata": {},
   "outputs": [],
   "source": [
    "def convert_to_numerical(value):\n",
    "    if pd.isnull(value):\n",
    "        return np.nan\n",
    "\n",
    "    value = value.lower()\n",
    "    \n",
    "    # Extract numerical values for years and km\n",
    "    years = 0\n",
    "    km = 0\n",
    "\n",
    "    if 'year' in value:\n",
    "        try:\n",
    "            years = int(value.split('year')[0].strip().split()[-1])\n",
    "        except (ValueError, IndexError):\n",
    "            years = 0\n",
    "\n",
    "    if 'km' in value:\n",
    "        try:\n",
    "            km_part = value.split('km')[0].strip().split()[-1]\n",
    "            km = int(km_part.replace(',', '').replace('lakh', '00000').replace('unlimited', '999999'))\n",
    "        except (ValueError, IndexError):\n",
    "            km = 0\n",
    "\n",
    "    return years, km"
   ]
  },
  {
   "cell_type": "code",
   "execution_count": 21,
   "metadata": {},
   "outputs": [],
   "source": [
    "df['Extended_Warranty_Cleaned'] = df['Extended_Warranty'].apply(clean_extended_warranty)\n",
    "df[['Warranty_Years', 'Warranty_KMs']] = df['Extended_Warranty_Cleaned'].apply(lambda x: pd.Series(convert_to_numerical(x)))\n"
   ]
  },
  {
   "cell_type": "code",
   "execution_count": 22,
   "metadata": {},
   "outputs": [],
   "source": [
    "fillna_mean(df,'Warranty_Years')\n",
    "fillna_mean(df,'Warranty_Years')"
   ]
  },
  {
   "cell_type": "code",
   "execution_count": 23,
   "metadata": {},
   "outputs": [],
   "source": [
    "df=df.drop(columns='Extended_Warranty')"
   ]
  },
  {
   "cell_type": "code",
   "execution_count": 24,
   "metadata": {},
   "outputs": [
    {
     "data": {
      "text/plain": [
       "array(['Yes', 'No'], dtype=object)"
      ]
     },
     "execution_count": 24,
     "metadata": {},
     "output_type": "execute_result"
    }
   ],
   "source": [
    "df['FM_Radio']=df['FM_Radio'].fillna('No')\n",
    "df['FM_Radio'].unique()"
   ]
  },
  {
   "cell_type": "code",
   "execution_count": 25,
   "metadata": {},
   "outputs": [
    {
     "data": {
      "text/plain": [
       "array(['Internal', 'Manual', 'With Remote, Internal',\n",
       "       'Internal, With Remote', 'With Remote', 'With Remote, Manual',\n",
       "       'Push to Open', 'Internal, Manual', 'Push to Open, Internal',\n",
       "       'With Remote, Push to Open', 'With Remote, Push to Open, Internal',\n",
       "       'Manual, Internal'], dtype=object)"
      ]
     },
     "execution_count": 25,
     "metadata": {},
     "output_type": "execute_result"
    }
   ],
   "source": [
    "fillna_mode(df,'Fuel-lid_Opener')\n",
    "df['Fuel-lid_Opener'].unique()"
   ]
  },
  {
   "cell_type": "code",
   "execution_count": 26,
   "metadata": {},
   "outputs": [
    {
     "data": {
      "text/plain": [
       "array(['Digital', 'Yes', 'Analog', 'Digital, Analog', 'Analog, Digital'],\n",
       "      dtype=object)"
      ]
     },
     "execution_count": 26,
     "metadata": {},
     "output_type": "execute_result"
    }
   ],
   "source": [
    "fillna_mode(df,'Fuel_Gauge')\n",
    "df['Fuel_Gauge'].unique()"
   ]
  },
  {
   "cell_type": "code",
   "execution_count": 27,
   "metadata": {},
   "outputs": [
    {
     "data": {
      "text/plain": [
       "array(['Manual', 'Automatic'], dtype=object)"
      ]
     },
     "execution_count": 27,
     "metadata": {},
     "output_type": "execute_result"
    }
   ],
   "source": [
    "fillna_mode(df,'Handbrake')\n",
    "df['Handbrake'].unique()"
   ]
  },
  {
   "cell_type": "code",
   "execution_count": 28,
   "metadata": {},
   "outputs": [
    {
     "data": {
      "text/plain": [
       "array(['Analog + Digital', 'Digital', 'Analog'], dtype=object)"
      ]
     },
     "execution_count": 28,
     "metadata": {},
     "output_type": "execute_result"
    }
   ],
   "source": [
    "fillna_mode(df,'Instrument_Console')\n",
    "df['Instrument_Console'].unique()"
   ]
  },
  {
   "cell_type": "code",
   "execution_count": 29,
   "metadata": {},
   "outputs": [
    {
     "data": {
      "text/plain": [
       "array(['Yes', 'No'], dtype=object)"
      ]
     },
     "execution_count": 29,
     "metadata": {},
     "output_type": "execute_result"
    }
   ],
   "source": [
    "df['Low_Fuel_Warning']=df['Low_Fuel_Warning'].fillna('No')\n",
    "df['Low_Fuel_Warning'].unique()"
   ]
  },
  {
   "cell_type": "code",
   "execution_count": 30,
   "metadata": {},
   "outputs": [
    {
     "data": {
      "text/plain": [
       "array([ 4.  ,  4.7 ,  5.5 ,  4.5 ,  4.6 ,  4.9 ,  4.8 ,  4.65,  5.1 ,\n",
       "        5.2 ,  4.97,  5.  ,  5.25,  6.2 ,  5.75,  5.4 , 11.1 ,  6.  ,\n",
       "        5.9 ,  5.7 , 11.22, 11.61,  5.95, 11.6 ,  5.8 ,  7.5 ,  6.35,\n",
       "       10.7 , 11.8 ,  5.3 ,  5.6 ,  5.05,  5.55,  6.25,  5.65,  5.35,\n",
       "       11.7 , 10.8 ,  6.1 ,  6.3 , 12.1 , 11.9 ,  4.1 ,  5.85,  5.45,\n",
       "       11.87, 11.4 , 10.66,  5.33])"
      ]
     },
     "execution_count": 30,
     "metadata": {},
     "output_type": "execute_result"
    }
   ],
   "source": [
    "df['Minimum_Turning_Radius']=df['Minimum_Turning_Radius'].apply(lambda x:str(x).replace('meter','').strip().replace('6750','nan') if x!=None else None)\n",
    "df['Minimum_Turning_Radius']=df['Minimum_Turning_Radius'].astype(float)\n",
    "fillna_mean(df,'Minimum_Turning_Radius')\n",
    "df['Minimum_Turning_Radius'].unique()"
   ]
  },
  {
   "cell_type": "code",
   "execution_count": 31,
   "metadata": {},
   "outputs": [
    {
     "data": {
      "text/plain": [
       "array(['Yes', 'No'], dtype=object)"
      ]
     },
     "execution_count": 31,
     "metadata": {},
     "output_type": "execute_result"
    }
   ],
   "source": [
    "df['Multifunction_Display']=df['Multifunction_Display'].fillna('No')\n",
    "df['Multifunction_Display'].unique()"
   ]
  },
  {
   "cell_type": "code",
   "execution_count": 32,
   "metadata": {},
   "outputs": [
    {
     "data": {
      "text/plain": [
       "array(['Driver & Front Passenger', 'Co-Driver Only', 'Driver Only'],\n",
       "      dtype=object)"
      ]
     },
     "execution_count": 32,
     "metadata": {},
     "output_type": "execute_result"
    }
   ],
   "source": [
    "fillna_mode(df,'Sun_Visor')\n",
    "df['Sun_Visor'].unique()"
   ]
  },
  {
   "cell_type": "code",
   "execution_count": 33,
   "metadata": {},
   "outputs": [
    {
     "data": {
      "text/plain": [
       "array(['Not Applicable', 'No', 'Yes'], dtype=object)"
      ]
     },
     "execution_count": 33,
     "metadata": {},
     "output_type": "execute_result"
    }
   ],
   "source": [
    "df['Third_Row_AC_Vents']=df['Third_Row_AC_Vents'].fillna('No')\n",
    "df['Third_Row_AC_Vents'].unique()"
   ]
  },
  {
   "cell_type": "code",
   "execution_count": 34,
   "metadata": {},
   "outputs": [],
   "source": [
    "df['Ventilation_System'] = df['Ventilation_System'].fillna('Unknown')\n",
    "df['Ventilation_System'] = df['Ventilation_System'].str.lower().str.strip()"
   ]
  },
  {
   "cell_type": "code",
   "execution_count": 35,
   "metadata": {},
   "outputs": [],
   "source": [
    "standard_terms = {\n",
    "    \"manual air conditioning with cooling and heating\": \"manual ac with cooling and heating\",\n",
    "    \"air conditioning with cooling only\": \"ac with cooling only\",\n",
    "    \"fully automatic climate control\": \"automatic climate control\",\n",
    "    \"heater\": \"heater\",\n",
    "    \"2 zone climate control\": \"2-zone climate control\",\n",
    "    \"3 zone climate control\": \"3-zone climate control\",\n",
    "    \"4 zone climate control\": \"4-zone climate control\"}\n",
    "\n",
    "df['Ventilation_System'] = df['Ventilation_System'].replace(standard_terms)"
   ]
  },
  {
   "cell_type": "code",
   "execution_count": 36,
   "metadata": {},
   "outputs": [
    {
     "data": {
      "text/plain": [
       "array(['manual ac with cooling and heating', 'unknown',\n",
       "       'ac with cooling only', 'yes', 'heater',\n",
       "       'heater, manual ac with cooling and heating',\n",
       "       'automatic climate control', 'automatic climate control, heater',\n",
       "       'automatic climate control, manual ac with cooling and heating',\n",
       "       '2-zone climate control', '3-zone climate control',\n",
       "       '4-zone climate control',\n",
       "       '4-zone climate control, automatic climate control',\n",
       "       '2-zone climate control, automatic climate control',\n",
       "       '3-zone climate control, automatic climate control'], dtype=object)"
      ]
     },
     "execution_count": 36,
     "metadata": {},
     "output_type": "execute_result"
    }
   ],
   "source": [
    "def standardize_features(features):\n",
    "    feature_list = [standard_terms.get(f.strip(), f.strip()) for f in features.split(',')]\n",
    "    return ', '.join(sorted(set(feature_list)))  # Sort for consistency\n",
    "\n",
    "df['Ventilation_System'] = df['Ventilation_System'].apply(lambda x: standardize_features(x) if ',' in x else x)\n",
    "df['Ventilation_System'].unique()"
   ]
  },
  {
   "cell_type": "code",
   "execution_count": 37,
   "metadata": {},
   "outputs": [
    {
     "data": {
      "text/plain": [
       "array(['No', 'Yes'], dtype=object)"
      ]
     },
     "execution_count": 37,
     "metadata": {},
     "output_type": "execute_result"
    }
   ],
   "source": [
    "fillna_No(df,'Auto-Dimming_Rear-View_Mirror')\n",
    "df['Auto-Dimming_Rear-View_Mirror'].unique()"
   ]
  },
  {
   "cell_type": "code",
   "execution_count": 38,
   "metadata": {},
   "outputs": [
    {
     "data": {
      "text/plain": [
       "array(['No', 'Yes'], dtype=object)"
      ]
     },
     "execution_count": 38,
     "metadata": {},
     "output_type": "execute_result"
    }
   ],
   "source": [
    "fillna_No(df,'Hill_Assist')\n",
    "df['Hill_Assist'].unique()"
   ]
  },
  {
   "cell_type": "code",
   "execution_count": 39,
   "metadata": {},
   "outputs": [
    {
     "data": {
      "text/plain": [
       "array(['No', 'Yes'], dtype=object)"
      ]
     },
     "execution_count": 39,
     "metadata": {},
     "output_type": "execute_result"
    }
   ],
   "source": [
    "fillna_No(df,'Gear_Indicator')\n",
    "df['Gear_Indicator'].unique()"
   ]
  },
  {
   "cell_type": "code",
   "execution_count": 40,
   "metadata": {},
   "outputs": [
    {
     "data": {
      "text/plain": [
       "array(['No', 'Yes'], dtype=object)"
      ]
     },
     "execution_count": 40,
     "metadata": {},
     "output_type": "execute_result"
    }
   ],
   "source": [
    "fillna_No(df,'3_Point_Seat-Belt_in_Middle_Rear_Seat')\n",
    "df['3_Point_Seat-Belt_in_Middle_Rear_Seat'].unique()"
   ]
  },
  {
   "cell_type": "code",
   "execution_count": 41,
   "metadata": {},
   "outputs": [
    {
     "data": {
      "text/plain": [
       "array(['No', 'Yes'], dtype=object)"
      ]
     },
     "execution_count": 41,
     "metadata": {},
     "output_type": "execute_result"
    }
   ],
   "source": [
    "fillna_No(df,'Ambient_Lightning')\n",
    "df['Ambient_Lightning'].unique()"
   ]
  },
  {
   "cell_type": "code",
   "execution_count": 42,
   "metadata": {},
   "outputs": [
    {
     "data": {
      "text/plain": [
       "array(['No', 'Yes'], dtype=object)"
      ]
     },
     "execution_count": 42,
     "metadata": {},
     "output_type": "execute_result"
    }
   ],
   "source": [
    "fillna_No(df,'Cargo/Boot_Lights')\n",
    "df['Cargo/Boot_Lights'].unique()"
   ]
  },
  {
   "cell_type": "code",
   "execution_count": 43,
   "metadata": {},
   "outputs": [
    {
     "data": {
      "text/plain": [
       "array(['unknown', 'normal', 'normal, eco, sport', 'sport',\n",
       "       'comfort, eco, sport', 'normal, comfort, eco, sport', 'eco, sport',\n",
       "       'comfort, eco, sport, normal',\n",
       "       'normal, comfort, eco, sport, power mode',\n",
       "       'normal, comfort, sport', 'normal, sport', 'normal, eco', 'eco',\n",
       "       'eco, sport, normal, comfort'], dtype=object)"
      ]
     },
     "execution_count": 43,
     "metadata": {},
     "output_type": "execute_result"
    }
   ],
   "source": [
    "df['Drive_Modes'] = df['Drive_Modes'].fillna('Unknown')\n",
    "df['Drive_Modes'] = df['Drive_Modes'].str.lower().str.strip()\n",
    "df['Drive_Modes'].unique()"
   ]
  },
  {
   "cell_type": "code",
   "execution_count": 44,
   "metadata": {},
   "outputs": [],
   "source": [
    "fillna_No(df,'Engine_Immobilizer')\n",
    "fillna_No(df,'High_Speed_Alert_System')\n",
    "fillna_No(df,'Lane_Watch_Camera/_Side_Mirror_Camera')\n",
    "fillna_No(df,'Passenger_Side_Seat-Belt_Reminder')\n",
    "fillna_No(df,'Seat_Back_Pockets')\n",
    "fillna_No(df,'Voice_Recognition')"
   ]
  },
  {
   "cell_type": "code",
   "execution_count": 45,
   "metadata": {},
   "outputs": [],
   "source": [
    "features_of_cars=['Walk_Away_Auto_Car_Lock','ABS_(Anti-lock_Braking_System)','Headlight_Reminder','Adjustable_Headrests','Gross_Vehicle_Weight',]\n",
    "for i in features_of_cars:\n",
    "    fillna_No(df,i)"
   ]
  },
  {
   "cell_type": "code",
   "execution_count": 46,
   "metadata": {},
   "outputs": [
    {
     "data": {
      "text/plain": [
       "array([nan, 'Driver frontal airbag',\n",
       "       'Driver frontal airbag, Front passenger frontal airbag',\n",
       "       'Front passenger frontal airbag, Driver frontal airbag',\n",
       "       'Drive side airbag, Driver frontal airbag, Front passenger frontal airbag, Front passenger side airbag',\n",
       "       'Drive side airbag, Front passenger curtain airbag, Driver curtain airbag, Driver frontal airbag, Front passenger frontal airbag, Front passenger side airbag',\n",
       "       'Driver frontal airbag, Front passenger frontal airbag, Drive side airbag, Front passenger side airbag, Front passenger curtain airbag, Driver curtain airbag',\n",
       "       'Driver frontal airbag, Front passenger frontal airbag, Front passenger side airbag, Drive side airbag, Curtain airbags',\n",
       "       'Driver frontal airbag, Drive side airbag, Front passenger frontal airbag, Curtain airbags, Front passenger side airbag',\n",
       "       'Curtain airbags, Driver frontal airbag, Front passenger frontal airbag, Front passenger side airbag, Drive side airbag',\n",
       "       'Driver curtain airbag, Curtain airbags, Driver frontal airbag, Front passenger frontal airbag',\n",
       "       'Drive side airbag, Driver curtain airbag, Curtain airbags, Driver frontal airbag, Front passenger frontal airbag, Front passenger side airbag',\n",
       "       'Front passenger curtain airbag, Driver curtain airbag, Rear passenger curtain airbags, Driver frontal airbag, Front passenger frontal airbag, Front passenger side airbag, Rear passenger side airbags, Driver knee airbag, Drive side airbag',\n",
       "       'Drive side airbag, Driver frontal airbag, Front passenger curtain airbag, Driver curtain airbag, Curtain airbags, Front passenger head airbag',\n",
       "       'Front passenger head airbag, Drive side airbag, Front passenger curtain airbag, Driver curtain airbag, Curtain airbags, Driver frontal airbag',\n",
       "       'Driver frontal airbag, Front passenger frontal airbag, Front passenger side airbag, Drive side airbag, Driver curtain airbag, Rear passenger center airbag, Curtain airbags',\n",
       "       'Driver frontal airbag, Front passenger frontal airbag, Front passenger side airbag, Drive side airbag, Driver curtain airbag, Rear passenger curtain airbags, Curtain airbags',\n",
       "       'Curtain airbags, Driver frontal airbag, Front passenger frontal airbag, Front passenger side airbag, Drive side airbag, Driver curtain airbag, Rear passenger center airbag',\n",
       "       'Drive side airbag, Driver frontal airbag, Curtain airbags, Front passenger frontal airbag, Front passenger side airbag, Rear passenger side airbags',\n",
       "       'Curtain airbags, Driver frontal airbag, Front passenger frontal airbag, Front passenger side airbag, Rear passenger side airbags, Drive side airbag',\n",
       "       'Driver frontal airbag, Front passenger frontal airbag, Front passenger side airbag, Driver knee airbag, Driver head airbag, Front passenger head airbag, Drive side airbag, Rear passenger head airbags',\n",
       "       'Driver frontal airbag, Front passenger frontal airbag, Driver head airbag, Front passenger head airbag, Front passenger side airbag, Drive side airbag, Driver knee airbag, Rear passenger head airbags',\n",
       "       'Drive side airbag, Driver frontal airbag, Front passenger frontal airbag, Front passenger side airbag, Curtain airbags, Rear passenger side airbags',\n",
       "       'Driver head airbag, Drive side airbag, Driver frontal airbag, Front passenger frontal airbag, Front passenger side airbag, Rear passenger side airbags, Curtain airbags',\n",
       "       'Driver frontal airbag, Curtain airbags, Front passenger frontal airbag, Front passenger side airbag, Drive side airbag',\n",
       "       'Driver frontal airbag, Front passenger frontal airbag, Front passenger side airbag, Curtain airbags, Drive side airbag',\n",
       "       'Drive side airbag, Driver frontal airbag, Front passenger frontal airbag, Front passenger side airbag, Rear passenger side airbags',\n",
       "       'Drive side airbag, Driver curtain airbag, Rear passenger curtain airbags, Driver frontal airbag, Front passenger frontal airbag, Front passenger side airbag, Rear passenger side airbags',\n",
       "       'Driver frontal airbag, Front passenger frontal airbag, Front passenger side airbag, Rear passenger side airbags, Drive side airbag, Front passenger curtain airbag, Driver curtain airbag',\n",
       "       'Drive side airbag, Driver frontal airbag, Front passenger frontal airbag, Curtain airbags, Front passenger side airbag',\n",
       "       'Drive side airbag, Driver frontal airbag, Curtain airbags, Front passenger frontal airbag, Front passenger side airbag',\n",
       "       'Driver frontal airbag, Front passenger frontal airbag, Front passenger side airbag, Rear passenger side airbags, Curtain airbags',\n",
       "       'Curtain airbags, Driver frontal airbag, Front passenger frontal airbag, Front passenger side airbag, Rear passenger side airbags',\n",
       "       'Driver frontal airbag, Driver head airbag, Front passenger frontal airbag, Front passenger head airbag, Front passenger side airbag, Drive side airbag, Driver knee airbag',\n",
       "       'Rear passenger curtain airbags, Driver frontal airbag, Front passenger frontal airbag, Front passenger side airbag, Drive side airbag, Front passenger curtain airbag, Driver curtain airbag',\n",
       "       'Curtain airbags, Driver frontal airbag, Front passenger frontal airbag, Front passenger side airbag, Driver knee airbag, Drive side airbag',\n",
       "       'Curtain airbags, Driver frontal airbag, Front passenger frontal airbag, Front passenger curtain airbag, Driver curtain airbag, Rear passenger curtain airbags',\n",
       "       'Rear passenger side airbags, Driver head airbag, Front passenger head airbag, Drive side airbag, Rear passenger head airbags, Driver frontal airbag, Front passenger frontal airbag, Front passenger side airbag',\n",
       "       'Driver head airbag, Front passenger head airbag, Rear passenger head airbags, Curtain airbags, Driver frontal airbag, Front passenger frontal airbag',\n",
       "       'Driver head airbag, Front passenger head airbag, Rear passenger head airbags, Driver frontal airbag, Curtain airbags, Front passenger frontal airbag',\n",
       "       'Driver frontal airbag, Front passenger frontal airbag, Front passenger side airbag, Curtain airbags, Driver knee airbag, Drive side airbag, Driver curtain airbag',\n",
       "       'Driver frontal airbag, Front passenger frontal airbag, Front passenger side airbag, Drive side airbag',\n",
       "       'Driver frontal airbag, Front passenger frontal airbag, Front passenger side airbag, Rear passenger side airbags, Drive side airbag',\n",
       "       'Driver frontal airbag, Front passenger frontal airbag, Front passenger side airbag, Rear passenger side airbags',\n",
       "       'Front passenger knee airbag, Rear passenger head airbags, Driver frontal airbag, Front passenger frontal airbag, Front passenger side airbag, Driver knee airbag, Driver head airbag, Front passenger head airbag, Drive side airbag',\n",
       "       'Driver frontal airbag, Front passenger frontal airbag, Curtain airbags',\n",
       "       'Curtain airbags, Driver frontal airbag, Front passenger frontal airbag',\n",
       "       'Curtain airbags, Drive side airbag, Driver frontal airbag, Front passenger frontal airbag, Front passenger side airbag, Driver knee airbag',\n",
       "       'Drive side airbag, Front passenger curtain airbag, Driver curtain airbag, Rear passenger curtain airbags, Driver frontal airbag, Front passenger frontal airbag, Curtain airbags, Front passenger side airbag, Rear passenger side airbags, Driver knee airbag',\n",
       "       'Front passenger head airbag, Drive side airbag, Rear passenger head airbags, Driver frontal airbag, Front passenger frontal airbag, Front passenger side airbag',\n",
       "       'Driver head airbag, Front passenger head airbag, Drive side airbag, Rear passenger head airbags, Driver frontal airbag, Front passenger frontal airbag, Front passenger side airbag',\n",
       "       'Driver head airbag, Front passenger head airbag, Drive side airbag, Curtain airbags, Driver frontal airbag, Front passenger frontal airbag, Front passenger side airbag',\n",
       "       'Driver head airbag, Drive side airbag, Curtain airbags, Driver frontal airbag, Front passenger frontal airbag, Front passenger side airbag',\n",
       "       'Driver frontal airbag, Curtain airbags, Front passenger frontal airbag, Rear passenger side airbags, Driver knee airbag, Drive side airbag, Front passenger curtain airbag, Driver curtain airbag',\n",
       "       'Front passenger knee airbag, Driver frontal airbag, Front passenger frontal airbag, Front passenger side airbag, Rear passenger side airbags, Driver knee airbag',\n",
       "       'Drive side airbag, Front passenger curtain airbag, Driver curtain airbag, Rear passenger curtain airbags, Curtain airbags, Driver frontal airbag, Front passenger frontal airbag, Front passenger side airbag, Rear passenger side airbags, Driver knee airbag',\n",
       "       'Driver curtain airbag, Driver frontal airbag, Front passenger frontal airbag, Driver head airbag, Front passenger side airbag, Front passenger head airbag, Drive side airbag, Front passenger curtain airbag',\n",
       "       'Rear passenger side airbags, Driver head airbag, Front passenger head airbag, Drive side airbag, Rear passenger head airbags, Front passenger side airbag',\n",
       "       'Rear passenger side airbags, Curtain airbags, Driver frontal airbag, Front passenger frontal airbag, Front passenger side airbag',\n",
       "       'Rear passenger side airbags, Driver head airbag, Drive side airbag, Driver frontal airbag, Front passenger frontal airbag, Front passenger side airbag',\n",
       "       'Driver head airbag, Drive side airbag, Driver frontal airbag, Front passenger frontal airbag, Front passenger side airbag, Rear passenger side airbags',\n",
       "       'Curtain airbags, Driver frontal airbag, Front passenger frontal airbag, Drive side airbag, Front passenger curtain airbag, Driver curtain airbag',\n",
       "       'Driver frontal airbag, Front passenger frontal airbag, Driver knee airbag, Front passenger knee airbag, Curtain airbags',\n",
       "       'Curtain airbags, Driver frontal airbag, Front passenger frontal airbag, Drive side airbag, Front passenger side airbag',\n",
       "       'Front passenger frontal airbag, Front passenger side airbag, Drive side airbag, Curtain airbags, Driver frontal airbag',\n",
       "       'Driver frontal airbag, Front passenger frontal airbag, Drive side airbag, Front passenger side airbag, Curtain airbags',\n",
       "       'Driver frontal airbag, Front passenger frontal airbag, Drive side airbag',\n",
       "       'Driver frontal airbag, Drive side airbag',\n",
       "       'Driver frontal airbag, Front passenger frontal airbag, Driver knee airbag',\n",
       "       'Drive side airbag, Curtain airbags, Driver frontal airbag, Front passenger frontal airbag, Front passenger side airbag, Driver knee airbag',\n",
       "       'Drive side airbag, Driver frontal airbag, Front passenger frontal airbag, Curtain airbags, Front passenger side airbag, Driver knee airbag',\n",
       "       'Driver frontal airbag, Drive side airbag, Front passenger frontal airbag, Front passenger side airbag, Driver knee airbag, Curtain airbags',\n",
       "       'Drive side airbag, Driver frontal airbag, Front passenger frontal airbag, Front passenger side airbag, Driver knee airbag, Curtain airbags',\n",
       "       'Curtain airbags, Driver frontal airbag, Front passenger frontal airbag, Driver knee airbag, Drive side airbag',\n",
       "       'Driver frontal airbag, Front passenger frontal airbag, Drive side airbag, Front passenger side airbag',\n",
       "       'Curtain airbags, Driver frontal airbag, Front passenger frontal airbag, Driver knee airbag',\n",
       "       'Driver knee airbag, Driver frontal airbag, Front passenger frontal airbag',\n",
       "       'Driver frontal airbag, Front passenger curtain airbag, Front passenger frontal airbag, Driver curtain airbag',\n",
       "       'Drive side airbag, Driver frontal airbag, Front passenger frontal airbag, Curtain airbags, Front passenger side airbag, Rear passenger side airbags',\n",
       "       'Drive side airbag, Curtain airbags, Driver frontal airbag, Front passenger frontal airbag, Front passenger side airbag, Rear passenger side airbags',\n",
       "       'Driver frontal airbag, Drive side airbag, Front passenger frontal airbag, Front passenger curtain airbag, Front passenger side airbag, Driver curtain airbag, Rear passenger curtain airbags',\n",
       "       'Drive side airbag, Rear passenger head airbags, Driver frontal airbag, Front passenger frontal airbag, Curtain airbags, Driver head airbag',\n",
       "       'Front passenger frontal airbag, Front passenger side airbag, Rear passenger side airbags, Drive side airbag, Curtain airbags, Driver frontal airbag',\n",
       "       'Front passenger side airbag, Rear passenger side airbags, Curtain airbags, Driver frontal airbag, Drive side airbag, Front passenger frontal airbag',\n",
       "       'Curtain airbags, Driver frontal airbag, Front passenger frontal airbag, Rear passenger side airbags, Drive side airbag',\n",
       "       'Driver frontal airbag, Drive side airbag, Front passenger frontal airbag, Front passenger side airbag, Rear passenger side airbags, Curtain airbags',\n",
       "       'Drive side airbag, Driver frontal airbag, Curtain airbags, Front passenger frontal airbag, Front passenger side airbag, Driver knee airbag',\n",
       "       'Drive side airbag, Driver frontal airbag, Front passenger frontal airbag, Front passenger side airbag, Curtain airbags',\n",
       "       'Drive side airbag, Front passenger knee airbag, Rear passenger head airbags, Driver frontal airbag, Front passenger frontal airbag, Front passenger side airbag, Rear passenger side airbags, Driver knee airbag, Driver head airbag, Front passenger head airbag',\n",
       "       'Front passenger head airbag, Drive side airbag, Driver frontal airbag, Front passenger frontal airbag, Front passenger side airbag, Driver head airbag',\n",
       "       'Driver head airbag, Front passenger head airbag, Drive side airbag, Driver frontal airbag, Front passenger frontal airbag, Front passenger side airbag',\n",
       "       'Driver frontal airbag, Front passenger frontal airbag, Front passenger side airbag, Driver head airbag, Front passenger head airbag, Drive side airbag',\n",
       "       'Drive side airbag, Curtain airbags, Driver frontal airbag, Front passenger frontal airbag, Front passenger side airbag',\n",
       "       'Driver frontal airbag, Front passenger frontal airbag, Front passenger side airbag, Drive side airbag, Front passenger curtain airbag, Driver curtain airbag',\n",
       "       'Driver frontal airbag, Front passenger frontal airbag, Front passenger side airbag, Rear passenger side airbags, Curtain airbags, Drive side airbag',\n",
       "       'Rear passenger side airbags, Driver head airbag, Drive side airbag, Driver frontal airbag, Curtain airbags, Front passenger frontal airbag, Front passenger side airbag',\n",
       "       'Drive side airbag, Front passenger curtain airbag, Driver curtain airbag, Rear passenger curtain airbags, Driver frontal airbag, Front passenger frontal airbag',\n",
       "       'Rear passenger side airbags, Drive side airbag, Curtain airbags, Driver frontal airbag, Front passenger frontal airbag, Front passenger side airbag',\n",
       "       'Front passenger side airbag, Rear passenger side airbags, Curtain airbags, Driver frontal airbag, Front passenger frontal airbag',\n",
       "       'Rear passenger side airbags, Driver frontal airbag, Front passenger frontal airbag, Front passenger side airbag',\n",
       "       'Driver head airbag, Drive side airbag, Rear passenger head airbags, Driver frontal airbag, Front passenger frontal airbag, Front passenger side airbag, Rear passenger side airbags',\n",
       "       'Front passenger curtain airbag, Driver curtain airbag, Rear passenger curtain airbags, Driver frontal airbag, Front passenger frontal airbag, Driver knee airbag',\n",
       "       'Driver frontal airbag, Front passenger frontal airbag, Front passenger curtain airbag, Rear passenger head airbags',\n",
       "       'Curtain airbags, Driver frontal airbag, Front passenger frontal airbag, Drive side airbag, Rear passenger head airbags',\n",
       "       'Driver frontal airbag, Front passenger frontal airbag, Front passenger side airbag',\n",
       "       'Curtain airbags, Driver frontal airbag, Front passenger frontal airbag, Front passenger side airbag',\n",
       "       'Driver head airbag, Front passenger head airbag, Drive side airbag, Driver frontal airbag, Front passenger frontal airbag, Front passenger side airbag, Rear passenger side airbags',\n",
       "       'Driver head airbag, Front passenger head airbag, Drive side airbag, Front passenger pelvic airbag, Driver frontal airbag, Driver pelvic airbag, Front passenger frontal airbag, Front passenger side airbag',\n",
       "       'Driver head airbag, Front passenger head airbag, Drive side airbag, Front passenger pelvic airbag, Driver pelvic airbag, Driver frontal airbag, Front passenger frontal airbag, Front passenger side airbag',\n",
       "       'Driver frontal airbag, Front passenger frontal airbag, Front passenger side airbag, Curtain airbags',\n",
       "       'Driver frontal airbag, Curtain airbags, Front passenger frontal airbag, Front passenger side airbag',\n",
       "       'Driver frontal airbag, Front passenger frontal airbag, Front passenger side airbag, Driver knee airbag, Curtain airbags, Drive side airbag, Front passenger knee airbag',\n",
       "       'Driver frontal airbag, Driver head airbag, Front passenger frontal airbag, Front passenger head airbag, Front passenger side airbag, Drive side airbag, Rear passenger head airbags',\n",
       "       'Driver frontal airbag, Front passenger frontal airbag, Front passenger side airbag, Driver head airbag, Front passenger head airbag, Drive side airbag, Front passenger pelvic airbag, Driver pelvic airbag',\n",
       "       'Front passenger pelvic airbag, Driver pelvic airbag, Driver frontal airbag, Front passenger frontal airbag, Front passenger side airbag, Drive side airbag',\n",
       "       'Driver frontal airbag, Front passenger frontal airbag, Rear passenger side airbags, Drive side airbag',\n",
       "       'Drive side airbag, Front passenger frontal airbag, Front passenger side airbag, Driver frontal airbag',\n",
       "       'Curtain airbags, Driver frontal airbag, Drive side airbag, Front passenger frontal airbag, Front passenger side airbag',\n",
       "       'Driver frontal airbag, Drive side airbag, Front passenger frontal airbag, Front passenger side airbag',\n",
       "       'Yes',\n",
       "       'Driver frontal airbag, Curtain airbags, Front passenger frontal airbag',\n",
       "       'Driver curtain airbag, Driver frontal airbag, Front passenger frontal airbag, Front passenger side airbag, Drive side airbag, Front passenger curtain airbag',\n",
       "       'Curtain airbags, Drive side airbag, Driver frontal airbag, Front passenger frontal airbag, Front passenger side airbag',\n",
       "       'Front passenger side airbag, Curtain airbags, Driver frontal airbag, Front passenger frontal airbag, Drive side airbag',\n",
       "       'Front passenger frontal airbag, Drive side airbag, Front passenger side airbag, Curtain airbags, Driver frontal airbag',\n",
       "       'Front passenger side airbag, Curtain airbags, Drive side airbag, Driver frontal airbag, Front passenger frontal airbag',\n",
       "       'Curtain airbags, Driver frontal airbag, Front passenger frontal airbag, Front passenger side airbag, Rear passenger side airbags, Front passenger curtain airbag',\n",
       "       'Curtain airbags, Driver frontal airbag, Front passenger frontal airbag, Front passenger side airbag, Drive side airbag, Front passenger curtain airbag, Rear passenger curtain airbags',\n",
       "       'Front passenger frontal airbag, Rear passenger side airbags, Driver knee airbag, Curtain airbags, Driver frontal airbag',\n",
       "       'Front passenger frontal airbag, Front passenger side airbag, Rear passenger side airbags, Drive side airbag, Driver frontal airbag',\n",
       "       'Front passenger side airbag, Drive side airbag, Rear passenger side airbags, Driver frontal airbag, Front passenger frontal airbag',\n",
       "       'Front passenger frontal airbag, Front passenger side airbag, Rear passenger side airbags, Driver knee airbag, Curtain airbags, Driver frontal airbag',\n",
       "       'Driver frontal airbag, Front passenger frontal airbag, Front passenger side airbag, Rear passenger side airbags, Drive side airbag, Curtain airbags',\n",
       "       'Driver curtain airbag, Rear passenger curtain airbags, Curtain airbags, Driver frontal airbag, Front passenger frontal airbag, Front passenger side airbag, Driver knee airbag, Front passenger curtain airbag',\n",
       "       'Front passenger curtain airbag, Driver curtain airbag, Rear passenger curtain airbags, Curtain airbags, Driver frontal airbag, Front passenger frontal airbag, Front passenger side airbag, Driver knee airbag',\n",
       "       'Curtain airbags, Driver frontal airbag, Front passenger frontal airbag, Front passenger curtain airbag, Rear passenger curtain airbags',\n",
       "       'Curtain airbags, Driver frontal airbag, Front passenger curtain airbag, Front passenger frontal airbag, Rear passenger curtain airbags',\n",
       "       'Driver frontal airbag, Front passenger frontal airbag, Driver head airbag, Front passenger head airbag',\n",
       "       'Driver frontal airbag, Front passenger frontal airbag, Driver knee airbag, Driver head airbag, Front passenger head airbag, Front passenger knee airbag, Rear passenger head airbags',\n",
       "       'Driver frontal airbag, Front passenger frontal airbag, Front passenger side airbag, Driver knee airbag, Driver head airbag, Front passenger head airbag, Drive side airbag, Front passenger knee airbag, Rear passenger head airbags',\n",
       "       'Driver head airbag, Driver frontal airbag, Front passenger head airbag, Front passenger frontal airbag, Drive side airbag, Front passenger side airbag, Front passenger knee airbag, Driver knee airbag, Rear passenger head airbags',\n",
       "       'Drive side airbag, Driver frontal airbag, Front passenger frontal airbag, Rear passenger side airbags',\n",
       "       'Driver frontal airbag, Front passenger frontal airbag, Rear passenger side airbags, Driver head airbag',\n",
       "       'Front passenger frontal airbag, Front passenger side airbag, Driver head airbag, Front passenger head airbag, Drive side airbag, Rear passenger head airbags, Driver frontal airbag',\n",
       "       'Driver frontal airbag, Front passenger side airbag',\n",
       "       'Driver frontal airbag, Drive side airbag, Front passenger frontal airbag, Front passenger side airbag, Curtain airbags',\n",
       "       'Driver frontal airbag, Front passenger frontal airbag, Front passenger head airbag, Drive side airbag, Front passenger curtain airbag, Driver curtain airbag',\n",
       "       'Driver frontal airbag, Front passenger frontal airbag, Drive side airbag, Front passenger side airbag, Rear passenger head airbags, Driver knee airbag, Rear passenger curtain airbags',\n",
       "       'Driver frontal airbag, Front passenger frontal airbag, Front passenger side airbag, Driver head airbag, Front passenger head airbag, Drive side airbag, Rear passenger head airbags',\n",
       "       'Drive side airbag, Driver frontal airbag, Front passenger frontal airbag, Front passenger side airbag, Rear passenger side airbags, Driver head airbag, Front passenger head airbag',\n",
       "       'Driver frontal airbag, Front passenger frontal airbag, Front passenger side airbag, Rear passenger side airbags, Driver head airbag, Front passenger head airbag, Drive side airbag',\n",
       "       'Driver head airbag, Drive side airbag, Rear passenger head airbags, Driver frontal airbag, Front passenger frontal airbag, Front passenger side airbag',\n",
       "       'Driver head airbag, Front passenger head airbag, Drive side airbag, Rear passenger head airbags, Driver frontal airbag, Front passenger frontal airbag',\n",
       "       'Driver frontal airbag, Front passenger frontal airbag, Front passenger side airbag, Rear passenger side airbags, Driver knee airbag',\n",
       "       'Driver head airbag, Drive side airbag, Front passenger curtain airbag, Driver curtain airbag, Rear passenger head airbags, Driver frontal airbag, Front passenger frontal airbag, Front passenger side airbag',\n",
       "       'Front passenger frontal airbag, Front passenger side airbag, Rear passenger side airbags, Curtain airbags, Driver frontal airbag',\n",
       "       'Front passenger side airbag, Curtain airbags, Rear passenger side airbags, Driver head airbag, Front passenger head airbag, Driver frontal airbag, Front passenger frontal airbag',\n",
       "       'Driver head airbag, Front passenger head airbag, Drive side airbag, Front passenger curtain airbag, Driver curtain airbag, Rear passenger head airbags, Driver frontal airbag, Front passenger frontal airbag, Front passenger side airbag',\n",
       "       'Drive side airbag, Front passenger curtain airbag, Driver curtain airbag, Rear passenger curtain airbags, Driver frontal airbag, Curtain airbags, Front passenger frontal airbag, Front passenger side airbag, Rear passenger side airbags, Driver knee airbag',\n",
       "       'Front passenger frontal airbag',\n",
       "       'Front passenger frontal airbag, Curtain airbags, Driver frontal airbag',\n",
       "       'Driver head airbag, Front passenger head airbag, Drive side airbag, Driver frontal airbag, Front passenger frontal airbag, Curtain airbags, Front passenger side airbag',\n",
       "       'Driver head airbag, Front passenger head airbag, Drive side airbag, Driver frontal airbag, Front passenger frontal airbag, Front passenger side airbag, Curtain airbags',\n",
       "       'Driver head airbag, Front passenger head airbag, Drive side airbag, Driver frontal airbag, Curtain airbags, Front passenger frontal airbag, Front passenger side airbag',\n",
       "       'Front passenger curtain airbag, Driver curtain airbag, Rear passenger curtain airbags, Driver frontal airbag, Curtain airbags, Front passenger frontal airbag, Front passenger side airbag, Rear passenger side airbags, Driver knee airbag, Drive side airbag',\n",
       "       'Front passenger curtain airbag, Driver curtain airbag, Rear passenger curtain airbags, Curtain airbags, Driver frontal airbag, Front passenger frontal airbag, Front passenger side airbag, Rear passenger side airbags, Driver knee airbag, Drive side airbag',\n",
       "       'Driver frontal airbag, Front passenger frontal airbag, Drive side airbag, Front passenger side airbag, Driver knee airbag, Curtain airbags',\n",
       "       'Driver frontal airbag, Front passenger side airbag, Driver knee airbag, Drive side airbag, Curtain airbags',\n",
       "       'Drive side airbag, Curtain airbags, Driver frontal airbag, Front passenger side airbag, Driver knee airbag',\n",
       "       'Driver frontal airbag, Front passenger side airbag, Driver knee airbag',\n",
       "       'Drive side airbag, Front passenger curtain airbag, Rear passenger curtain airbags, Driver frontal airbag, Front passenger frontal airbag, Front passenger side airbag',\n",
       "       'Drive side airbag, Front passenger curtain airbag, Driver curtain airbag, Rear passenger curtain airbags, Driver frontal airbag, Front passenger frontal airbag, Front passenger side airbag',\n",
       "       'Drive side airbag, Front passenger curtain airbag, Rear passenger curtain airbags, Driver frontal airbag, Front passenger side airbag',\n",
       "       'Drive side airbag, Front passenger curtain airbag, Driver frontal airbag, Rear passenger curtain airbags, Front passenger side airbag',\n",
       "       'Drive side airbag, Driver frontal airbag, Front passenger curtain airbag, Front passenger side airbag, Rear passenger curtain airbags'],\n",
       "      dtype=object)"
      ]
     },
     "execution_count": 46,
     "metadata": {},
     "output_type": "execute_result"
    }
   ],
   "source": [
    "df['Airbags'].unique()"
   ]
  },
  {
   "cell_type": "code",
   "execution_count": null,
   "metadata": {},
   "outputs": [],
   "source": []
  }
 ],
 "metadata": {
  "kernelspec": {
   "display_name": "venv",
   "language": "python",
   "name": "python3"
  },
  "language_info": {
   "codemirror_mode": {
    "name": "ipython",
    "version": 3
   },
   "file_extension": ".py",
   "mimetype": "text/x-python",
   "name": "python",
   "nbconvert_exporter": "python",
   "pygments_lexer": "ipython3",
   "version": "3.10.6"
  }
 },
 "nbformat": 4,
 "nbformat_minor": 2
}
